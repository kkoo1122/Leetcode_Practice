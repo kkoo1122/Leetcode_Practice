{
 "cells": [
  {
   "cell_type": "markdown",
   "metadata": {},
   "source": [
    "# Medium\n",
    "Given a triangle, find the minimum path sum from top to bottom. Each step you may move to adjacent numbers on the row below.\n",
    "\n",
    "For example, given the following triangle\n",
    "\n",
    "    [\n",
    "         [2],\n",
    "        [3,4],\n",
    "       [6,5,7],\n",
    "      [4,1,8,3]\n",
    "    ]\n",
    "\n",
    "The minimum path sum from top to bottom is 11 (i.e., 2 + 3 + 5 + 1 = 11).\n",
    "\n",
    "Note:\n",
    "\n",
    "Bonus point if you are able to do this using only O(n) extra space, where n is the total number of rows in the triangle."
   ]
  },
  {
   "cell_type": "markdown",
   "metadata": {},
   "source": [
    "# Thought\n",
    "\n",
    "    transfer function:\n",
    "    dp(height,width) = triangel[height][width] + min(dp[height-1][width-1],dp[height-1][width])\n",
    "    \n",
    "    triangle:\n",
    "    [[2],\n",
    "     [3,4],\n",
    "     [6,5,7],\n",
    "     [4,1,8,3]]\n",
    "     \n",
    "    dp:\n",
    "    [[2, 0, 0, 0], \n",
    "     [5, 6, 0, 0], \n",
    "     [11, 10, 13, 0], \n",
    "     [15, 11, 18, 16]]\n",
    "\n",
    "To do:\n",
    "make extra space O(n)"
   ]
  },
  {
   "cell_type": "code",
   "execution_count": 2,
   "metadata": {},
   "outputs": [
    {
     "name": "stdout",
     "output_type": "stream",
     "text": [
      "[[2, 0, 0, 0], [5, 6, 0, 0], [11, 10, 13, 0], [15, 11, 18, 16]]\n"
     ]
    },
    {
     "data": {
      "text/plain": [
       "11"
      ]
     },
     "execution_count": 2,
     "metadata": {},
     "output_type": "execute_result"
    }
   ],
   "source": [
    "def minimumTotal(triangle):\n",
    "\n",
    "    if not triangle: return None\n",
    "\n",
    "    dp = [[0 for _ in range(len(triangle[-1]))] for _ in range(len(triangle))]\n",
    "\n",
    "    dp[0][0] = triangle[0][0]\n",
    "    for height in range(1,len(triangle)):            \n",
    "        for width in range(height+1):\n",
    "            if width == 0:\n",
    "                dp[height][0] = dp[height-1][0] + triangle[height][0]\n",
    "\n",
    "            elif height == width:\n",
    "                dp[height][width] = dp[height-1][width-1] + triangle[height][width]\n",
    "\n",
    "            else:\n",
    "                dp[height][width] =  triangle[height][width] + min(dp[height-1][width],dp[height-1][width-1])\n",
    "\n",
    "\n",
    "    \n",
    "    print(dp)\n",
    "\n",
    "    return min(dp[-1])\n",
    "\n",
    "minimumTotal([[2],[3,4],[6,5,7],[4,1,8,3]])\n"
   ]
  }
 ],
 "metadata": {
  "kernelspec": {
   "display_name": "Python 3",
   "language": "python",
   "name": "python3"
  },
  "language_info": {
   "codemirror_mode": {
    "name": "ipython",
    "version": 3
   },
   "file_extension": ".py",
   "mimetype": "text/x-python",
   "name": "python",
   "nbconvert_exporter": "python",
   "pygments_lexer": "ipython3",
   "version": "3.6.3"
  }
 },
 "nbformat": 4,
 "nbformat_minor": 2
}
