{
 "cells": [
  {
   "cell_type": "markdown",
   "metadata": {},
   "source": [
    "There are a row of n houses, each house can be painted with one of the three colors: red, blue or green. The cost of painting each house with a certain color is different. You have to paint all the houses such that no two adjacent houses have the same color.\n",
    "\n",
    "The cost of painting each house with a certain color is represented by a n x 3 cost matrix. For example, costs[0][0] is the cost of painting house 0 with color red; costs[1][2] is the cost of painting house 1 with color green, and so on... Find the minimum cost to paint all houses.\n",
    "\n",
    "Note:\n",
    "All costs are positive integers.\n",
    "\n",
    "**Example:**\n",
    "\n",
    "    Input: [[17,2,17],[16,16,5],[14,3,19]]\n",
    "    Output: 10\n",
    "    \n",
    "Explanation: Paint house 0 into blue, paint house 1 into green, paint house 2 into blue. \n",
    "             Minimum cost: 2 + 5 + 3 = 10."
   ]
  },
  {
   "cell_type": "markdown",
   "metadata": {},
   "source": [
    "### Thought\n",
    "Calculating three results which start from each color. The most crucial part of caculation is that the adjacent houses cannot have the same color. Therefore, we need to avoid this type of condition."
   ]
  },
  {
   "cell_type": "code",
   "execution_count": null,
   "metadata": {
    "collapsed": true
   },
   "outputs": [],
   "source": [
    "def minCost(self, costs):\n",
    "    \"\"\"\n",
    "    :type costs: List[List[int]]\n",
    "    :rtype: int\n",
    "    \"\"\"\n",
    "    if not costs:\n",
    "        return 0\n",
    "    if len(costs)==1:\n",
    "        return min(costs[0])\n",
    "\n",
    "    prev=costs[0][:]\n",
    "    dp=[0]*3\n",
    "\n",
    "    for i in range(len(costs)-1):\n",
    "        dp[0]=min(prev[1],prev[2])+costs[i+1][0]\n",
    "        dp[1]=min(prev[0],prev[2])+costs[i+1][1]\n",
    "        dp[2]=min(prev[0],prev[1])+costs[i+1][2]\n",
    "        prev[:]=dp[:]\n",
    "\n",
    "    return min(dp)"
   ]
  }
 ],
 "metadata": {
  "kernelspec": {
   "display_name": "Python 3",
   "language": "python",
   "name": "python3"
  },
  "language_info": {
   "codemirror_mode": {
    "name": "ipython",
    "version": 3
   },
   "file_extension": ".py",
   "mimetype": "text/x-python",
   "name": "python",
   "nbconvert_exporter": "python",
   "pygments_lexer": "ipython3",
   "version": "3.6.3"
  }
 },
 "nbformat": 4,
 "nbformat_minor": 2
}
