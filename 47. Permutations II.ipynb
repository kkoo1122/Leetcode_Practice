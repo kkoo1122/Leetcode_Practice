{
 "cells": [
  {
   "cell_type": "markdown",
   "metadata": {},
   "source": [
    "Given a collection of numbers that might contain duplicates, return all possible unique permutations.\n",
    "\n",
    "**Example:**\n",
    "\n",
    "    Input: [1,1,2]\n",
    "    Output:\n",
    "    [\n",
    "      [1,1,2],\n",
    "      [1,2,1],\n",
    "      [2,1,1]\n",
    "    ]"
   ]
  },
  {
   "cell_type": "markdown",
   "metadata": {},
   "source": [
    "### Thought\n",
    "Similar to 46. Permutations but additional hash table for memoization."
   ]
  },
  {
   "cell_type": "code",
   "execution_count": null,
   "metadata": {
    "collapsed": true
   },
   "outputs": [],
   "source": [
    "def permuteUnique(self, nums):\n",
    "        \"\"\"\n",
    "        :type nums: List[int]\n",
    "        :rtype: List[List[int]]\n",
    "        \"\"\"\n",
    "    def helper(numlis,ans,res,cache):\n",
    "        if str(ans) in cache: return\n",
    "        if not numlis:\n",
    "            res.append(ans[:])\n",
    "            cache[str(ans)]=1\n",
    "        for i in range(len(numlis)):\n",
    "            if i!=0 and numlis[i]==numlis[i-1]:\n",
    "                continue\n",
    "            temp=numlis[:i]+numlis[i+1:]\n",
    "            helper(temp,ans+[numlis[i]],res,cache) #numlis[:i]+numlis[i+1:] 一次跳過一個數字      \n",
    "        return res\n",
    "\n",
    "    return helper(nums,[],[],{})"
   ]
  },
  {
   "cell_type": "code",
   "execution_count": null,
   "metadata": {
    "collapsed": true
   },
   "outputs": [],
   "source": [
    "def permuteUnique(self, nums):\n",
    "    \"\"\"\n",
    "    :type nums: List[int]\n",
    "    :rtype: List[List[int]]\n",
    "    \"\"\"    \n",
    "    res=[]\n",
    "    def helper(nums,ans):\n",
    "        if not nums:\n",
    "            res.append(ans)\n",
    "            return\n",
    "        cache=set()\n",
    "        for i,e in enumerate(nums):\n",
    "            if e not in cache:\n",
    "                cache.add(e)\n",
    "                helper(nums[:i]+nums[i+1:],ans+[e])\n",
    "\n",
    "    helper(nums,[])\n",
    "    return res"
   ]
  }
 ],
 "metadata": {
  "kernelspec": {
   "display_name": "Python 3",
   "language": "python",
   "name": "python3"
  },
  "language_info": {
   "codemirror_mode": {
    "name": "ipython",
    "version": 3
   },
   "file_extension": ".py",
   "mimetype": "text/x-python",
   "name": "python",
   "nbconvert_exporter": "python",
   "pygments_lexer": "ipython3",
   "version": "3.6.3"
  }
 },
 "nbformat": 4,
 "nbformat_minor": 2
}
