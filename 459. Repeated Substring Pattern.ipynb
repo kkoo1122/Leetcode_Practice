{
 "cells": [
  {
   "cell_type": "markdown",
   "metadata": {},
   "source": [
    "Given a non-empty string check if it can be constructed by taking a substring of it and appending multiple copies of the substring together. You may assume the given string consists of lowercase English letters only and its length will not exceed 10000.\n",
    "\n",
    ">**Example 1:**\n",
    "\n",
    ">        Input: \"abab\"\n",
    ">        Output: True\n",
    "\n",
    ">**Explanation:** It's the substring \"ab\" twice.\n",
    "\n",
    ">**Example 2:**\n",
    "\n",
    ">        Input: \"aba\"\n",
    ">        Output: False\n",
    "\n",
    ">**Example 3:**\n",
    "\n",
    ">        Input: \"abcabcabcabc\"\n",
    ">        Output: True\n",
    "\n",
    ">**Explanation:** It's the substring \"abc\" four times. (And the substring \"abcabc\" twice.)"
   ]
  },
  {
   "cell_type": "markdown",
   "metadata": {},
   "source": [
    "### Thought\n",
    "1. KMP (still need to think about it)\n",
    "2. using str.find"
   ]
  },
  {
   "cell_type": "code",
   "execution_count": null,
   "metadata": {
    "collapsed": true
   },
   "outputs": [],
   "source": [
    "#KMP\n",
    "def repeatedSubstringPattern(self, str):\n",
    "    \"\"\"\n",
    "    :type str: str\n",
    "    :rtype: bool\n",
    "    \"\"\"\n",
    "    def computeLPS(str):\n",
    "        lps=[0]*len(str)\n",
    "        i=1\n",
    "        length=0\n",
    "\n",
    "        while i<len(str):\n",
    "            if str[i]==str[length]:\n",
    "                length+=1\n",
    "                lps[i]=length\n",
    "                i+=1\n",
    "            else:\n",
    "                if length:\n",
    "                    length=lps[length-1]\n",
    "                else:\n",
    "                    lps[i]=0\n",
    "                    i+=1\n",
    "        return lps \n",
    "\n",
    "    lps = computeLPS(str)\n",
    "    n = len(str)\n",
    "    lenn = lps[-1]\n",
    "    if lenn and n%(n-lenn)==0:\n",
    "        return True \n",
    "    else:\n",
    "        return False "
   ]
  },
  {
   "cell_type": "code",
   "execution_count": null,
   "metadata": {
    "collapsed": true
   },
   "outputs": [],
   "source": [
    "def repeatedSubstringPattern(self, s):\n",
    "    \"\"\"\n",
    "    :type s: str\n",
    "    :rtype: bool\n",
    "    \"\"\"\n",
    "    ss=(s+s)[1:-1]\n",
    "\n",
    "    return ss.find(s)!=-1"
   ]
  }
 ],
 "metadata": {
  "kernelspec": {
   "display_name": "Python 3",
   "language": "python",
   "name": "python3"
  },
  "language_info": {
   "codemirror_mode": {
    "name": "ipython",
    "version": 3
   },
   "file_extension": ".py",
   "mimetype": "text/x-python",
   "name": "python",
   "nbconvert_exporter": "python",
   "pygments_lexer": "ipython3",
   "version": "3.6.3"
  }
 },
 "nbformat": 4,
 "nbformat_minor": 2
}
