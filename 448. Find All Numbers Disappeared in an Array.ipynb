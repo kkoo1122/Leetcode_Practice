{
 "cells": [
  {
   "cell_type": "markdown",
   "metadata": {},
   "source": [
    "Given an array of integers where 1 ≤ a[i] ≤ n (n = size of array), some elements appear twice and others appear once.\n",
    "\n",
    "Find all the elements of [1, n] inclusive that do not appear in this array.\n",
    "\n",
    "Could you do it **without extra space and in O(n) runtime?** You may assume the returned list does not count as extra space.\n",
    "\n",
    "Example:\n",
    "\n",
    "    Input:[4,3,2,7,8,2,3,1]\n",
    "\n",
    "    Output:[5,6]"
   ]
  },
  {
   "cell_type": "markdown",
   "metadata": {},
   "source": [
    "### Thoughts\n",
    "After the code below:\n",
    "\n",
    "    for n in nums:\n",
    "            nums[abs(n) - 1] = -abs(nums[abs(n) - 1])\n",
    "\n",
    "Input: [4,3,2,7,8,2,3,1] will become [-4,-3,-2,-7,**8, 2,** -3, -1]. There are two numbers shown as positive number. Their [locations + 1] in the list represent the missing numbers."
   ]
  },
  {
   "cell_type": "code",
   "execution_count": null,
   "metadata": {
    "collapsed": true
   },
   "outputs": [],
   "source": [
    "def findDisappearedNumbers(self, nums):\n",
    "        \"\"\"\n",
    "        :type nums: List[int]\n",
    "        :rtype: List[int]\n",
    "        \"\"\"\n",
    "        for n in nums:\n",
    "            nums[abs(n) - 1] = -abs(nums[abs(n) - 1])\n",
    "        res = []\n",
    "        for i in range(len(nums)):\n",
    "            if nums[i] > 0:\n",
    "                res.append(i+1)\n",
    "        \n",
    "        return res\n",
    "        "
   ]
  }
 ],
 "metadata": {
  "kernelspec": {
   "display_name": "Python 3",
   "language": "python",
   "name": "python3"
  },
  "language_info": {
   "codemirror_mode": {
    "name": "ipython",
    "version": 3
   },
   "file_extension": ".py",
   "mimetype": "text/x-python",
   "name": "python",
   "nbconvert_exporter": "python",
   "pygments_lexer": "ipython3",
   "version": "3.6.3"
  }
 },
 "nbformat": 4,
 "nbformat_minor": 2
}
