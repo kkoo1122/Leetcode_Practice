{
 "cells": [
  {
   "cell_type": "markdown",
   "metadata": {},
   "source": []
  },
  {
   "cell_type": "code",
   "execution_count": 12,
   "metadata": {},
   "outputs": [
    {
     "name": "stdout",
     "output_type": "stream",
     "text": [
      "-4\n"
     ]
    }
   ],
   "source": [
    "class NumArray:\n",
    "    def __init__(self, nums):\n",
    "        self.nums=nums              \n",
    "\n",
    "    def sumRange(self, i, j):\n",
    "        return sum(self.nums[i:j+1])\n",
    "        \n",
    "# Your NumArray object will be instantiated and called as such:\n",
    "obj = NumArray([-2, 0, 3, -5, 2, -1])\n",
    "param_1 = obj.sumRange(0,3)\n",
    "print(param_1)"
   ]
  },
  {
   "cell_type": "code",
   "execution_count": null,
   "metadata": {
    "collapsed": true
   },
   "outputs": [],
   "source": [
    "#Hash table\n",
    "def __init__(self, nums):\n",
    "        \"\"\"\n",
    "        :type nums: List[int]\n",
    "        \"\"\"\n",
    "        self.table={-1:0}\n",
    "        self.nums=nums\n",
    "        for k in range(len(nums)):\n",
    "            self.table[k] = self.table[k-1]+nums[k]\n",
    "    \n",
    "\n",
    "def sumRange(self, i, j):\n",
    "    \"\"\"\n",
    "    :type i: int\n",
    "    :type j: int\n",
    "    :rtype: int\n",
    "    \"\"\"\n",
    "    return self.table[j]-self.table[i-1]"
   ]
  },
  {
   "cell_type": "code",
   "execution_count": null,
   "metadata": {
    "collapsed": true
   },
   "outputs": [],
   "source": [
    "def __init__(self, nums):\n",
    "        \"\"\"\n",
    "        :type nums: List[int]\n",
    "        \"\"\"\n",
    "        self.dp=nums\n",
    "        for i in range(1,len(nums)):\n",
    "            self.dp[i]=self.dp[i-1]+nums[i]\n",
    "    \n",
    "\n",
    "def sumRange(self, i, j):\n",
    "    \"\"\"\n",
    "    :type i: int\n",
    "    :type j: int\n",
    "    :rtype: int\n",
    "    \"\"\"\n",
    "    return self.dp[j]-self.dp[i-1] if i!=0 else self.dp[j]"
   ]
  }
 ],
 "metadata": {
  "kernelspec": {
   "display_name": "Python 3",
   "language": "python",
   "name": "python3"
  },
  "language_info": {
   "codemirror_mode": {
    "name": "ipython",
    "version": 3
   },
   "file_extension": ".py",
   "mimetype": "text/x-python",
   "name": "python",
   "nbconvert_exporter": "python",
   "pygments_lexer": "ipython3",
   "version": "3.6.3"
  }
 },
 "nbformat": 4,
 "nbformat_minor": 2
}
