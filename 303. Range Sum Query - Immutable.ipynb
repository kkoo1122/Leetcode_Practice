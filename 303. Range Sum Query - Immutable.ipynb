{
 "cells": [
  {
   "cell_type": "code",
   "execution_count": 12,
   "metadata": {},
   "outputs": [
    {
     "name": "stdout",
     "output_type": "stream",
     "text": [
      "-4\n"
     ]
    }
   ],
   "source": [
    "class NumArray:\n",
    "    def __init__(self, nums):\n",
    "        self.nums=nums              \n",
    "\n",
    "    def sumRange(self, i, j):\n",
    "        return sum(self.nums[i:j+1])\n",
    "        \n",
    "# Your NumArray object will be instantiated and called as such:\n",
    "obj = NumArray([-2, 0, 3, -5, 2, -1])\n",
    "param_1 = obj.sumRange(0,3)\n",
    "print(param_1)"
   ]
  },
  {
   "cell_type": "code",
   "execution_count": null,
   "metadata": {
    "collapsed": true
   },
   "outputs": [],
   "source": [
    "class Demo:\n",
    "    def __init__(self,name,stop):\n",
    "        self.name=name\n",
    "    def hello(self):\n",
    "        print(\"hello\",self.name)\n",
    "\n",
    "\n",
    "d = Demo(\"Tom\")\n",
    "print(type(Demo))\n",
    "print(type(d))\n",
    "print(d.name)\n",
    "d.hello()"
   ]
  }
 ],
 "metadata": {
  "kernelspec": {
   "display_name": "Python 3",
   "language": "python",
   "name": "python3"
  },
  "language_info": {
   "codemirror_mode": {
    "name": "ipython",
    "version": 3
   },
   "file_extension": ".py",
   "mimetype": "text/x-python",
   "name": "python",
   "nbconvert_exporter": "python",
   "pygments_lexer": "ipython3",
   "version": "3.6.3"
  }
 },
 "nbformat": 4,
 "nbformat_minor": 2
}
