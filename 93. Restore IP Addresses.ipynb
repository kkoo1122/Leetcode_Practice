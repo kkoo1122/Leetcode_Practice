{
 "cells": [
  {
   "cell_type": "markdown",
   "metadata": {},
   "source": [
    "Given a string containing only digits, restore it by returning all possible valid IP address combinations.\n",
    "\n",
    "**Example:**\n",
    "\n",
    "    Input: \"25525511135\"\n",
    "    Output: [\"255.255.11.135\", \"255.255.111.35\"]"
   ]
  },
  {
   "cell_type": "markdown",
   "metadata": {},
   "source": [
    "### Thought\n",
    "\n",
    "it's easy to understand by using code below.<br>\n",
    "DFS and with some condition constain with IP's protocal."
   ]
  },
  {
   "cell_type": "code",
   "execution_count": null,
   "metadata": {},
   "outputs": [],
   "source": [
    "def restoreIpAddresses(self, s):\n",
    "    \"\"\"\n",
    "    :type s: str\n",
    "    :rtype: List[str]\n",
    "    \"\"\"\n",
    "    if len(s)>12 or len(s)<4:\n",
    "        return []       \n",
    "    return self.dfs(s,'',[],0)\n",
    "\n",
    "\n",
    "def dfs(self,s,ans,res,index):\n",
    "    if index==4:\n",
    "        if not s:                \n",
    "            res.append(ans[:-1])\n",
    "        return\n",
    "    for i in range(1,4):\n",
    "        if i <= len(s):\n",
    "            if i == 1:\n",
    "                self.dfs(s[i:],ans+s[:i]+'.',res,index+1)            \n",
    "            elif i == 2 and s[0]!='0':\n",
    "                self.dfs(s[i:],ans+s[:i]+'.',res,index+1)\n",
    "            elif i == 3 and s[0]!='0' and (int(s[:i])<=255):\n",
    "                self.dfs(s[i:],ans+s[:i]+'.',res,index+1)        \n",
    "    return res"
   ]
  }
 ],
 "metadata": {
  "kernelspec": {
   "display_name": "Python 3",
   "language": "python",
   "name": "python3"
  },
  "language_info": {
   "codemirror_mode": {
    "name": "ipython",
    "version": 3
   },
   "file_extension": ".py",
   "mimetype": "text/x-python",
   "name": "python",
   "nbconvert_exporter": "python",
   "pygments_lexer": "ipython3",
   "version": "3.6.3"
  }
 },
 "nbformat": 4,
 "nbformat_minor": 2
}
