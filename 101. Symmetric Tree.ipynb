{
 "cells": [
  {
   "cell_type": "code",
   "execution_count": null,
   "metadata": {
    "collapsed": true
   },
   "outputs": [],
   "source": [
    "def isSymmetric(self, root):\n",
    "    \"\"\"\n",
    "    :type root: TreeNode\n",
    "    :rtype: bool\n",
    "    \"\"\"\n",
    "    if not root: \n",
    "        return True\n",
    "    else:\n",
    "        return self.mirror(root.right,root.left)\n",
    "    \n",
    "def mirror(self,right,left):\n",
    "\n",
    "    if not right and not left: return True\n",
    "\n",
    "    if not right or not left: return False\n",
    "\n",
    "    if right.val == left.val:\n",
    "        outer=self.mirror(right.right,left.left)\n",
    "        inner=self.mirror(right.left,left.right)        \n",
    "        return outer and inner\n",
    "    else:\n",
    "        return False"
   ]
  }
 ],
 "metadata": {
  "kernelspec": {
   "display_name": "Python 3",
   "language": "python",
   "name": "python3"
  },
  "language_info": {
   "codemirror_mode": {
    "name": "ipython",
    "version": 3
   },
   "file_extension": ".py",
   "mimetype": "text/x-python",
   "name": "python",
   "nbconvert_exporter": "python",
   "pygments_lexer": "ipython3",
   "version": "3.6.3"
  }
 },
 "nbformat": 4,
 "nbformat_minor": 2
}
