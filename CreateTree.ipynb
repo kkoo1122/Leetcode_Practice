{
 "cells": [
  {
   "cell_type": "code",
   "execution_count": 1,
   "metadata": {},
   "outputs": [
    {
     "data": {
      "text/plain": [
       "6"
      ]
     },
     "execution_count": 1,
     "metadata": {},
     "output_type": "execute_result"
    }
   ],
   "source": [
    "class TreeNode:\n",
    "    def __init__(self, x):\n",
    "        self.val=x\n",
    "        self.left = None\n",
    "        self.right = None\n",
    "        \n",
    "\n",
    "class CT:\n",
    "    def __init__(self,nums):\n",
    "            self.nums=nums\n",
    "    def CreateTree(self,root,i):\n",
    "        if i < len(self.nums):\n",
    "            temp=TreeNode(self.nums[i])\n",
    "            root=temp\n",
    "            root.left = self.CreateTree(root.left,2*i+1)\n",
    "            root.right = self.CreateTree(root.right,2*i+2)                \n",
    "        return root\n",
    "\n",
    "obj=CT([1,None,5,6])\n",
    "root=obj.CreateTree(0,0)\n",
    "p1=root.left.left.val\n",
    "p1"
   ]
  }
 ],
 "metadata": {
  "kernelspec": {
   "display_name": "Python 3",
   "language": "python",
   "name": "python3"
  },
  "language_info": {
   "codemirror_mode": {
    "name": "ipython",
    "version": 3
   },
   "file_extension": ".py",
   "mimetype": "text/x-python",
   "name": "python",
   "nbconvert_exporter": "python",
   "pygments_lexer": "ipython3",
   "version": "3.6.3"
  }
 },
 "nbformat": 4,
 "nbformat_minor": 2
}
