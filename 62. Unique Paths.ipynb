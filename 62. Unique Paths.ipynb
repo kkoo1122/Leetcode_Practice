{
 "cells": [
  {
   "cell_type": "markdown",
   "metadata": {},
   "source": [
    "# 62. Unique Paths\n",
    "A robot is located at the top-left corner of a m x n grid (marked 'Start' in the diagram below).\n",
    "<bl>\n",
    "The robot can only move either down or right at any point in time. The robot is trying to reach the bottom-right corner of the grid (marked 'Finish' in the diagram below).\n",
    "<bl>\n",
    "How many possible unique paths are there?\n",
    "\n",
    "![](https://leetcode.com/static/images/problemset/robot_maze.png)\n",
    "\n",
    "\n",
    "\n",
    "<b>Example for Solutions:\n",
    "\n",
    "| Example | m=3 | n=4 |      |\n",
    "|:-------:|:---:|:---:|:----:|\n",
    "|    S    |  1  |  1  |   1  |\n",
    "|    1    |  2  |  3  |   4  |\n",
    "|    1    |  3  |  6  | F=10 |\n",
    "\n",
    "\n",
    "\n"
   ]
  },
  {
   "cell_type": "code",
   "execution_count": null,
   "metadata": {
    "collapsed": true
   },
   "outputs": [],
   "source": [
    "class Solution:\n",
    "    def uniquePaths(self, m, n):\n",
    "        \"\"\"\n",
    "        :type m: int\n",
    "        :type n: int\n",
    "        :rtype: int\n",
    "        \"\"\"\n",
    "        paths=[[1 for i in range(m)] for j in range(n)]      \n",
    "        \n",
    "        #print(paths)\n",
    "        for j in range(1,m):            \n",
    "            for i in range(1,n):                \n",
    "                paths[i][j]=paths[i-1][j]+paths[i][j-1]               \n",
    "                    \n",
    "        return paths[-1][-1]\n",
    "        '''\n",
    "        paths=[[0 for i in range(m)] for j in range(n)]      \n",
    "        \n",
    "        #print(paths)\n",
    "        for j in range(0,m):            \n",
    "            for i in range(0,n):                \n",
    "                if i ==0 or j ==0:\n",
    "                    paths[i][j]=1\n",
    "                else:\n",
    "                    paths[i][j]=paths[i-1][j]+paths[i][j-1]               \n",
    "                    \n",
    "        return paths[-1][-1]\n",
    "        '''\n",
    "    #Recursive-- Time Limit Exceed\n",
    "        '''\n",
    "        self.path = 0\n",
    "        self.count(m,n)            \n",
    "        return self.path\n",
    "    \n",
    "    def count(self,m,n):\n",
    "        if m-1 == 0:\n",
    "            self.path+=1\n",
    "            return\n",
    "        if n-1 == 0:\n",
    "            self.path+=1\n",
    "            return\n",
    "        \n",
    "        if m-1>0:\n",
    "            self.count(m-1,n)\n",
    "        if n-1>0:\n",
    "            self.count(m,n-1)\n",
    "        '''"
   ]
  }
 ],
 "metadata": {
  "kernelspec": {
   "display_name": "Python 3",
   "language": "python",
   "name": "python3"
  },
  "language_info": {
   "codemirror_mode": {
    "name": "ipython",
    "version": 3
   },
   "file_extension": ".py",
   "mimetype": "text/x-python",
   "name": "python",
   "nbconvert_exporter": "python",
   "pygments_lexer": "ipython3",
   "version": "3.6.3"
  }
 },
 "nbformat": 4,
 "nbformat_minor": 2
}
