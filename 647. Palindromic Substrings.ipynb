{
 "cells": [
  {
   "cell_type": "code",
   "execution_count": null,
   "metadata": {
    "collapsed": true
   },
   "outputs": [],
   "source": [
    "def countSubstrings(self, s):\n",
    "        \"\"\"\n",
    "        :type s: str\n",
    "        :rtype: int\n",
    "        \"\"\"\n",
    "        #if s[::]==s[::-1]: print(True) # see if it's palindrome\n",
    "        #else: print(False)\n",
    "        '''\n",
    "        cnt=0\n",
    "        for j in range(len(s)+1):\n",
    "            for i in range(j):\n",
    "                if s[i:j]==s[i:j][::-1]:\n",
    "                    cnt+=1\n",
    "        return cnt\n",
    "        '''\n",
    "        if not s:\n",
    "            return 0\n",
    "\n",
    "        n = len(s)\n",
    "        table = [[False for x in range(n)] for y in range(n)]\n",
    "        count = 0\n",
    "\n",
    "        # Every isolated char is a palindrome\n",
    "        for i in range(n):\n",
    "            table[i][i] = True\n",
    "            count += 1\n",
    "\n",
    "        # Check for a window of size 2\n",
    "        for i in range(n-1):\n",
    "            if s[i] == s[i+1]:\n",
    "                table[i][i+1] = True\n",
    "                count += 1\n",
    "\n",
    "        # Check windows of size 3 and more\n",
    "        for k in range(3, n+1):\n",
    "            for i in range(n-k+1):\n",
    "                j = i+k-1\n",
    "                if table[i+1][j-1] and s[i] == s[j]:\n",
    "                    table[i][j] = True\n",
    "                    count += 1\n",
    "\n",
    "        return count"
   ]
  }
 ],
 "metadata": {
  "kernelspec": {
   "display_name": "Python 3",
   "language": "python",
   "name": "python3"
  },
  "language_info": {
   "codemirror_mode": {
    "name": "ipython",
    "version": 3
   },
   "file_extension": ".py",
   "mimetype": "text/x-python",
   "name": "python",
   "nbconvert_exporter": "python",
   "pygments_lexer": "ipython3",
   "version": "3.6.3"
  }
 },
 "nbformat": 4,
 "nbformat_minor": 2
}
