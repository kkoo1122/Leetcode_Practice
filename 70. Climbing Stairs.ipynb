{
 "cells": [
  {
   "cell_type": "code",
   "execution_count": 11,
   "metadata": {},
   "outputs": [
    {
     "name": "stdout",
     "output_type": "stream",
     "text": [
      "3\n",
      "5\n",
      "8\n",
      "13\n",
      "Time: 0.1936 ms\n"
     ]
    }
   ],
   "source": [
    "import timeit\n",
    "n=6\n",
    "\"\"\"\n",
    "FN=[1,2]\n",
    "for i in range(2,n):\n",
    "    an=FN[i-1]+FN[i-2]\n",
    "    FN.append(an)\n",
    "\n",
    "print(FN[-1])\n",
    "\"\"\"\n",
    "\n",
    "an1,an2=2,1\n",
    "start=timeit.default_timer()\n",
    "for i in range(3,n+1):\n",
    "    an=an1+an2\n",
    "    an1,an2=an,an1            \n",
    "    #an=FN[i-1]+FN[i-2]\n",
    "    #FN.append(an)\n",
    "    print(an)\n",
    "\n",
    "stop=timeit.default_timer()\n",
    "print('Time:',round((stop-start)*1000,4),'ms')"
   ]
  },
  {
   "cell_type": "code",
   "execution_count": null,
   "metadata": {
    "collapsed": true
   },
   "outputs": [],
   "source": [
    "#recursive solution\n",
    "def climbStairs(n):\n",
    "    if n<=3: return n\n",
    "    else: return climbStairs(n-1)+climbStairs(n-2)\n",
    "    \n",
    "\n",
    "climbStairs(3)"
   ]
  }
 ],
 "metadata": {
  "kernelspec": {
   "display_name": "Python 3",
   "language": "python",
   "name": "python3"
  },
  "language_info": {
   "codemirror_mode": {
    "name": "ipython",
    "version": 3
   },
   "file_extension": ".py",
   "mimetype": "text/x-python",
   "name": "python",
   "nbconvert_exporter": "python",
   "pygments_lexer": "ipython3",
   "version": "3.6.3"
  }
 },
 "nbformat": 4,
 "nbformat_minor": 2
}
