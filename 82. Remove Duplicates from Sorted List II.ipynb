{
 "cells": [
  {
   "cell_type": "markdown",
   "metadata": {},
   "source": [
    "# Medium\n",
    "\n",
    "Given a sorted linked list, delete all nodes that have duplicate numbers, leaving only distinct numbers from the original list.\n",
    "\n",
    "Example 1:\n",
    "\n",
    "    Input: 1->2->3->3->4->4->5\n",
    "    Output: 1->2->5\n",
    "\n",
    "Example 2:\n",
    "\n",
    "    Input: 1->1->1->2->3\n",
    "    Output: 2->3"
   ]
  },
  {
   "cell_type": "markdown",
   "metadata": {},
   "source": [
    "# Thought\n",
    "\n",
    "set a current pointer, previous point and a flag. If we found duplicated number, then we set flag as 1. And the current pointer would keep moving forward until we found the number is not the same. Then we go down to the next line of the code. We can see that if flag equals 1, then the previous.next would be the current.next since we want to eliminate evey number which are duplicated.\n",
    "\n",
    "After the while loop, we need to check if flag is 1 or not because the duplicated number might go thourgh the list till the end. Therefore, we need to check whether the duplicated flag is on or not."
   ]
  },
  {
   "cell_type": "code",
   "execution_count": null,
   "metadata": {},
   "outputs": [],
   "source": [
    "class Solution:\n",
    "    def deleteDuplicates(self, head: ListNode) -> ListNode:\n",
    "        if not head or not head.next: return head\n",
    "        \n",
    "        dummy = pre = ListNode(0)\n",
    "        dummy.next = head\n",
    "        \n",
    "        cur = head\n",
    "        flag = 0\n",
    "        \n",
    "        while cur and cur.next:\n",
    "            if cur.val == cur.next.val:\n",
    "                cur = cur.next\n",
    "                flag = 1\n",
    "            else:\n",
    "                if flag == 1:\n",
    "                    pre.next = cur.next\n",
    "                    cur = cur.next\n",
    "                    flag = 0 \n",
    "                else:\n",
    "                    pre = cur\n",
    "                    cur = cur.next\n",
    "        if flag == 1:\n",
    "            pre.next = cur.next\n",
    "            cur = cur.next       \n",
    "        \n",
    "            \n",
    "            \n",
    "        \n",
    "        return dummy.next"
   ]
  }
 ],
 "metadata": {
  "kernelspec": {
   "display_name": "Python 3",
   "language": "python",
   "name": "python3"
  },
  "language_info": {
   "codemirror_mode": {
    "name": "ipython",
    "version": 3
   },
   "file_extension": ".py",
   "mimetype": "text/x-python",
   "name": "python",
   "nbconvert_exporter": "python",
   "pygments_lexer": "ipython3",
   "version": "3.6.3"
  }
 },
 "nbformat": 4,
 "nbformat_minor": 2
}
