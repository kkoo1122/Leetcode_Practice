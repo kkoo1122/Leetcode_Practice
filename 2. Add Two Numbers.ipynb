{
 "cells": [
  {
   "cell_type": "markdown",
   "metadata": {},
   "source": [
    "# Medium\n",
    "You are given two non-empty linked lists representing two non-negative integers. The digits are stored in reverse order and each of their nodes contain a single digit. Add the two numbers and return it as a linked list.\n",
    "\n",
    "You may assume the two numbers do not contain any leading zero, except the number 0 itself.\n",
    "\n",
    "Example:\n",
    "\n",
    "    Input: (2 -> 4 -> 3) + (5 -> 6 -> 4)\n",
    "    Output: 7 -> 0 -> 8\n",
    "    Explanation: 342 + 465 = 807."
   ]
  },
  {
   "cell_type": "markdown",
   "metadata": {},
   "source": [
    "# Thought\n",
    "- Our first thought was that we need to make sure l1 must longer or equal to l2 since we want to add number on the l1 (we do not want to create a new link list). Therefore, the first while loop is doing the job that goes through both link list. \n",
    "\n",
    "- If l2 longer than l1, then swap.\n",
    "\n",
    "- Set addition number = 1 if l1.val + l2.val >= 10.\n",
    "\n",
    "- In the end, we need to make sure whether our addition is >= 10 or not. Therefore, do the same process as while loop again. If it is >= 10, then we need an additional list node to store our extra 1. \n"
   ]
  },
  {
   "cell_type": "code",
   "execution_count": null,
   "metadata": {},
   "outputs": [],
   "source": [
    "# Definition for singly-linked list.\n",
    "# class ListNode:\n",
    "#     def __init__(self, x):\n",
    "#         self.val = x\n",
    "#         self.next = None\n",
    "\n",
    "class Solution:\n",
    "    def addTwoNumbers(self, l1: ListNode, l2: ListNode) -> ListNode:\n",
    "        \n",
    "        cur1 , cur2 = l1 , l2\n",
    "        c1 , c2 = 0 , 0\n",
    "        \n",
    "        while cur1 or cur2:\n",
    "            if cur1:\n",
    "                c1 += 1\n",
    "                cur1 = cur1.next\n",
    "            if cur2:\n",
    "                c2 += 1\n",
    "                cur2 = cur2 .next\n",
    "        \n",
    "        if c2 > c1:\n",
    "            l1 , l2 = l2 , l1\n",
    "            \n",
    "        \n",
    "        dummy = ListNode(0)\n",
    "        dummy.next = l1\n",
    "        addition = 0\n",
    "        \n",
    "        while l1.next:\n",
    "            \n",
    "            num = l1.val + addition\n",
    "            \n",
    "            if l2:\n",
    "                num += l2.val\n",
    "                l2 = l2.next\n",
    "                \n",
    "            if num >= 10:\n",
    "                addition = 1\n",
    "            else:\n",
    "                addition = 0\n",
    "                \n",
    "            l1.val = num % 10\n",
    "            \n",
    "            l1 = l1.next\n",
    "        \n",
    "        if l2:\n",
    "            l1.val += l2.val\n",
    "        \n",
    "        l1.val += addition\n",
    "        \n",
    "        if l1.val >= 10:\n",
    "            l1.val = l1.val % 10\n",
    "            l1.next = ListNode(1)\n",
    "        \n",
    "        return dummy.next"
   ]
  }
 ],
 "metadata": {
  "kernelspec": {
   "display_name": "Python 3",
   "language": "python",
   "name": "python3"
  },
  "language_info": {
   "codemirror_mode": {
    "name": "ipython",
    "version": 3
   },
   "file_extension": ".py",
   "mimetype": "text/x-python",
   "name": "python",
   "nbconvert_exporter": "python",
   "pygments_lexer": "ipython3",
   "version": "3.6.3"
  }
 },
 "nbformat": 4,
 "nbformat_minor": 2
}
