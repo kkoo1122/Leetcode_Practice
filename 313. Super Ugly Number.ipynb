{
 "cells": [
  {
   "cell_type": "code",
   "execution_count": null,
   "metadata": {
    "collapsed": true
   },
   "outputs": [],
   "source": [
    "def nthSuperUglyNumber(self, n, primes):\n",
    "        \"\"\"\n",
    "        :type n: int\n",
    "        :type primes: List[int]\n",
    "        :rtype: int\n",
    "        \"\"\"  \n",
    "        L=[1]\n",
    "        nk=[0]*len(primes)\n",
    "        mn=[0]*len(primes)\n",
    "        while len(L)<n:\n",
    "            for i in range(len(primes)):\n",
    "                mn[i]=L[nk[i]]*primes[i]\n",
    "            m=min(mn)\n",
    "            for j in range(len(primes)):\n",
    "                if m == mn[j]:\n",
    "                    nk[j]+=1\n",
    "            L.append(m)\n",
    "        return L[-1]"
   ]
  },
  {
   "cell_type": "code",
   "execution_count": null,
   "metadata": {
    "collapsed": true
   },
   "outputs": [],
   "source": [
    "#https://leetcode.com/problems/super-ugly-number/discuss/76301/Python-generators-on-a-heap\n",
    "'''\n",
    "Solution 1 … ~550 ms (updated July 2016, originally was ~1570 ms)\n",
    "\n",
    "Using generators and heapq.merge. Too bad there’s no itertools.unique.\n",
    "'''\n",
    "def nthSuperUglyNumber(self, n, primes):\n",
    "    uglies = [1]\n",
    "    def gen(prime):\n",
    "        for ugly in uglies:\n",
    "            yield ugly * prime\n",
    "    merged = heapq.merge(*map(gen, primes))\n",
    "    while len(uglies) < n:\n",
    "        ugly = next(merged)\n",
    "        if ugly != uglies[-1]:\n",
    "            uglies.append(ugly)\n",
    "    return uglies[-1]\n"
   ]
  },
  {
   "cell_type": "code",
   "execution_count": null,
   "metadata": {
    "collapsed": true
   },
   "outputs": [],
   "source": [
    "'''\n",
    "Solution 2 … ~500 ms (updated July 2016, originally was ~1400 ms)\n",
    "\n",
    "Same thing done differently and it’s a bit faster.\n",
    "'''\n",
    "def nthSuperUglyNumber(self, n, primes):\n",
    "    uglies = [1]\n",
    "    merged = heapq.merge(*map(lambda p: (u*p for u in uglies), primes))\n",
    "    uniqed = (u for u, _ in itertools.groupby(merged))\n",
    "    map(uglies.append, itertools.islice(uniqed, n-1))\n",
    "    return uglies[-1]"
   ]
  }
 ],
 "metadata": {
  "kernelspec": {
   "display_name": "Python 3",
   "language": "python",
   "name": "python3"
  },
  "language_info": {
   "codemirror_mode": {
    "name": "ipython",
    "version": 3
   },
   "file_extension": ".py",
   "mimetype": "text/x-python",
   "name": "python",
   "nbconvert_exporter": "python",
   "pygments_lexer": "ipython3",
   "version": "3.6.3"
  }
 },
 "nbformat": 4,
 "nbformat_minor": 2
}
