{
 "cells": [
  {
   "cell_type": "markdown",
   "metadata": {},
   "source": [
    "Given a non negative integer number num. For every numbers i in the range 0 ≤ i ≤ num calculate the number of 1's in their binary representation and return them as an array.\n",
    "\n",
    "Example:\n",
    "For num = 5 you should return [0,1,1,2,1,2].\n",
    "\n",
    "Follow up:\n",
    "\n",
    "It is very easy to come up with a solution with run time O(n*sizeof(integer)). But can you do it in linear time O(n) /possibly in a single pass?\n",
    "Space complexity should be O(n).\n",
    "Can you do it like a boss? Do it without using any builtin function like __builtin_popcount in c++ or in any other language."
   ]
  },
  {
   "cell_type": "code",
   "execution_count": null,
   "metadata": {
    "collapsed": true
   },
   "outputs": [],
   "source": [
    "def countBits(self, num):\n",
    "        \"\"\"\n",
    "        :type num: int\n",
    "        :rtype: List[int]\n",
    "        \"\"\"\n",
    "        #O(n*(size of integer))\n",
    "        #res=[]\n",
    "\n",
    "        #for i in range(num+1):\n",
    "        #    b=bin(i)\n",
    "        #    res.append(b.count('1'))\n",
    "        \n",
    "        #return res\n",
    "        #O(n)\n",
    "        '''\n",
    "        if num==0: return [0]\n",
    "        if num==1: return [0,1]\n",
    "        if num==2: return [0,1,1]\n",
    "        \n",
    "        dp=[0]*(num+1)\n",
    "        \n",
    "        dp[1],dp[2]=1,1\n",
    "        dif,n=2,2\n",
    "        for i in range(3,num+1):            \n",
    "            if i == 2**n:\n",
    "                dif=i\n",
    "                n+=1\n",
    "            dp[i]=dp[i-dif]+1\n",
    "            \n",
    "        return dp\n",
    "        '''\n",
    "        dp=[]\n",
    "        for index in range(num+1):\n",
    "            if index == 0 or index==1:\n",
    "                dp.append(index)\n",
    "            else:\n",
    "                dp.append(dp[index&(index-1)]+1)\n",
    "        return dp"
   ]
  }
 ],
 "metadata": {
  "kernelspec": {
   "display_name": "Python 3",
   "language": "python",
   "name": "python3"
  },
  "language_info": {
   "codemirror_mode": {
    "name": "ipython",
    "version": 3
   },
   "file_extension": ".py",
   "mimetype": "text/x-python",
   "name": "python",
   "nbconvert_exporter": "python",
   "pygments_lexer": "ipython3",
   "version": "3.6.3"
  }
 },
 "nbformat": 4,
 "nbformat_minor": 2
}
