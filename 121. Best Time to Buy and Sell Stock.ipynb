{
 "cells": [
  {
   "cell_type": "markdown",
   "metadata": {},
   "source": [
    "### Thought\n",
    "[Kadane's Algorithm](https://leetcode.com/problems/best-time-to-buy-and-sell-stock/discuss/39038/Kadane's-Algorithm-Since-no-one-has-mentioned-about-this-so-far-:)"
   ]
  },
  {
   "cell_type": "code",
   "execution_count": null,
   "metadata": {},
   "outputs": [],
   "source": [
    "#brute force\n",
    "p=[7, 1, 5, 3, 6, 4]\n",
    "maxi=0\n",
    "for i in range(len(p)):\n",
    "    for j in range(i+1,len(p)):\n",
    "         if p[j]-p[i]>maxi:\n",
    "                maxi=p[j]-p[i]\n",
    "print(maxi)"
   ]
  },
  {
   "cell_type": "code",
   "execution_count": null,
   "metadata": {},
   "outputs": [],
   "source": [
    "# Kadane's Algorithm \n",
    "#Time: O(n)\n",
    "#Space: O(1)\n",
    "def maxProfit(self, prices):\n",
    "        \"\"\"\n",
    "        :type prices: List[int]\n",
    "        :rtype: int\n",
    "        \"\"\"        \n",
    "        buy , cur_profit, max_profit = float('inf') , 0 , 0 \n",
    "        \n",
    "        for price in prices:\n",
    "            buy=min(buy,price)\n",
    "            cur_profit=price-buy\n",
    "            max_profit=max(cur_profit,max_profit)\n",
    "        \n",
    "        return max_profit\n",
    "            "
   ]
  },
  {
   "cell_type": "code",
   "execution_count": null,
   "metadata": {
    "collapsed": true
   },
   "outputs": [],
   "source": [
    "# My thought\n",
    "#Time: O(n)\n",
    "#Space: O(1)\n",
    "def maxProfit(self, prices):\n",
    "        \"\"\"\n",
    "        :type prices: List[int]\n",
    "        :rtype: int\n",
    "        \"\"\"\n",
    "        if len(prices)<2: return 0\n",
    "        \n",
    "        Profit=0\n",
    "        buy, sell = prices[0] , 0\n",
    "        \n",
    "        for price in prices:\n",
    "            if buy > price:\n",
    "                buy = price\n",
    "                sell= price\n",
    "                \n",
    "            if sell<price:\n",
    "                sell = price\n",
    "                \n",
    "            #print(buy,sell)\n",
    "            Profit = max(Profit,sell-buy)\n",
    "        \n",
    "        return Profit"
   ]
  }
 ],
 "metadata": {
  "kernelspec": {
   "display_name": "Python 3",
   "language": "python",
   "name": "python3"
  },
  "language_info": {
   "codemirror_mode": {
    "name": "ipython",
    "version": 3
   },
   "file_extension": ".py",
   "mimetype": "text/x-python",
   "name": "python",
   "nbconvert_exporter": "python",
   "pygments_lexer": "ipython3",
   "version": "3.6.3"
  }
 },
 "nbformat": 4,
 "nbformat_minor": 2
}
