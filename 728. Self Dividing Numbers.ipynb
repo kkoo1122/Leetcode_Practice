{
 "cells": [
  {
   "cell_type": "code",
   "execution_count": null,
   "metadata": {
    "collapsed": true
   },
   "outputs": [],
   "source": [
    "def selfDividingNumbers(left, right):\n",
    "        \"\"\"\n",
    "        :type left: int\n",
    "        :type right: int\n",
    "        :rtype: List[int]\n",
    "        \"\"\"\n",
    "        L=[]\n",
    "        for i in range(left,right+1):\n",
    "            \n",
    "            tmp , flag = i , 0         \n",
    "            while tmp>=1:\n",
    "                if tmp%10==0: \n",
    "                    flag=1 \n",
    "                    break\n",
    "                elif i%(tmp%10)!=0: \n",
    "                    flag=1\n",
    "                    break\n",
    "                else: \n",
    "                    tmp//=10\n",
    "            \n",
    "            if flag==1: continue            \n",
    "            \n",
    "            L.append(i)         \n",
    "        return L"
   ]
  }
 ],
 "metadata": {
  "kernelspec": {
   "display_name": "Python 3",
   "language": "python",
   "name": "python3"
  },
  "language_info": {
   "codemirror_mode": {
    "name": "ipython",
    "version": 3
   },
   "file_extension": ".py",
   "mimetype": "text/x-python",
   "name": "python",
   "nbconvert_exporter": "python",
   "pygments_lexer": "ipython3",
   "version": "3.6.3"
  }
 },
 "nbformat": 4,
 "nbformat_minor": 2
}
