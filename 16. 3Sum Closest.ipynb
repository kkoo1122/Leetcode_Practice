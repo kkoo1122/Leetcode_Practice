{
 "cells": [
  {
   "cell_type": "markdown",
   "metadata": {},
   "source": [
    "Given an array nums of n integers and an integer target, find three integers in nums such that the sum is closest to target. Return the sum of the three integers. You may assume that each input would have exactly one solution.\n",
    "\n",
    "Example:\n",
    "\n",
    "Given array nums = [-1, 2, 1, -4], and target = 1.\n",
    "\n",
    "The sum that is closest to the target is 2. (-1 + 2 + 1 = 2)."
   ]
  },
  {
   "cell_type": "code",
   "execution_count": 40,
   "metadata": {},
   "outputs": [
    {
     "data": {
      "text/plain": [
       "82"
      ]
     },
     "execution_count": 40,
     "metadata": {},
     "output_type": "execute_result"
    }
   ],
   "source": [
    "nums=[1,2,4,8,16,32,64,128] #ans 82\n",
    "target=82\n",
    "\n",
    "def threeSumClosest(nums,target):\n",
    "    nums.sort()\n",
    "    res=0\n",
    "    dif=float('inf')\n",
    "\n",
    "    for i in range(len(nums)-2):\n",
    "        if i>0 and nums[i]==nums[i-1]:\n",
    "            continue\n",
    "\n",
    "        l , r = i+1 , len(nums)-1\n",
    "        while l<r:\n",
    "            sums=nums[i]+nums[l]+nums[r]\n",
    "            if target==sums:\n",
    "                return sums\n",
    "            if abs(target-sums) < dif:\n",
    "                res=sums\n",
    "                dif=abs(target-sums)\n",
    "            if sums < target:\n",
    "                l+=1\n",
    "            else:\n",
    "                r-=1\n",
    "    return res\n",
    "                \n",
    "        \n",
    "threeSumClosest(nums,target)"
   ]
  }
 ],
 "metadata": {
  "kernelspec": {
   "display_name": "Python 3",
   "language": "python",
   "name": "python3"
  },
  "language_info": {
   "codemirror_mode": {
    "name": "ipython",
    "version": 3
   },
   "file_extension": ".py",
   "mimetype": "text/x-python",
   "name": "python",
   "nbconvert_exporter": "python",
   "pygments_lexer": "ipython3",
   "version": "3.6.3"
  }
 },
 "nbformat": 4,
 "nbformat_minor": 2
}
