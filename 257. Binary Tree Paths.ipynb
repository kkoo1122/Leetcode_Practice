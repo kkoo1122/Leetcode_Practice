{
 "cells": [
  {
   "cell_type": "code",
   "execution_count": null,
   "metadata": {
    "collapsed": true
   },
   "outputs": [],
   "source": [
    "# Definition for a binary tree node.\n",
    "# class TreeNode:\n",
    "#     def __init__(self, x):\n",
    "#         self.val = x\n",
    "#         self.left = None\n",
    "#         self.right = None\n",
    "\n",
    "class Solution:\n",
    "    def binaryTreePaths(self, root):\n",
    "        \"\"\"\n",
    "        :type root: TreeNode\n",
    "        :rtype: List[str]\n",
    "        \"\"\"      \n",
    "        if not root:\n",
    "            return []\n",
    "        \n",
    "        L=[]\n",
    "        self.dfs(root,'',L)\n",
    "        return L\n",
    "    \n",
    "    def dfs(self,root,li,L):\n",
    "        if not root.left and not root.right:\n",
    "            L.append(li+str(root.val))\n",
    "        if root.left:\n",
    "            self.dfs(root.left,li+str(root.val)+'->',L)\n",
    "        if root.right:\n",
    "            self.dfs(root.right,li+str(root.val)+'->',L)\n",
    "        \n",
    "           \n",
    "            "
   ]
  }
 ],
 "metadata": {
  "kernelspec": {
   "display_name": "Python 3",
   "language": "python",
   "name": "python3"
  },
  "language_info": {
   "codemirror_mode": {
    "name": "ipython",
    "version": 3
   },
   "file_extension": ".py",
   "mimetype": "text/x-python",
   "name": "python",
   "nbconvert_exporter": "python",
   "pygments_lexer": "ipython3",
   "version": "3.6.3"
  }
 },
 "nbformat": 4,
 "nbformat_minor": 2
}
