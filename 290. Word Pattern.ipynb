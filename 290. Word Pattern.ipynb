{
 "cells": [
  {
   "cell_type": "code",
   "execution_count": 25,
   "metadata": {},
   "outputs": [
    {
     "data": {
      "text/plain": [
       "0"
      ]
     },
     "execution_count": 25,
     "metadata": {},
     "output_type": "execute_result"
    }
   ],
   "source": [
    "def wordPattern(self, pattern, str):\n",
    "    \"\"\"\n",
    "    :type pattern: str\n",
    "    :type str: str\n",
    "    :rtype: bool\n",
    "    \"\"\"\n",
    "    D={}\n",
    "    x=str.split()\n",
    "    if len(x)!=len(pattern):return False \n",
    "    for i in range(0,len(pattern)):        \n",
    "        if pattern[i] not in D:\n",
    "            if x[i] in D.values(): return False\n",
    "            D[pattern[i]]=x[i]\n",
    "        if D[pattern[i]]!=x[i]:return False        \n",
    "    return True\n"
   ]
  },
  {
   "cell_type": "code",
   "execution_count": 24,
   "metadata": {},
   "outputs": [
    {
     "data": {
      "text/plain": [
       "False"
      ]
     },
     "execution_count": 24,
     "metadata": {},
     "output_type": "execute_result"
    }
   ],
   "source": [
    "D={'a':'1','b':'2'}\n"
   ]
  }
 ],
 "metadata": {
  "kernelspec": {
   "display_name": "Python 3",
   "language": "python",
   "name": "python3"
  },
  "language_info": {
   "codemirror_mode": {
    "name": "ipython",
    "version": 3
   },
   "file_extension": ".py",
   "mimetype": "text/x-python",
   "name": "python",
   "nbconvert_exporter": "python",
   "pygments_lexer": "ipython3",
   "version": "3.6.3"
  }
 },
 "nbformat": 4,
 "nbformat_minor": 2
}
