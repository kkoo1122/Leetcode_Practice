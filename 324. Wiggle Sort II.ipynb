{
 "cells": [
  {
   "cell_type": "markdown",
   "metadata": {},
   "source": [
    "Given an unsorted array nums, reorder it such that nums[0] < nums[1] > nums[2] < nums[3]....\n",
    "\n",
    "**Example 1:**\n",
    "\n",
    "    Input: nums = [1, 5, 1, 1, 6, 4]\n",
    "    Output: One possible answer is [1, 4, 1, 5, 1, 6].\n",
    "\n",
    "**Example 2:**\n",
    "\n",
    "    Input: nums = [1, 3, 2, 2, 3, 1]\n",
    "    Output: One possible answer is [2, 3, 1, 3, 1, 2].\n",
    "**Note:**<br>\n",
    "You may assume all input has valid answer.\n",
    "\n",
    "**Follow Up:**\n",
    "Can you do it in O(n) time and/or in-place with O(1) extra space?"
   ]
  },
  {
   "cell_type": "markdown",
   "metadata": {},
   "source": [
    "### Thought\n",
    "\n",
    "I put the smaller half of the numbers on the even indexes and the larger half on the odd indexes, both from right to left:\n",
    "\n",
    "Example nums = [1,2,...,7]      Example nums = [1,2,...,8] \n",
    "\n",
    "    Small half:  4 . 3 . 2 . 1      Small half:  4 . 3 . 2 . 1 .\n",
    "    Large half:  . 7 . 6 . 5 .      Large half:  . 8 . 7 . 6 . 5\n",
    "    --------------------------      --------------------------\n",
    "    Together:    4 7 3 6 2 5 1      Together:    4 8 3 7 2 6 1 5\n",
    "    \n",
    "I want:\n",
    "\n",
    "Odd-index numbers are larger than their neighbors.\n",
    "Since I put the larger numbers on the odd indexes, clearly I already have:\n",
    "\n",
    "Odd-index numbers are larger than or equal to their neighbors.\n",
    "Could they be \"equal to\"? That would require some number M to appear both in the smaller and the larger half. It would be the largest in the smaller half and the smallest in the larger half. Examples again, where S means some number smaller than M and L means some number larger than M.\n",
    "\n",
    "    Small half:  M . S . S . S      Small half:  M . S . S . S .\n",
    "    Large half:  . L . L . M .      Large half:  . L . L . L . M\n",
    "    --------------------------      --------------------------\n",
    "    Together:    M L S L S M S      Together:    M L S L S L S M\n",
    "You can see the two M are quite far apart. Of course M could appear more than just twice, for example:\n",
    "\n",
    "    Small half:  M . M . S . S      Small half:  M . S . S . S .\n",
    "    Large half:  . L . L . M .      Large half:  . L . M . M . M\n",
    "    --------------------------      --------------------------\n",
    "    Together:    M L M L S M S      Together:    M L S M S M S M\n",
    "You can see that with seven numbers, three M are no problem. And with eight numbers, four M are no problem. Should be easy to see that in general, with n numbers, floor(n/2) times M is no problem. Now, if there were more M than that, then my method would fail. But... it would also be impossible:\n",
    "\n",
    "If n is even, then having more than n/2 times the same number clearly is unsolvable, because you'd have to put two of them next to each other, no matter how you arrange them.\n",
    "If n is odd, then the only way to successfully arrange a number appearing more than floor(n/2) times is if it appears exactly floor(n/2)+1 times and you put them on all the even indexes. And to have the wiggle-property, all the other numbers would have to be larger. But then we wouldn't have an M in both the smaller and the larger half.\n",
    "So if the input has a valid answer at all, then my code will find one."
   ]
  },
  {
   "cell_type": "code",
   "execution_count": null,
   "metadata": {},
   "outputs": [],
   "source": [
    "def wiggleSort(self, nums):\n",
    "    \"\"\"\n",
    "    :type nums: List[int]\n",
    "    :rtype: void Do not return anything, modify nums in-place instead.\n",
    "    \"\"\"\n",
    "    nums.sort()  #O(NlogN)\n",
    "    mid=len(nums[::2])\n",
    "    nums[::2],nums[1::2] = nums[:mid][::-1],nums[mid:][::-1]"
   ]
  }
 ],
 "metadata": {
  "kernelspec": {
   "display_name": "Python 3",
   "language": "python",
   "name": "python3"
  },
  "language_info": {
   "codemirror_mode": {
    "name": "ipython",
    "version": 3
   },
   "file_extension": ".py",
   "mimetype": "text/x-python",
   "name": "python",
   "nbconvert_exporter": "python",
   "pygments_lexer": "ipython3",
   "version": "3.6.3"
  }
 },
 "nbformat": 4,
 "nbformat_minor": 2
}
