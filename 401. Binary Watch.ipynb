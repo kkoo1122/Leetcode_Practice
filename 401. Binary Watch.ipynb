{
 "cells": [
  {
   "cell_type": "code",
   "execution_count": 29,
   "metadata": {},
   "outputs": [
    {
     "name": "stdout",
     "output_type": "stream",
     "text": [
      "['1:00', '2:00', '4:00', '8:00', '0:01', '0:02', '0:04', '0:08', '0:16', '0:32'] "
     ]
    }
   ],
   "source": [
    "def readBinaryWatch(num):\n",
    "        \"\"\"\n",
    "        :type num: int\n",
    "        :rtype: List[str]\n",
    "        \"\"\"\n",
    "        def dfs(n,hours,mins,idx):\n",
    "            if hours > 11 or mins > 59: \n",
    "                return\n",
    "            if n == 0 :\n",
    "                res.append(str(hours)+\":\"+\"0\"*(mins<10)+str(mins))\n",
    "                return\n",
    "            for i in range(idx, 10):\n",
    "                if i < 4: \n",
    "                    dfs(n - 1, hours | (1 << i), mins, i + 1)\n",
    "                else:\n",
    "                    k = i - 4\n",
    "                    dfs(n - 1, hours, mins | (1 << k), i + 1)\n",
    "        res=[]\n",
    "        dfs(num,0,0,0)\n",
    "        return res\n",
    "    \n",
    "print(readBinaryWatch(1),end=' ')"
   ]
  },
  {
   "cell_type": "code",
   "execution_count": 26,
   "metadata": {},
   "outputs": [
    {
     "name": "stdout",
     "output_type": "stream",
     "text": [
      "0b1\n"
     ]
    }
   ],
   "source": []
  }
 ],
 "metadata": {
  "kernelspec": {
   "display_name": "Python 3",
   "language": "python",
   "name": "python3"
  },
  "language_info": {
   "codemirror_mode": {
    "name": "ipython",
    "version": 3
   },
   "file_extension": ".py",
   "mimetype": "text/x-python",
   "name": "python",
   "nbconvert_exporter": "python",
   "pygments_lexer": "ipython3",
   "version": "3.6.3"
  }
 },
 "nbformat": 4,
 "nbformat_minor": 2
}
