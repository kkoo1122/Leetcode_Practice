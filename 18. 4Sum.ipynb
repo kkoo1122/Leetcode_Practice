{
 "cells": [
  {
   "cell_type": "markdown",
   "metadata": {},
   "source": [
    "Given an array nums of n integers and an integer target, are there elements a, b, c, and d in nums such that a + b + c + d = target? Find all unique quadruplets in the array which gives the sum of target.\n",
    "\n",
    "Note:\n",
    "\n",
    "The solution set must not contain duplicate quadruplets.\n",
    "\n",
    "Example:\n",
    "\n",
    "Given array nums = [1, 0, -1, 0, -2, 2], and target = 0.\n",
    "\n",
    "A solution set is:\n",
    "[\n",
    "  [-1,  0, 0, 1],\n",
    "  [-2, -1, 1, 2],\n",
    "  [-2,  0, 0, 2]\n",
    "]"
   ]
  },
  {
   "cell_type": "code",
   "execution_count": 20,
   "metadata": {},
   "outputs": [
    {
     "data": {
      "text/plain": [
       "[[-2, -1, 1, 2], [-2, 0, 0, 2], [-1, 0, 0, 1]]"
      ]
     },
     "execution_count": 20,
     "metadata": {},
     "output_type": "execute_result"
    }
   ],
   "source": [
    "def fourSum(self, nums, target):\n",
    "        \"\"\"\n",
    "        :type nums: List[int]\n",
    "        :type target: int\n",
    "        :rtype: List[List[int]]\n",
    "        \"\"\"\n",
    "        res=[]\n",
    "        if len(nums)<4: return res\n",
    "        \n",
    "        nums.sort()\n",
    "        \n",
    "        for i in range(len(nums)-3):\n",
    "            #print(nums[i])\n",
    "            if i>0 and nums[i]==nums[i-1]: continue\n",
    "            \n",
    "            for j in range(i+1,len(nums)-2):\n",
    "                if j> i+1 and nums[j]==nums[j-1]: continue\n",
    "                \n",
    "                l , r = j+1 , len(nums)-1\n",
    "                while l < r:\n",
    "                    sums=nums[i]+nums[j]+nums[l]+nums[r]\n",
    "                    if sums == target:    \n",
    "                        res.append([nums[i],nums[j],nums[l],nums[r]])\n",
    "                        while l<r and nums[l]==nums[l+1]: l+=1\n",
    "                        while l<r and nums[r]==nums[r-1]: r-=1\n",
    "                        l+=1\n",
    "                        r-=1\n",
    "                    elif sums < target:\n",
    "                        l+=1\n",
    "                    elif sums > target:\n",
    "                        r-=1                    \n",
    "    \n",
    "        return res\n",
    "                                \n",
    "nums=[-2, -1, 0, 0, 1,2]\n",
    "target=0\n",
    "fourSum(0,nums,target)            "
   ]
  }
 ],
 "metadata": {
  "kernelspec": {
   "display_name": "Python 3",
   "language": "python",
   "name": "python3"
  },
  "language_info": {
   "codemirror_mode": {
    "name": "ipython",
    "version": 3
   },
   "file_extension": ".py",
   "mimetype": "text/x-python",
   "name": "python",
   "nbconvert_exporter": "python",
   "pygments_lexer": "ipython3",
   "version": "3.6.3"
  }
 },
 "nbformat": 4,
 "nbformat_minor": 2
}
