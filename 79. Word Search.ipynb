{
 "cells": [
  {
   "cell_type": "markdown",
   "metadata": {},
   "source": [
    "Given a 2D board and a word, find if the word exists in the grid.\n",
    "\n",
    "The word can be constructed from letters of sequentially adjacent cell, where \"adjacent\" cells are those horizontally or vertically neighboring. The same letter cell may not be used more than once.\n",
    "\n",
    "**Example:**\n",
    "\n",
    "    board =\n",
    "    [\n",
    "      ['A','B','C','E'],\n",
    "      ['S','F','C','S'],\n",
    "      ['A','D','E','E']\n",
    "    ]\n",
    "\n",
    "Given word = \"ABCCED\", return true.<br>\n",
    "Given word = \"SEE\", return true.<br>\n",
    "Given word = \"ABCB\", return false."
   ]
  },
  {
   "cell_type": "markdown",
   "metadata": {},
   "source": [
    "### Thought\n",
    "\n",
    "[Discussion form leetcode](https://leetcode.com/problems/word-search/discuss/27660/Python-dfs-solution-with-comments.)\n",
    "\n",
    "^Very easy to understand^\n",
    "\n",
    "- using DFS"
   ]
  },
  {
   "cell_type": "code",
   "execution_count": null,
   "metadata": {
    "collapsed": true
   },
   "outputs": [],
   "source": [
    "#Time Complexity: O(n^2)\n",
    "#Space Complexity: O(n)\n",
    "def exist(self, board, word):\n",
    "    \"\"\"\n",
    "    :type board: List[List[str]]\n",
    "    :type word: str\n",
    "    :rtype: bool\n",
    "    \"\"\"        \n",
    "    if not board:\n",
    "        return False\n",
    "\n",
    "    for i in range(len(board)):\n",
    "        for j in range(len(board[0])):\n",
    "            if self.dfs(board,word,i,j):\n",
    "                return True\n",
    "    return False\n",
    "\n",
    "def dfs(self,board,word,i,j):\n",
    "    if not word:\n",
    "        return True\n",
    "    if i<0 or i>=len(board) or j<0 or j>=len(board[0]) or word[0]!=board[i][j]:\n",
    "        return False\n",
    "    tmp=board[i][j] #save the current character of board[i][j] for the future usage.\n",
    "    board[i][j]='#' #prevent visiting again\n",
    "    res=self.dfs(board,word[1:],i+1,j) or self.dfs(board,word[1:],i-1,j) \\\n",
    "        or self.dfs(board,word[1:],i,j+1) or self.dfs(board,word[1:],i,j-1)  #check each charater each step.\n",
    "    board[i][j]=tmp\n",
    "\n",
    "    return res"
   ]
  }
 ],
 "metadata": {
  "kernelspec": {
   "display_name": "Python 3",
   "language": "python",
   "name": "python3"
  },
  "language_info": {
   "codemirror_mode": {
    "name": "ipython",
    "version": 3
   },
   "file_extension": ".py",
   "mimetype": "text/x-python",
   "name": "python",
   "nbconvert_exporter": "python",
   "pygments_lexer": "ipython3",
   "version": "3.6.3"
  }
 },
 "nbformat": 4,
 "nbformat_minor": 2
}
