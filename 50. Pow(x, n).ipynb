{
 "cells": [
  {
   "cell_type": "markdown",
   "metadata": {},
   "source": [
    "### Binary Search"
   ]
  },
  {
   "cell_type": "code",
   "execution_count": 14,
   "metadata": {},
   "outputs": [
    {
     "data": {
      "text/plain": [
       "True"
      ]
     },
     "execution_count": 14,
     "metadata": {},
     "output_type": "execute_result"
    }
   ],
   "source": [
    "def myPow(self, x, n):\n",
    "        \"\"\"\n",
    "        :type x: float\n",
    "        :type n: int\n",
    "        :rtype: float\n",
    "        \"\"\"\n",
    "        #return x**n\n",
    "        '''\n",
    "        # recursive\n",
    "        if not n: #if n==0\n",
    "            return 1.0\n",
    "        if n < 0: # if Ans == 1/(x^n)\n",
    "            return 1/self.myPow(x,-n)\n",
    "        if n%2: # if n>0 and n is odd\n",
    "            return x * self.myPow(x,n-1)\n",
    "        return self.myPow(x*x,n/2) # if n > 0 and n is even\n",
    "        '''\n",
    "        # iterative\n",
    "        m = abs(n)\n",
    "        ans = 1.0\n",
    "        while m:\n",
    "            if m & 1:\n",
    "                ans *= x\n",
    "            x *= x\n",
    "            m >>= 1\n",
    "        return ans if n >= 0 else 1 / ans  "
   ]
  }
 ],
 "metadata": {
  "kernelspec": {
   "display_name": "Python 3",
   "language": "python",
   "name": "python3"
  },
  "language_info": {
   "codemirror_mode": {
    "name": "ipython",
    "version": 3
   },
   "file_extension": ".py",
   "mimetype": "text/x-python",
   "name": "python",
   "nbconvert_exporter": "python",
   "pygments_lexer": "ipython3",
   "version": "3.6.3"
  }
 },
 "nbformat": 4,
 "nbformat_minor": 2
}
