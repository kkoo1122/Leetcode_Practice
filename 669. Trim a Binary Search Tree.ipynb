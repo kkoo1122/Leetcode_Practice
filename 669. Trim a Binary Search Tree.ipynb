{
 "cells": [
  {
   "cell_type": "code",
   "execution_count": null,
   "metadata": {
    "collapsed": true
   },
   "outputs": [],
   "source": [
    "#recursive\n",
    "def trimBST(self, root, L, R):\n",
    "        \"\"\"\n",
    "        :type root: TreeNode\n",
    "        :type L: int\n",
    "        :type R: int\n",
    "        :rtype: TreeNode\n",
    "        \"\"\"\n",
    "        if not root:\n",
    "            return None\n",
    "        \n",
    "        root.left=self.trimBST(root.left,L,R)\n",
    "        root.right=self.trimBST(root.right,L,R)\n",
    "        \n",
    "        if root.val<L:\n",
    "            return root.right\n",
    "        if root.val>R:\n",
    "            return root.left\n",
    "        \n",
    "        return root"
   ]
  }
 ],
 "metadata": {
  "kernelspec": {
   "display_name": "Python 3",
   "language": "python",
   "name": "python3"
  },
  "language_info": {
   "codemirror_mode": {
    "name": "ipython",
    "version": 3
   },
   "file_extension": ".py",
   "mimetype": "text/x-python",
   "name": "python",
   "nbconvert_exporter": "python",
   "pygments_lexer": "ipython3",
   "version": "3.6.3"
  }
 },
 "nbformat": 4,
 "nbformat_minor": 2
}
