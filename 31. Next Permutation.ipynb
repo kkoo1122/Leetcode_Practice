{
 "cells": [
  {
   "cell_type": "markdown",
   "metadata": {},
   "source": [
    "Implement **next permutation**, which rearranges numbers into the lexicographically next greater permutation of numbers.\n",
    "\n",
    "If such arrangement is not possible, it must rearrange it as the lowest possible order (ie, sorted in ascending order).\n",
    "\n",
    "The replacement must be in-place and use only constant extra memory.\n",
    "\n",
    "Here are some examples. Inputs are in the left-hand column and its corresponding outputs are in the right-hand column.\n",
    "\n",
    "    1,2,3 → 1,3,2\n",
    "    3,2,1 → 1,2,3\n",
    "    1,1,5 → 1,5,1"
   ]
  },
  {
   "cell_type": "markdown",
   "metadata": {},
   "source": [
    "### Thought\n",
    "\n",
    "[Leetcode discussion](https://leetcode.com/problems/next-permutation/discuss/119205/Simple-python-code)<br>\n",
    "[Youtube solution](https://www.youtube.com/watch?v=9mdoM2dVid8)\n",
    "\n",
    "**Solution Ex.1:**\n",
    "\n",
    "            8 2 7 4 3 1 \n",
    "              ^          ( [2,7] is the first non-increasing sub-sequence)\n",
    "\n",
    "            8 2 7 4 3 1\n",
    "                    ^    ( [3] is the smallest number which is larger than [2])\n",
    "\n",
    "            8 3 7 4 2 1\n",
    "              ^     ^   (change)\n",
    "\n",
    "            8 3 7 4 2 1 \n",
    "                ^ ^ ^ ^ (reverse)\n",
    "            \n",
    "            8 3 1 2 5 7\n",
    "                        (answer)\n",
    "<br>\n",
    "<br>\n",
    "**Solution Ex.2:**\n",
    "\n",
    "            7 6 5 4 3 2 1\n",
    "                        ^\n",
    "\n",
    "            7 6 5 4 3 2 1\n",
    "                      ^  \n",
    "\n",
    "            7 6 5 4 3 2 1\n",
    "                    ^\n",
    "            ...\n",
    "\n",
    "            7 6 5 4 3 2 1\n",
    "            ^\n",
    "\n",
    "            1 2 3 4 5 6 7 (reverse)"
   ]
  },
  {
   "cell_type": "code",
   "execution_count": null,
   "metadata": {
    "collapsed": true
   },
   "outputs": [],
   "source": [
    "def nextPermutation(self, nums):\n",
    "        \"\"\"\n",
    "        :type nums: List[int]\n",
    "        :rtype: void Do not return anything, modify nums in-place instead.\n",
    "        \"\"\"\n",
    "        \n",
    "        if not nums: return\n",
    "        \n",
    "        l=len(nums)\n",
    "        left , right = l-2 , l-1\n",
    "        \n",
    "        while left >=0 and nums[left]>=nums[left+1]:\n",
    "            left-=1\n",
    "        \n",
    "        \n",
    "        if left==-1: # case like[3,2,1]\n",
    "            nums.reverse()\n",
    "            return\n",
    "        \n",
    "        while nums[left]>=nums[right]:\n",
    "            right-=1\n",
    "        \n",
    "        nums[left],nums[right]=nums[right],nums[left]\n",
    "        \n",
    "        nums[left+1:]=nums[left+1:][::-1]"
   ]
  }
 ],
 "metadata": {
  "kernelspec": {
   "display_name": "Python 3",
   "language": "python",
   "name": "python3"
  },
  "language_info": {
   "codemirror_mode": {
    "name": "ipython",
    "version": 3
   },
   "file_extension": ".py",
   "mimetype": "text/x-python",
   "name": "python",
   "nbconvert_exporter": "python",
   "pygments_lexer": "ipython3",
   "version": "3.6.3"
  }
 },
 "nbformat": 4,
 "nbformat_minor": 2
}
