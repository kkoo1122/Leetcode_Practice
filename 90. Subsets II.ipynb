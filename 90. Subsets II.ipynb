{
 "cells": [
  {
   "cell_type": "markdown",
   "metadata": {},
   "source": [
    "Given a collection of integers that might contain duplicates, nums, return all possible subsets (the power set).\n",
    "\n",
    "Note: The solution set must not contain duplicate subsets.\n",
    "\n",
    "**Example:**\n",
    "\n",
    "    Input: [1,2,2]\n",
    "    Output:\n",
    "    [\n",
    "      [2],\n",
    "      [1],\n",
    "      [1,2,2],\n",
    "      [2,2],\n",
    "      [1,2],\n",
    "      []\n",
    "    ]"
   ]
  },
  {
   "cell_type": "markdown",
   "metadata": {},
   "source": [
    "### Thought\n",
    "Sol 1. create a dictionary to check\n",
    "\n",
    "Sol 2. [thought without extra space](https://leetcode.com/problems/subsets-ii/discuss/30166/Simple-python-solution-without-extra-space.)"
   ]
  },
  {
   "cell_type": "code",
   "execution_count": 18,
   "metadata": {},
   "outputs": [
    {
     "data": {
      "text/plain": [
       "[[], [1], [1, 4], [1, 4, 4], [1, 4, 4, 4], [4], [4, 4], [4, 4, 4]]"
      ]
     },
     "execution_count": 18,
     "metadata": {},
     "output_type": "execute_result"
    }
   ],
   "source": [
    "def subsetsWithDup(nums): \n",
    "    nums.sort()\n",
    "\n",
    "    def helper(ans,res,nums,start):\n",
    "        if ans not in res:\n",
    "            res.append(ans[:])\n",
    "        for i in range(start,len(nums)):\n",
    "            helper(ans+[nums[i]],res,nums,i+1)\n",
    "        return res\n",
    "    return helper([],[],nums,0)\n",
    "\n",
    "\n",
    "\n",
    "nums=[4,4,1,4]            \n",
    "subsetsWithDup(nums)"
   ]
  },
  {
   "cell_type": "code",
   "execution_count": 16,
   "metadata": {},
   "outputs": [
    {
     "data": {
      "text/plain": [
       "[[], [1], [4], [1, 4], [4, 4], [1, 4, 4], [4, 4, 4], [1, 4, 4, 4]]"
      ]
     },
     "execution_count": 16,
     "metadata": {},
     "output_type": "execute_result"
    }
   ],
   "source": [
    "def subsetsWithDup(nums): \n",
    "    nums.sort()\n",
    "    res=[[]]\n",
    "    Lnum=len(nums)\n",
    "    \n",
    "    for i in range(Lnum):\n",
    "        if i ==0 or nums[i]!=nums[i-1]:\n",
    "            l=len(res)\n",
    "        for j in range(len(res)-l,len(res)):\n",
    "            res.append(res[j]+[nums[i]])\n",
    "    return res\n",
    "\n",
    "\n",
    "nums=[4,4,1,4]            \n",
    "subsetsWithDup(nums)       \n",
    "    "
   ]
  }
 ],
 "metadata": {
  "kernelspec": {
   "display_name": "Python 3",
   "language": "python",
   "name": "python3"
  },
  "language_info": {
   "codemirror_mode": {
    "name": "ipython",
    "version": 3
   },
   "file_extension": ".py",
   "mimetype": "text/x-python",
   "name": "python",
   "nbconvert_exporter": "python",
   "pygments_lexer": "ipython3",
   "version": "3.6.3"
  }
 },
 "nbformat": 4,
 "nbformat_minor": 2
}
