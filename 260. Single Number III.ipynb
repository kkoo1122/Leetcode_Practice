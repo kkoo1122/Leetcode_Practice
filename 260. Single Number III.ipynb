{
 "cells": [
  {
   "cell_type": "markdown",
   "metadata": {},
   "source": [
    "https://leetcode.com/problems/single-number-iii/discuss/117955/Python:-2-solutions-both-fastest-so-far"
   ]
  },
  {
   "cell_type": "code",
   "execution_count": null,
   "metadata": {
    "collapsed": true
   },
   "outputs": [],
   "source": [
    "def singleNumber(self, nums):\n",
    "        \"\"\"\n",
    "        :type nums: List[int]\n",
    "        :rtype: List[int]\n",
    "        \"\"\"\n",
    "        # Isolates bits of A and B that are different:\n",
    "        diff = 0\n",
    "        for x in nums:\n",
    "            diff ^= x  # repeated numebers neutralize each other\n",
    "\n",
    "        # We need only one of this bits, for example the last:\n",
    "        dif_bit = diff & -diff\n",
    "\n",
    "        # Having a and b a different value of pivot_bit we can\n",
    "        # repeat the game on 2 virtual partitions:\n",
    "        a, b = 0, 0\n",
    "        for x in nums:\n",
    "            if x & dif_bit:\n",
    "                a ^= x  # repeated numebers neutralize each other\n",
    "            else:\n",
    "                b ^= x  # repeated numebers neutralize each other\n",
    "\n",
    "        return [a, b]"
   ]
  }
 ],
 "metadata": {
  "kernelspec": {
   "display_name": "Python 3",
   "language": "python",
   "name": "python3"
  },
  "language_info": {
   "codemirror_mode": {
    "name": "ipython",
    "version": 3
   },
   "file_extension": ".py",
   "mimetype": "text/x-python",
   "name": "python",
   "nbconvert_exporter": "python",
   "pygments_lexer": "ipython3",
   "version": "3.6.3"
  }
 },
 "nbformat": 4,
 "nbformat_minor": 2
}
