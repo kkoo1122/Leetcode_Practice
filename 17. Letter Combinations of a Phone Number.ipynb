{
 "cells": [
  {
   "cell_type": "code",
   "execution_count": 78,
   "metadata": {},
   "outputs": [
    {
     "data": {
      "text/plain": [
       "['wtp',\n",
       " 'wtq',\n",
       " 'wtr',\n",
       " 'wts',\n",
       " 'wup',\n",
       " 'wuq',\n",
       " 'wur',\n",
       " 'wus',\n",
       " 'wvp',\n",
       " 'wvq',\n",
       " 'wvr',\n",
       " 'wvs',\n",
       " 'xtp',\n",
       " 'xtq',\n",
       " 'xtr',\n",
       " 'xts',\n",
       " 'xup',\n",
       " 'xuq',\n",
       " 'xur',\n",
       " 'xus',\n",
       " 'xvp',\n",
       " 'xvq',\n",
       " 'xvr',\n",
       " 'xvs',\n",
       " 'ytp',\n",
       " 'ytq',\n",
       " 'ytr',\n",
       " 'yts',\n",
       " 'yup',\n",
       " 'yuq',\n",
       " 'yur',\n",
       " 'yus',\n",
       " 'yvp',\n",
       " 'yvq',\n",
       " 'yvr',\n",
       " 'yvs',\n",
       " 'ztp',\n",
       " 'ztq',\n",
       " 'ztr',\n",
       " 'zts',\n",
       " 'zup',\n",
       " 'zuq',\n",
       " 'zur',\n",
       " 'zus',\n",
       " 'zvp',\n",
       " 'zvq',\n",
       " 'zvr',\n",
       " 'zvs']"
      ]
     },
     "execution_count": 78,
     "metadata": {},
     "output_type": "execute_result"
    }
   ],
   "source": [
    "def letterCombinations(digits):\n",
    "        \"\"\"\n",
    "        :type digits: str\n",
    "        :rtype: List[str]\n",
    "        \"\"\"\n",
    "        N=[None,None,'abc','def','ghi','jkl','mno','pqrs','tuv','wxyz']\n",
    "        if not digits: return []\n",
    "        if len(digits)==1:\n",
    "            D=int(digits)\n",
    "            return [N[D][i] for i in range(len(N[D]))]\n",
    "        \n",
    "        cnt=1\n",
    "        l1=N[int(digits[0])]        \n",
    "        tmp=[]\n",
    "        while cnt<len(digits):\n",
    "            l2=N[int(digits[cnt])]\n",
    "            for i in range(len(l1)):\n",
    "                for j in range(len(l2)):\n",
    "                    tmp.append(l1[i]+l2[j])\n",
    "            l1=tmp\n",
    "            tmp=[]\n",
    "            cnt+=1        \n",
    "        return l1\n",
    "\n",
    "digits='987'\n",
    "letterCombinations(digits)"
   ]
  }
 ],
 "metadata": {
  "kernelspec": {
   "display_name": "Python 3",
   "language": "python",
   "name": "python3"
  },
  "language_info": {
   "codemirror_mode": {
    "name": "ipython",
    "version": 3
   },
   "file_extension": ".py",
   "mimetype": "text/x-python",
   "name": "python",
   "nbconvert_exporter": "python",
   "pygments_lexer": "ipython3",
   "version": "3.6.3"
  }
 },
 "nbformat": 4,
 "nbformat_minor": 2
}
