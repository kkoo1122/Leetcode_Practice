{
 "cells": [
  {
   "cell_type": "markdown",
   "metadata": {},
   "source": [
    "Given a string containing digits from 2-9 inclusive, return all possible letter combinations that the number could represent.\n",
    "\n",
    "A mapping of digit to letters (just like on the telephone buttons) is given below. Note that 1 does not map to any letters."
   ]
  },
  {
   "cell_type": "markdown",
   "metadata": {},
   "source": [
    "### Thought\n",
    "1. Backtracking using while\n",
    "2. Depth first search (recursive)"
   ]
  },
  {
   "cell_type": "code",
   "execution_count": null,
   "metadata": {},
   "outputs": [],
   "source": [
    "def letterCombinations(digits):\n",
    "        \"\"\"\n",
    "        :type digits: str\n",
    "        :rtype: List[str]\n",
    "        \"\"\"\n",
    "        N=[None,None,'abc','def','ghi','jkl','mno','pqrs','tuv','wxyz']\n",
    "        if not digits: return []\n",
    "        if len(digits)==1:\n",
    "            D=int(digits)\n",
    "            return [N[D][i] for i in range(len(N[D]))]\n",
    "        \n",
    "        cnt=1\n",
    "        l1=N[int(digits[0])]        \n",
    "        tmp=[]\n",
    "        while cnt<len(digits):\n",
    "            l2=N[int(digits[cnt])]\n",
    "            for i in range(len(l1)):\n",
    "                for j in range(len(l2)):\n",
    "                    tmp.append(l1[i]+l2[j])\n",
    "            l1=tmp\n",
    "            tmp=[]\n",
    "            cnt+=1        \n",
    "        return l1\n",
    "\n",
    "digits='987'\n",
    "letterCombinations(digits)"
   ]
  },
  {
   "cell_type": "code",
   "execution_count": null,
   "metadata": {},
   "outputs": [],
   "source": [
    "def letterCombinations(digits):\n",
    "    \"\"\"\n",
    "    :type digits: str\n",
    "    :rtype: List[str]\n",
    "    \"\"\"\n",
    "    if not digits: return []\n",
    "    dic={'2':'abc','3':'def','4':'ghi','5':'jkl','6':'mno','7':'pqrs','8':'tuv','9':'wxyz'}\n",
    "\n",
    "    l=[dic[i] for i in digits]\n",
    "    n=len(l)\n",
    "\n",
    "    def dfs(start,n,ans,res,l):\n",
    "        if n==0:\n",
    "            res.append(ans[:])\n",
    "            return\n",
    "        for i in range(len(l[start])):\n",
    "            dfs(start+1,n-1,ans+l[start][i],res,l)\n",
    "\n",
    "        return res\n",
    "\n",
    "    return dfs(0,n,'',[],l)\n",
    "        \n",
    "digits='987'\n",
    "letterCombinations(digits):"
   ]
  }
 ],
 "metadata": {
  "kernelspec": {
   "display_name": "Python 3",
   "language": "python",
   "name": "python3"
  },
  "language_info": {
   "codemirror_mode": {
    "name": "ipython",
    "version": 3
   },
   "file_extension": ".py",
   "mimetype": "text/x-python",
   "name": "python",
   "nbconvert_exporter": "python",
   "pygments_lexer": "ipython3",
   "version": "3.6.3"
  }
 },
 "nbformat": 4,
 "nbformat_minor": 2
}
