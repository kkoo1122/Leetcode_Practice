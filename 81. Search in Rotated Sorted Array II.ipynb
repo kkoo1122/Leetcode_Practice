{
 "cells": [
  {
   "cell_type": "markdown",
   "metadata": {},
   "source": [
    "# Medium\n",
    "Suppose an array sorted in ascending order is rotated at some pivot unknown to you beforehand.\n",
    "\n",
    "(i.e., [0,0,1,2,2,5,6] might become [2,5,6,0,0,1,2]).\n",
    "\n",
    "You are given a target value to search. If found in the array return true, otherwise return false.\n",
    "\n",
    "**Example 1:**\n",
    "\n",
    "    Input: nums = [2,5,6,0,0,1,2], target = 0\n",
    "    Output: true\n",
    "\n",
    "**Example 2:**\n",
    "\n",
    "    Input: nums = [2,5,6,0,0,1,2], target = 3\n",
    "    Output: false\n",
    "\n",
    "**Follow up:**\n",
    "\n",
    "- This is a follow up problem to Search in Rotated Sorted Array, where nums may contain duplicates.\n",
    "- Would this affect the run-time complexity? How and why?"
   ]
  },
  {
   "cell_type": "markdown",
   "metadata": {},
   "source": [
    "# Thought\n",
    "\n",
    "In the condition for the nums[left] == nums[right] would cause the O(n) worst case. Therefore, duplicated numbers would cause our time complexity different from the LeetCode 33. \n"
   ]
  },
  {
   "cell_type": "code",
   "execution_count": null,
   "metadata": {},
   "outputs": [],
   "source": [
    "class Solution:\n",
    "    def search(self, nums: List[int], target: int) -> bool:\n",
    "        \n",
    "        left , right = 0 , len(nums)-1\n",
    "        \n",
    "        start = nums[0]\n",
    "        mid =  (left + right)//2\n",
    "        \n",
    "        while left <= right:\n",
    "            print(left, mid, right)\n",
    "            mid =  (left + right)//2\n",
    "            \n",
    "            if nums[mid] == target: return True\n",
    "            \n",
    "            if nums[mid] < target:\n",
    "                if nums[left] > target:\n",
    "                    left = mid + 1\n",
    "                elif nums[left] < target:\n",
    "                    right = mid - 1\n",
    "                else:\n",
    "                    return True\n",
    "            \n",
    "            elif nums[mid] > target:\n",
    "                left = mid + 1         \n",
    "\n",
    "        \n",
    "        return False"
   ]
  }
 ],
 "metadata": {
  "kernelspec": {
   "display_name": "Python 3",
   "language": "python",
   "name": "python3"
  },
  "language_info": {
   "codemirror_mode": {
    "name": "ipython",
    "version": 3
   },
   "file_extension": ".py",
   "mimetype": "text/x-python",
   "name": "python",
   "nbconvert_exporter": "python",
   "pygments_lexer": "ipython3",
   "version": "3.6.3"
  }
 },
 "nbformat": 4,
 "nbformat_minor": 2
}
