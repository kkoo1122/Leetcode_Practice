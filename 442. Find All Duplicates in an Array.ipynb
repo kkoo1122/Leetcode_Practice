{
 "cells": [
  {
   "cell_type": "markdown",
   "metadata": {},
   "source": [
    "Given an array of integers, **1 ≤ a[i] ≤ n (n = size of array)**, some elements appear twice and others appear once.\n",
    "\n",
    "Find all the elements that appear twice in this array.\n",
    "\n",
    "Could you do it **without extra space and in O(n) runtime**?\n",
    "\n",
    "**Example:**\n",
    "\n",
    "    Input:    \n",
    "    [4,3,2,7,8,2,3,1]\n",
    "\n",
    "    Output:    \n",
    "    [2,3]"
   ]
  },
  {
   "cell_type": "code",
   "execution_count": null,
   "metadata": {
    "collapsed": true
   },
   "outputs": [],
   "source": [
    "def findDuplicates(self, nums):\n",
    "        \"\"\"\n",
    "        :type nums: List[int]\n",
    "        :rtype: List[int]\n",
    "        \"\"\"\n",
    "        res=[]\n",
    "        for i in nums:\n",
    "            #idx=abs(i)-1            \n",
    "            if nums[abs(i)-1]<0:\n",
    "                res.append(abs(i))            \n",
    "            nums[abs(i)-1]*=-1        \n",
    "        return res"
   ]
  }
 ],
 "metadata": {
  "kernelspec": {
   "display_name": "Python 3",
   "language": "python",
   "name": "python3"
  },
  "language_info": {
   "codemirror_mode": {
    "name": "ipython",
    "version": 3
   },
   "file_extension": ".py",
   "mimetype": "text/x-python",
   "name": "python",
   "nbconvert_exporter": "python",
   "pygments_lexer": "ipython3",
   "version": "3.6.3"
  }
 },
 "nbformat": 4,
 "nbformat_minor": 2
}
