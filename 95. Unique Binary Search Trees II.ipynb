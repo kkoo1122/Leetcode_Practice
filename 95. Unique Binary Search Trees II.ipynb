{
 "cells": [
  {
   "cell_type": "markdown",
   "metadata": {},
   "source": [
    "\n",
    "Given an integer n, generate all structurally unique BST's (binary search trees) that store values 1 ... n.\n",
    "\n",
    "**Example:**\n",
    "\n",
    "    Input: 3\n",
    "    Output:\n",
    "    [\n",
    "      [1,null,3,2],\n",
    "      [3,2,null,1],\n",
    "      [3,1,null,null,2],\n",
    "      [2,1,3],\n",
    "      [1,null,2,null,3]\n",
    "    ]\n",
    "    \n",
    "**Explanation:**\n",
    "\n",
    "    The above output corresponds to the 5 unique BST's shown below:\n",
    "\n",
    "       1         3     3      2      1\n",
    "        \\       /     /      / \\      \\\n",
    "         3     2     1      1   3      2\n",
    "        /     /       \\                 \\\n",
    "       2     1         2                 3"
   ]
  },
  {
   "cell_type": "markdown",
   "metadata": {},
   "source": []
  },
  {
   "cell_type": "code",
   "execution_count": null,
   "metadata": {
    "collapsed": true
   },
   "outputs": [],
   "source": []
  }
 ],
 "metadata": {
  "kernelspec": {
   "display_name": "Python 3",
   "language": "python",
   "name": "python3"
  },
  "language_info": {
   "codemirror_mode": {
    "name": "ipython",
    "version": 3
   },
   "file_extension": ".py",
   "mimetype": "text/x-python",
   "name": "python",
   "nbconvert_exporter": "python",
   "pygments_lexer": "ipython3",
   "version": "3.6.3"
  }
 },
 "nbformat": 4,
 "nbformat_minor": 2
}
