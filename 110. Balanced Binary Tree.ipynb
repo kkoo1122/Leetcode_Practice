{
 "cells": [
  {
   "cell_type": "code",
   "execution_count": null,
   "metadata": {
    "collapsed": true
   },
   "outputs": [],
   "source": [
    "#Bottom up\n",
    "def dfsHeight(self, root):\n",
    "        if root == None:\n",
    "            return 0\n",
    "        \n",
    "        leftHeight = self.dfsHeight(root.left)\n",
    "        if leftHeight == -1:\n",
    "            return -1\n",
    "        \n",
    "        rightHeight = self.dfsHeight(root.right)\n",
    "        if rightHeight == -1:\n",
    "            return -1\n",
    "        \n",
    "        if(abs(leftHeight - rightHeight) > 1):\n",
    "            return -1\n",
    "        \n",
    "        return max(leftHeight,rightHeight) + 1\n",
    "        \n",
    "def isBalanced(self, root):\n",
    "    \"\"\"\n",
    "    :type root: TreeNode\n",
    "    :rtype: bool\n",
    "    \"\"\"\n",
    "    return self.dfsHeight(root) != -1"
   ]
  },
  {
   "cell_type": "code",
   "execution_count": 1,
   "metadata": {
    "collapsed": true
   },
   "outputs": [],
   "source": [
    "# Recursive \n",
    "# Time Complexity: O(nlogn)\n",
    "def isBalanced(self, root):\n",
    "        \"\"\"\n",
    "        :type root: TreeNode\n",
    "        :rtype: bool\n",
    "        \"\"\"        \n",
    "        def dfsheight(root):\n",
    "            if not root: return 0\n",
    "            else:\n",
    "                return 1+max(dfsheight(root.left),dfsheight(root.right))\n",
    "        \n",
    "        if not root: \n",
    "            return True\n",
    "        \n",
    "        left=dfsheight(root.left)\n",
    "        right=dfsheight(root.right)\n",
    "        \n",
    "        return abs(left-right)<=1 and self.isBalanced(root.right) and self.isBalanced(root.left)"
   ]
  }
 ],
 "metadata": {
  "kernelspec": {
   "display_name": "Python 3",
   "language": "python",
   "name": "python3"
  },
  "language_info": {
   "codemirror_mode": {
    "name": "ipython",
    "version": 3
   },
   "file_extension": ".py",
   "mimetype": "text/x-python",
   "name": "python",
   "nbconvert_exporter": "python",
   "pygments_lexer": "ipython3",
   "version": "3.6.3"
  }
 },
 "nbformat": 4,
 "nbformat_minor": 2
}
