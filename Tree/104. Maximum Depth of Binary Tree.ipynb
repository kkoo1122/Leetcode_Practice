{
 "cells": [
  {
   "cell_type": "code",
   "execution_count": null,
   "metadata": {
    "collapsed": true
   },
   "outputs": [],
   "source": [
    "'''\n",
    "def maxDepth(self, root):\n",
    "    \"\"\"\n",
    "    :type root: TreeNode\n",
    "    :rtype: int\n",
    "    \"\"\"\n",
    "    def dfs(p,depth):\n",
    "        if not p.right and not p.left:\n",
    "            D.append(depth)\n",
    "            return\n",
    "        if p.right:\n",
    "            dfs(p.right,depth+1)\n",
    "        if p.left:\n",
    "            dfs(p.left,depth+1)\n",
    "\n",
    "    if not root:\n",
    "        return 0\n",
    "    else:\n",
    "        D=[]\n",
    "        dfs(root,1)\n",
    "        return max(D)\n",
    "'''\n",
    "'''\n",
    "def maxDepth(self,root):\n",
    "    if not root: return 0\n",
    "    leftmax=self.maxDepth(root.left)\n",
    "    rightmax=self.maxDepth(root.right)\n",
    "\n",
    "    return max(leftmax,rightmax)+1\n",
    "'''\n",
    "def maxDepth(self, root):\n",
    "    return 1 + max(map(self.maxDepth, (root.left, root.right))) if root else 0"
   ]
  }
 ],
 "metadata": {
  "kernelspec": {
   "display_name": "Python 3",
   "language": "python",
   "name": "python3"
  },
  "language_info": {
   "codemirror_mode": {
    "name": "ipython",
    "version": 3
   },
   "file_extension": ".py",
   "mimetype": "text/x-python",
   "name": "python",
   "nbconvert_exporter": "python",
   "pygments_lexer": "ipython3",
   "version": "3.6.3"
  }
 },
 "nbformat": 4,
 "nbformat_minor": 2
}
