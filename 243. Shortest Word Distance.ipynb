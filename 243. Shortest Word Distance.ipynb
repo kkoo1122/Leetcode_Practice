{
 "cells": [
  {
   "cell_type": "markdown",
   "metadata": {},
   "source": [
    "Given a list of words and two words word1 and word2, return the shortest distance between these two words in the list.\n",
    "\n",
    "**Example:**\n",
    "\n",
    "    Assume that words = [\"practice\", \"makes\", \"perfect\", \"coding\", \"makes\"].\n",
    "\n",
    "    Input: word1 = “coding”, word2 = “practice”\n",
    "    Output: 3\n",
    "    Input: word1 = \"makes\", word2 = \"coding\"\n",
    "    Output: 1\n",
    "**Note:**\n",
    "You may assume that word1 does not equal to word2, and word1 and word2 are both in the list.\n",
    "\n"
   ]
  },
  {
   "cell_type": "code",
   "execution_count": null,
   "metadata": {},
   "outputs": [],
   "source": [
    "class Solution:\n",
    "    def shortestDistance(self, words, word1, word2):\n",
    "        \"\"\"\n",
    "        :type words: List[str]\n",
    "        :type word1: str\n",
    "        :type word2: str\n",
    "        :rtype: int\n",
    "        \"\"\"\n",
    "        pt1,pt2,ans=float(\"inf\"),float(\"inf\"),float(\"inf\")\n",
    "        \n",
    "        for i in range(len(words)):\n",
    "            if words[i]==word1:\n",
    "                pt1=i\n",
    "            if words[i]==word2:\n",
    "                pt2=i\n",
    "            ans=min(ans,abs(pt1-pt2))\n",
    "        \n",
    "        return ans"
   ]
  }
 ],
 "metadata": {
  "kernelspec": {
   "display_name": "Python 3",
   "language": "python",
   "name": "python3"
  },
  "language_info": {
   "codemirror_mode": {
    "name": "ipython",
    "version": 3
   },
   "file_extension": ".py",
   "mimetype": "text/x-python",
   "name": "python",
   "nbconvert_exporter": "python",
   "pygments_lexer": "ipython3",
   "version": "3.6.3"
  }
 },
 "nbformat": 4,
 "nbformat_minor": 2
}
