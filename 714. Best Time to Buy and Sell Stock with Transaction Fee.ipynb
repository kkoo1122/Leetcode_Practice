{
 "cells": [
  {
   "cell_type": "markdown",
   "metadata": {},
   "source": [
    "Your are given an array of integers **prices**, for which the i-th element is the price of a given stock on day i; and a non-negative integer fee representing a **transaction fee**.\n",
    "\n",
    "You may complete as many transactions as you like, but you need to pay the transaction fee for each transaction. You may not buy more than 1 share of a stock at a time (ie. you must sell the stock share before you buy again.)\n",
    "\n",
    "Return the maximum profit you can make.\n",
    "\n",
    "**Example 1:**\n",
    "\n",
    "    Input: prices = [1, 3, 2, 8, 4, 9], fee = 2\n",
    "    Output: 8\n",
    "    Explanation: The maximum profit can be achieved by:\n",
    "    Buying at prices[0] = 1\n",
    "    Selling at prices[3] = 8\n",
    "    Buying at prices[4] = 4\n",
    "    Selling at prices[5] = 9\n",
    "    The total profit is ((8 - 1) - 2) + ((9 - 4) - 2) = 8.\n"
   ]
  },
  {
   "cell_type": "markdown",
   "metadata": {},
   "source": [
    "### Thought\n",
    "\n",
    "[DP]用累積的方法累加上去。 cash 當作試擁有的現金，所以在每天的情況下可能會有所改變，比須找到最大的解。hold 就當作是購買股票的成本，所以在此時必須**負數**來計算，以便於找到最小的購買成本(e.g. max{-1,-2}=-1.代表說花了最少的錢(-1)去做購買)\n",
    "程式碼如下並舉 prices=[1,3,2,8,4,9] , fee=2 為例子:\n",
    "\n",
    "    cash , hold = 0 ,  -prices[0]\n",
    "    for i in range(1,len(prices)):\n",
    "\n",
    "        cash = max(cash,hold+prices[i]-fee)\n",
    "        hold = max(hold,cash-prices[i])\n",
    "        print(cash,hold)\n",
    "\n",
    "c h<br>\n",
    "0 -1<br>\n",
    "0 -1<br>\n",
    "5 -1<br>\n",
    "5 1<br>\n",
    "8 1<br>\n",
    "\n",
    "把每一步的[cash,hold]印出來後可以看見，hold一直保持在-1是因為在計算總支出時，沒有更好的profit。"
   ]
  },
  {
   "cell_type": "code",
   "execution_count": 4,
   "metadata": {},
   "outputs": [
    {
     "name": "stdout",
     "output_type": "stream",
     "text": [
      "0 -1\n",
      "0 -1\n",
      "17 -1\n",
      "17 9\n",
      "17 13\n",
      "20 13\n"
     ]
    },
    {
     "data": {
      "text/plain": [
       "20"
      ]
     },
     "execution_count": 4,
     "metadata": {},
     "output_type": "execute_result"
    }
   ],
   "source": [
    "def maxProfit(prices, fee):\n",
    "        \"\"\"\n",
    "        :type prices: List[int]\n",
    "        :type fee: int\n",
    "        :rtype: int\n",
    "        \"\"\"        \n",
    "        cash , hold = 0 ,  -prices[0]\n",
    "        for i in range(1,len(prices)):\n",
    "            \n",
    "            print(cash,hold)\n",
    "            cash = max(cash,hold+prices[i]-fee)\n",
    "            hold = max(hold,cash-prices[i])\n",
    "            \n",
    "        \n",
    "        print(cash,hold)\n",
    "        return cash\n",
    "    \n",
    "maxProfit([1,3,20,8,4,9],2)"
   ]
  }
 ],
 "metadata": {
  "kernelspec": {
   "display_name": "Python 3",
   "language": "python",
   "name": "python3"
  },
  "language_info": {
   "codemirror_mode": {
    "name": "ipython",
    "version": 3
   },
   "file_extension": ".py",
   "mimetype": "text/x-python",
   "name": "python",
   "nbconvert_exporter": "python",
   "pygments_lexer": "ipython3",
   "version": "3.6.3"
  }
 },
 "nbformat": 4,
 "nbformat_minor": 2
}
