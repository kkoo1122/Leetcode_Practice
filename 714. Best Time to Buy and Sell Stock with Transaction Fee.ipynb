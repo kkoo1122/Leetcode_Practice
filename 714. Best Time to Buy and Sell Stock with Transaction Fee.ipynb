{
 "cells": [
  {
   "cell_type": "markdown",
   "metadata": {},
   "source": [
    "## Question\n",
    "Your are given an array of integers **prices**, for which the i-th element is the price of a given stock on day i; and a non-negative integer fee representing a **transaction fee**.\n",
    "\n",
    "You may complete as many transactions as you like, but you need to pay the transaction fee for each transaction. You may not buy more than 1 share of a stock at a time (ie. you must sell the stock share before you buy again.)\n",
    "\n",
    "Return the maximum profit you can make.\n",
    "\n",
    "**Example 1:**\n",
    "\n",
    "    Input: prices = [1, 3, 2, 8, 4, 9], fee = 2\n",
    "    Output: 8\n",
    "    Explanation: The maximum profit can be achieved by:\n",
    "    Buying at prices[0] = 1\n",
    "    Selling at prices[3] = 8\n",
    "    Buying at prices[4] = 4\n",
    "    Selling at prices[5] = 9\n",
    "    The total profit is ((8 - 1) - 2) + ((9 - 4) - 2) = 8.\n"
   ]
  },
  {
   "cell_type": "markdown",
   "metadata": {},
   "source": [
    "## Thought\n",
    "\n",
    "[DP]用累積的方法累加上去。 cash 當作試擁有的現金，所以在每天的情況下可能會有所改變，比須找到最大的解。hold 就當作是購買股票的成本，所以在此時必須**負數**來計算，以便於找到最小的購買成本(e.g. max{-1,-2}=-1.代表說花了最少的錢(-1)去做購買)\n",
    "程式碼如下並舉 prices=[1,3,2,8,4,9] , fee=2 為例子:\n",
    "\n",
    "    cash , hold = 0 ,  -prices[0]\n",
    "    for i in range(1,len(prices)):\n",
    "\n",
    "        cash = max(cash,hold+prices[i]-fee)\n",
    "        hold = max(hold,cash-prices[i])\n",
    "        print(cash,hold)\n",
    "\n",
    "c h<br>\n",
    "0 -1<br>\n",
    "0 -1<br>\n",
    "5 -1<br>\n",
    "5 1<br>\n",
    "8 1<br>\n",
    "\n",
    "對於第N天的最大收益，應分成兩種情況，一是該天結束後手裡沒有**stock**，可能是保持前一天的狀態也可能是今天賣出了，此時令收益為**cash**;二是該天結束後手中有一個**stock**，可能是保持前一天的狀態，也可能是今天買入了，用保持表示。由於第我天的情況只和N-1天有關，所以用兩個變量的**cash**和持有就可以，不需要用數組。\n",
    "\n",
    "[BLOG SOLUTION](https://blog.csdn.net/Zarlove/article/details/78323469)"
   ]
  },
  {
   "cell_type": "code",
   "execution_count": null,
   "metadata": {},
   "outputs": [],
   "source": [
    "def maxProfit(prices, fee):\n",
    "        \"\"\"\n",
    "        :type prices: List[int]\n",
    "        :type fee: int\n",
    "        :rtype: int\n",
    "        \"\"\"        \n",
    "        cash , hold = 0 ,  -prices[0]\n",
    "        for i in range(1,len(prices)):\n",
    "            \n",
    "            print(cash,hold)\n",
    "            cash = max(cash,hold+prices[i]-fee)\n",
    "            hold = max(hold,cash-prices[i])\n",
    "            \n",
    "        \n",
    "        print(cash,hold)\n",
    "        return cash\n",
    "    \n",
    "maxProfit([1,3,20,8,4,9],2)"
   ]
  },
  {
   "cell_type": "markdown",
   "metadata": {},
   "source": [
    "## Thought\n",
    "- 變動每次購買的price p<br>\n",
    "- 只要有一次transaction就變更當時buy的價錢<br>\n",
    "- 要觸發transaction的條件就是當 **price-buy-fee需要大於零的情況下**，才會有成功的transaction。"
   ]
  },
  {
   "cell_type": "code",
   "execution_count": 4,
   "metadata": {},
   "outputs": [
    {
     "name": "stdout",
     "output_type": "stream",
     "text": [
      "2\n",
      "15\n",
      "3\n"
     ]
    },
    {
     "data": {
      "text/plain": [
       "20"
      ]
     },
     "execution_count": 4,
     "metadata": {},
     "output_type": "execute_result"
    }
   ],
   "source": [
    "def maxProfit(prices, fee):\n",
    "        buy = prices[0]\n",
    "        res = 0\n",
    "        for p in prices:\n",
    "            if buy > p: # current price is less than last buy\n",
    "                buy = p # buy at p\n",
    "            else:\n",
    "                tmp = p - buy - fee\n",
    "                if tmp > 0: # have profit\n",
    "                    print(tmp)\n",
    "                    res += tmp\n",
    "                    buy = p - fee \n",
    "        return res\n",
    "\n",
    "maxProfit([1,5,20,8,4,9],2)"
   ]
  }
 ],
 "metadata": {
  "kernelspec": {
   "display_name": "Python 3",
   "language": "python",
   "name": "python3"
  },
  "language_info": {
   "codemirror_mode": {
    "name": "ipython",
    "version": 3
   },
   "file_extension": ".py",
   "mimetype": "text/x-python",
   "name": "python",
   "nbconvert_exporter": "python",
   "pygments_lexer": "ipython3",
   "version": "3.6.3"
  }
 },
 "nbformat": 4,
 "nbformat_minor": 2
}
