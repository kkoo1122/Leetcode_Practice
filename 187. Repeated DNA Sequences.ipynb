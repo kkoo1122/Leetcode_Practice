{
 "cells": [
  {
   "cell_type": "markdown",
   "metadata": {},
   "source": [
    "All DNA is composed of a series of nucleotides abbreviated as A, C, G, and T, for example: \"ACGAATTCCG\". When studying DNA, it is sometimes useful to identify repeated sequences within the DNA.\n",
    "\n",
    "Write a function to find all the 10-letter-long sequences (substrings) that occur more than once in a DNA molecule.\n",
    "\n",
    "**Example:**\n",
    "\n",
    "    Input: s = \"AAAAACCCCCAAAAACCCCCCAAAAAGGGTTT\"\n",
    "    \n",
    "    Output: [\"AAAAACCCCC\", \"CCCCCAAAAA\"]"
   ]
  },
  {
   "cell_type": "markdown",
   "metadata": {},
   "source": [
    "### Thought\n",
    "\n",
    "1. The first method I'm using hash table to store every sequence that hasn't used before. Otherwise, the sequences have been used will store into result. And there might contain more than two times in the test DNA sequence, so I utilized set() to reduce the duplicate cases. There are several redudant manipulation in this method. I am going to find another way to reduce the space or time complexity."
   ]
  },
  {
   "cell_type": "code",
   "execution_count": null,
   "metadata": {
    "collapsed": true
   },
   "outputs": [],
   "source": [
    "def findRepeatedDnaSequences(self, s):\n",
    "    \"\"\"\n",
    "    :type s: str\n",
    "    :rtype: List[str]\n",
    "    \"\"\"\n",
    "    dic={}\n",
    "    res=[]\n",
    "    for i in range(len(s)-9):\n",
    "        if s[i:i+10] in dic:\n",
    "            res.append(s[i:i+10])\n",
    "        else:\n",
    "            dic[s[i:i+10]]=1\n",
    "\n",
    "    return list(set(res))"
   ]
  },
  {
   "cell_type": "code",
   "execution_count": 19,
   "metadata": {
    "collapsed": true
   },
   "outputs": [],
   "source": [
    "def findRepeatedDnaSequences(self, s):\n",
    "    \"\"\"\n",
    "    :type s: str\n",
    "    :rtype: List[str]\n",
    "    \"\"\"\n",
    "    visited=set()\n",
    "    repeated=set()\n",
    "\n",
    "    for i in range(len(s)-9):\n",
    "        subs=s[i:i+10]\n",
    "        if subs in visited:\n",
    "            repeated.add(subs)\n",
    "        visited.add(subs)\n",
    "\n",
    "    return list(repeated)"
   ]
  }
 ],
 "metadata": {
  "kernelspec": {
   "display_name": "Python 3",
   "language": "python",
   "name": "python3"
  },
  "language_info": {
   "codemirror_mode": {
    "name": "ipython",
    "version": 3
   },
   "file_extension": ".py",
   "mimetype": "text/x-python",
   "name": "python",
   "nbconvert_exporter": "python",
   "pygments_lexer": "ipython3",
   "version": "3.6.3"
  }
 },
 "nbformat": 4,
 "nbformat_minor": 2
}
