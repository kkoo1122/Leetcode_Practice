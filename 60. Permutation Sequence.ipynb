{
 "cells": [
  {
   "cell_type": "markdown",
   "metadata": {},
   "source": [
    "The set [1,2,3,...,n] contains a total of n! unique permutations.\n",
    "\n",
    "By listing and labeling all of the permutations in order, we get the following sequence for n = 3:\n",
    "\n",
    "    \"123\"\n",
    "    \"132\"\n",
    "    \"213\"\n",
    "    \"231\"\n",
    "    \"312\"\n",
    "    \"321\"\n",
    "\n",
    "Given n and k, return the kth permutation sequence.\n",
    "\n",
    "**Note:**\n",
    "\n",
    "- Given n will be between 1 and 9 inclusive.\n",
    "- Given k will be between 1 and n! inclusive.\n",
    "\n",
    "**Example 1:**\n",
    "\n",
    "    Input: n = 3, k = 3\n",
    "    Output: \"213\"\n",
    "\n",
    "**Example 2:**\n",
    "\n",
    "    Input: n = 4, k = 9\n",
    "    Output: \"2314\""
   ]
  },
  {
   "cell_type": "markdown",
   "metadata": {},
   "source": [
    "### Thought\n",
    "**I.** First solution, I used recursive to get the k-th number in n permutation. However, if used long test case like n=8 and k=30000, it would get Time Limit Exceeded.\n",
    "\n",
    "**II.** The second solution is more tricky. We can observe that if the length is n, we can have n! permutations. Therefore, we can make the sequence into subsequence problem. Example has been shown below:\n",
    "\n",
    "    n=4, k=17\n",
    "    \n",
    "    ------\n",
    "    1 (234)\n",
    "    1 (243)\n",
    "    1 (324)\n",
    "    1 (342)\n",
    "    1 (423)\n",
    "    1 (432)\n",
    "    ------\n",
    "    2 (134)\n",
    "    2 (143)\n",
    "    2 (314) \n",
    "    2 (341)\n",
    "    2 (413)\n",
    "    2 (431)\n",
    "    ------\n",
    "    3 (124)\n",
    "    3 (142)\n",
    "    3 (214)\n",
    "    3 (241)\n",
    "    3 (412) #k = 17  --> 17 % (3!) = 5 , our new k=5, n=4-1. nums=[1,2,4] because we can make sure first number is 3.\n",
    "    3 (421)\n",
    "    ------\n",
    "    4 (123)\n",
    "    4 (132)\n",
    "    4 (213)\n",
    "    4 (231)\n",
    "    4 (312)\n",
    "    4 (321)\n",
    "    \n",
    "n=4 -> we have 4! permutation, then we can subtract the problem that isolate the first number, and get the n=3 -> 3! permutation, and so on\n",
    "    "
   ]
  },
  {
   "cell_type": "code",
   "execution_count": null,
   "metadata": {},
   "outputs": [],
   "source": [
    "#Time Limit Exceeded\n",
    "def getPermutation(self,n, k):\n",
    "    \"\"\"\n",
    "    :type n: int\n",
    "    :type k: int\n",
    "    :rtype: str\n",
    "    \"\"\"\n",
    "    #Time Limit Exceeded\n",
    "    Lis=[i for i in range(1,n+1)]\n",
    "    self.k=k\n",
    "    def helper(n,ans,res,L):\n",
    "        if not n:\n",
    "            self.k-=1\n",
    "            res.append(ans[:])\n",
    "            return\n",
    "        for i in range(len(L)):\n",
    "            helper(n-1,ans+str(L[i]),res,L[:i]+L[i+1:])\n",
    "\n",
    "            if self.k==0:\n",
    "                return res\n",
    "        return res\n",
    "\n",
    "    return helper(n,'',[],Lis)[-1]"
   ]
  },
  {
   "cell_type": "code",
   "execution_count": 30,
   "metadata": {},
   "outputs": [
    {
     "data": {
      "text/plain": [
       "'17536482'"
      ]
     },
     "execution_count": 30,
     "metadata": {},
     "output_type": "execute_result"
    }
   ],
   "source": [
    "def getPermutation(n, k):\n",
    "    \"\"\"\n",
    "    :type n: int\n",
    "    :type k: int\n",
    "    :rtype: str\n",
    "    \"\"\"\n",
    "    factorial = [1]*(n+1)\n",
    "    for i in range(1,n+1):\n",
    "        factorial[i]=factorial[i-1]*i\n",
    "    nums=[i for i in range(1,n+1)]\n",
    "    res=''\n",
    "    while nums:\n",
    "        num=nums[-(-k//factorial[n-1])-1]\n",
    "        k=k%factorial[n-1]\n",
    "        n-=1\n",
    "        res+=str(num)\n",
    "        nums.remove(num)\n",
    "\n",
    "    return res\n",
    "\n",
    "n=8\n",
    "k=4000\n",
    "\n",
    "getPermutation(n,k)"
   ]
  }
 ],
 "metadata": {
  "kernelspec": {
   "display_name": "Python 3",
   "language": "python",
   "name": "python3"
  },
  "language_info": {
   "codemirror_mode": {
    "name": "ipython",
    "version": 3
   },
   "file_extension": ".py",
   "mimetype": "text/x-python",
   "name": "python",
   "nbconvert_exporter": "python",
   "pygments_lexer": "ipython3",
   "version": "3.6.3"
  }
 },
 "nbformat": 4,
 "nbformat_minor": 2
}
