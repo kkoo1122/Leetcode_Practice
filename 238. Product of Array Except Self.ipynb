{
 "cells": [
  {
   "cell_type": "markdown",
   "metadata": {},
   "source": [
    "Given an array nums of n integers where n > 1,  return an array output such that output[i] is equal to the product of all the elements of nums except nums[i].\n",
    "\n",
    "**Example:**\n",
    "    \n",
    "    Input:  [1,2,3,4]\n",
    "    Output: [24,12,8,6]\n",
    "    \n",
    "**Note**: Please solve it without division and in O(n).\n",
    "\n",
    "**Follow up**:\n",
    "- Could you solve it with constant space complexity? (The output array does not count as extra space for the purpose of space complexity analysis.)"
   ]
  },
  {
   "cell_type": "markdown",
   "metadata": {},
   "source": [
    "### Thought\n",
    "\n",
    "    nums=[4,5,6,7]\n",
    "\n",
    "    - first for loop:\n",
    "    direction         ---> \n",
    "    output=[1,4*1,5*(4*1),6*(5*(4*1))] useless tmp:7*6*5*4*1\n",
    "\n",
    "    - second for loop \n",
    "    direction         <---\n",
    "    output=[(1)*(1*7*6*5),(4*1)*(1*7*6),(5*4*1)*(1*7),(6*5*4*1)*(1)]\n"
   ]
  },
  {
   "cell_type": "code",
   "execution_count": null,
   "metadata": {
    "collapsed": true
   },
   "outputs": [],
   "source": [
    "#Time Complexity: O(2n)\n",
    "#Sapce Complexity: O(1)\n",
    "def productExceptSelf(self, nums):\n",
    "    \"\"\"\n",
    "    :type nums: List[int]\n",
    "    :rtype: List[int]\n",
    "    \"\"\"\n",
    "    n=len(nums)\n",
    "    output=[]\n",
    "    tmp=1\n",
    "    for i in range(n):\n",
    "        print(tmp)\n",
    "        output.append(tmp)\n",
    "        tmp*=nums[i]\n",
    "\n",
    "    tmp=1\n",
    "    for i in range(n-1,-1,-1):\n",
    "        print(tmp)\n",
    "        output[i]*=tmp\n",
    "        tmp*=nums[i]\n",
    "\n",
    "    return output\n",
    "\n"
   ]
  }
 ],
 "metadata": {
  "kernelspec": {
   "display_name": "Python 3",
   "language": "python",
   "name": "python3"
  },
  "language_info": {
   "codemirror_mode": {
    "name": "ipython",
    "version": 3
   },
   "file_extension": ".py",
   "mimetype": "text/x-python",
   "name": "python",
   "nbconvert_exporter": "python",
   "pygments_lexer": "ipython3",
   "version": "3.6.3"
  }
 },
 "nbformat": 4,
 "nbformat_minor": 2
}
