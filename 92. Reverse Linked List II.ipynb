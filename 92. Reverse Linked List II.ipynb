{
 "cells": [
  {
   "cell_type": "markdown",
   "metadata": {},
   "source": [
    "# Medium\n",
    "\n",
    "Reverse a linked list from position m to n. Do it in one-pass.\n",
    "\n",
    "Note: 1 ≤ m ≤ n ≤ length of list.\n",
    "\n",
    "Example:\n",
    "\n",
    "    Input: 1->2->3->4->5->NULL, m = 2, n = 4\n",
    "    Output: 1->4->3->2->5->NULL"
   ]
  },
  {
   "cell_type": "markdown",
   "metadata": {},
   "source": [
    "# Thought\n",
    "\n",
    "cut the original list between m , n \n",
    "\n",
    "and do the reverse link list.\n",
    "\n",
    "connect back to the original list."
   ]
  },
  {
   "cell_type": "code",
   "execution_count": null,
   "metadata": {},
   "outputs": [],
   "source": [
    "def reverseBetween(self, head: ListNode, m: int, n: int) -> ListNode:\n",
    "        if n == m: return head\n",
    "        rev_len = n-m\n",
    "        dummy = prev = ListNode(0)\n",
    "        dummy.next = prev.next = head\n",
    "        \n",
    "        #cut link between m,n\n",
    "        cur = head\n",
    "        while m > 1:\n",
    "            m -= 1\n",
    "            prev = prev.next\n",
    "            cur = cur.next\n",
    "               \n",
    "        end = cur\n",
    "        while rev_len > 0:\n",
    "            rev_len -= 1\n",
    "            end = end.next\n",
    "        back = end.next\n",
    "        end.next = None\n",
    "        prev.next = None\n",
    "        \n",
    "        #reverse link\n",
    "        end = cur\n",
    "        pre = None\n",
    "        while cur:            \n",
    "            nex = cur.next\n",
    "            cur.next = pre\n",
    "            pre = cur\n",
    "            cur = nex        \n",
    "        \n",
    "        #connect back to original list\n",
    "        prev.next = pre\n",
    "        end.next = back\n",
    "        \n",
    "        return dummy.next"
   ]
  }
 ],
 "metadata": {
  "kernelspec": {
   "display_name": "Python 3",
   "language": "python",
   "name": "python3"
  },
  "language_info": {
   "codemirror_mode": {
    "name": "ipython",
    "version": 3
   },
   "file_extension": ".py",
   "mimetype": "text/x-python",
   "name": "python",
   "nbconvert_exporter": "python",
   "pygments_lexer": "ipython3",
   "version": "3.6.3"
  }
 },
 "nbformat": 4,
 "nbformat_minor": 2
}
