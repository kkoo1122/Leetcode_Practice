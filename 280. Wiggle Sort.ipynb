{
 "cells": [
  {
   "cell_type": "markdown",
   "metadata": {},
   "source": [
    "Given an unsorted array nums, reorder it in-place such that nums[0] <= nums[1] >= nums[2] <= nums[3]....\n",
    "\n",
    "**Example:**\n",
    "\n",
    "    Input: nums = [3,5,2,1,6,4]\n",
    "    Output: One possible answer is [3,5,1,6,2,4]"
   ]
  },
  {
   "cell_type": "markdown",
   "metadata": {},
   "source": [
    "## Thought\n"
   ]
  },
  {
   "cell_type": "code",
   "execution_count": null,
   "metadata": {},
   "outputs": [],
   "source": [
    "def wiggleSort(self, nums):\n",
    "    \"\"\"\n",
    "    :type nums: List[int]\n",
    "    :rtype: void Do not return anything, modify nums in-place instead.\n",
    "    \"\"\"\n",
    "    if not nums:\n",
    "        return\n",
    "\n",
    "    n=len(nums)\n",
    "\n",
    "    for i in range(1,n,2):\n",
    "        if nums[i]<nums[i-1]:\n",
    "            nums[i],nums[i-1]=nums[i-1],nums[i]\n",
    "\n",
    "        if i+1 < n and nums[i+1]>nums[i]:\n",
    "            nums[i+1],nums[i] = nums[i], nums[i+1]"
   ]
  }
 ],
 "metadata": {
  "kernelspec": {
   "display_name": "Python 3",
   "language": "python",
   "name": "python3"
  },
  "language_info": {
   "codemirror_mode": {
    "name": "ipython",
    "version": 3
   },
   "file_extension": ".py",
   "mimetype": "text/x-python",
   "name": "python",
   "nbconvert_exporter": "python",
   "pygments_lexer": "ipython3",
   "version": "3.6.3"
  }
 },
 "nbformat": 4,
 "nbformat_minor": 2
}
