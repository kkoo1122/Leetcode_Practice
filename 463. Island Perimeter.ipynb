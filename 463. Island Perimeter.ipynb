{
 "cells": [
  {
   "cell_type": "markdown",
   "metadata": {},
   "source": [
    "You are given a map in form of a two-dimensional integer grid where 1 represents land and 0 represents water. Grid cells are connected horizontally/vertically (not diagonally). The grid is completely surrounded by water, and there is exactly one island (i.e., one or more connected land cells). The island doesn't have \"lakes\" (water inside that isn't connected to the water around the island). One cell is a square with side length 1. The grid is rectangular, width and height don't exceed 100. Determine the perimeter of the island.\n",
    "\n",
    "**Example:**\n",
    "\n",
    "    [[0,1,0,0],\n",
    "     [1,1,1,0],\n",
    "     [0,1,0,0],\n",
    "     [1,1,0,0]]\n",
    "\n",
    "Answer: 16<br>\n",
    "**Explanation:** The perimeter is the 16 yellow stripes in the image below:"
   ]
  },
  {
   "cell_type": "markdown",
   "metadata": {},
   "source": [
    "### Thought\n",
    "- First Thought:\n",
    "    - Check every node and its adjacents.\n",
    "\n",
    "- Second Thought:\n",
    "    - Count every node as +4 Perimeters and check if its each side exists, then -2. "
   ]
  },
  {
   "cell_type": "code",
   "execution_count": null,
   "metadata": {
    "collapsed": true
   },
   "outputs": [],
   "source": [
    "def islandPerimeter(grid):\n",
    "        \"\"\"\n",
    "        :type grid: List[List[int]]\n",
    "        :rtype: int\n",
    "        \"\"\"        \n",
    "        if not grid: return 0\n",
    "        \n",
    "        def neighbor(i,j):\n",
    "            n=(i+1,j),(i-1,j),(i,j+1),(i,j-1),\n",
    "            \n",
    "            a_per=0\n",
    "            for x,y in n:\n",
    "                if x<0 or y<0 or x==len(grid) or y==len(grid[0]) or grid[x][y]==0:\n",
    "                    a_per+=1\n",
    "            return a_per\n",
    "        \n",
    "        Per=0\n",
    "        for i in range(len(grid)):\n",
    "            for j in range(len(grid[0])):\n",
    "                if grid[i][j]==1:\n",
    "                    Per+=neighbor(i,j)\n",
    "        \n",
    "        return Per\n"
   ]
  },
  {
   "cell_type": "code",
   "execution_count": null,
   "metadata": {
    "collapsed": true
   },
   "outputs": [],
   "source": [
    "def islandPerimeter(grid):\n",
    "        \"\"\"\n",
    "        :type grid: List[List[int]]\n",
    "        :rtype: int\n",
    "        \"\"\"\n",
    "        \n",
    "        if not grid: return 0\n",
    "\n",
    "        per=0\n",
    "        for i , row in enumerate(grid):\n",
    "            for j , val in enumerate(row):\n",
    "                if val:\n",
    "                    per+=4\n",
    "                    if i>0 and grid[i-1][j]: per-=2\n",
    "                    if j>0 and grid[i][j-1]: per-=2\n",
    "        \n",
    "        return per"
   ]
  }
 ],
 "metadata": {
  "kernelspec": {
   "display_name": "Python 3",
   "language": "python",
   "name": "python3"
  },
  "language_info": {
   "codemirror_mode": {
    "name": "ipython",
    "version": 3
   },
   "file_extension": ".py",
   "mimetype": "text/x-python",
   "name": "python",
   "nbconvert_exporter": "python",
   "pygments_lexer": "ipython3",
   "version": "3.6.3"
  }
 },
 "nbformat": 4,
 "nbformat_minor": 2
}
