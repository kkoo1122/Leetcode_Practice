{
 "cells": [
  {
   "cell_type": "markdown",
   "metadata": {},
   "source": [
    "## Medium\n",
    "\n",
    "Given a linked list, swap every two adjacent nodes and return its head.\n",
    "\n",
    "You may not modify the values in the list's nodes, only nodes itself may be changed.\n",
    "\n",
    " \n",
    "\n",
    "**Example:**\n",
    "\n",
    "    Given 1->2->3->4, you should return the list as 2->1->4->3."
   ]
  },
  {
   "cell_type": "markdown",
   "metadata": {},
   "source": [
    "# Thought\n",
    "\n",
    "set a dummy node\n",
    "\n",
    "dummy(cur) -> 1 -> 2 -> 3 -> 4\n",
    "\n",
    "cur -> 1 -> 3 -> 4 , 2 (pre)\n",
    "\n",
    "cur -> 2 (pre) -> 1 -> 3 -> 4\n",
    "\n",
    "2 -> 1 (cur) ------> 4 (pre) , 3\n",
    "\n",
    "2 -> 1 -> 4 -> 3"
   ]
  },
  {
   "cell_type": "code",
   "execution_count": null,
   "metadata": {},
   "outputs": [],
   "source": [
    "def swapPairs(self, head: ListNode) -> ListNode:\n",
    "        dummy = cur  = ListNode(0)\n",
    "        dummy.next = cur.next = head\n",
    "                \n",
    "        while head and head.next:\n",
    "            pre = head.next\n",
    "            head.next = head.next.next\n",
    "            pre.next = head\n",
    "            cur.next = pre\n",
    "            head = head.next\n",
    "            cur = pre.next\n",
    "            \n",
    "        \n",
    "        \n",
    "        return dummy.next"
   ]
  }
 ],
 "metadata": {
  "kernelspec": {
   "display_name": "Python 3",
   "language": "python",
   "name": "python3"
  },
  "language_info": {
   "codemirror_mode": {
    "name": "ipython",
    "version": 3
   },
   "file_extension": ".py",
   "mimetype": "text/x-python",
   "name": "python",
   "nbconvert_exporter": "python",
   "pygments_lexer": "ipython3",
   "version": "3.6.3"
  }
 },
 "nbformat": 4,
 "nbformat_minor": 2
}
