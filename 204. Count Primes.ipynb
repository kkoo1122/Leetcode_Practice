{
 "cells": [
  {
   "cell_type": "code",
   "execution_count": 58,
   "metadata": {},
   "outputs": [
    {
     "data": {
      "text/plain": [
       "6"
      ]
     },
     "execution_count": 58,
     "metadata": {},
     "output_type": "execute_result"
    }
   ],
   "source": [
    "def countPrimes(n):\n",
    "        \"\"\"\n",
    "        :type n: int\n",
    "        :rtype: int\n",
    "        \"\"\"\n",
    "        if n <= 2:\n",
    "            return 0\n",
    "        \n",
    "        prime = [True] * n\n",
    "        prime[:2] = [False, False]\n",
    "        for base in range(2, int((n - 1) ** 0.5) + 1):            \n",
    "            #if prime[base]:                \n",
    "            #    prime[base ** 2::base] = [False] * len(prime[base ** 2::base])\n",
    "            #print(prime)\n",
    "            for j in range(base * base, n, base):\n",
    "                prime[j] = False    \n",
    "        return sum(prime)\n",
    "\n",
    "countPrimes(15)"
   ]
  }
 ],
 "metadata": {
  "kernelspec": {
   "display_name": "Python 3",
   "language": "python",
   "name": "python3"
  },
  "language_info": {
   "codemirror_mode": {
    "name": "ipython",
    "version": 3
   },
   "file_extension": ".py",
   "mimetype": "text/x-python",
   "name": "python",
   "nbconvert_exporter": "python",
   "pygments_lexer": "ipython3",
   "version": "3.6.3"
  }
 },
 "nbformat": 4,
 "nbformat_minor": 2
}
