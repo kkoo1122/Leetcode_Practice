{
 "cells": [
  {
   "cell_type": "markdown",
   "metadata": {},
   "source": [
    "Given a non-negative integer num, repeatedly add all its digits until the result has only one digit.\n",
    "\n",
    "**Example:**\n",
    "\n",
    "    Input: 38\n",
    "    Output: 2 \n",
    "    \n",
    "**Explanation: **\n",
    "\n",
    "    The process is like: 3 + 8 = 11, 1 + 1 = 2. Since 2 has only one digit, return it.\n",
    "\n",
    "**Follow up:**<br>\n",
    "- Could you do it without any loop/recursion in O(1) runtime?"
   ]
  },
  {
   "cell_type": "markdown",
   "metadata": {},
   "source": [
    "### Thought\n",
    "- First Method\n",
    "    - iterative\n",
    "\n",
    "\n",
    "- Second Method\n",
    "\n",
    "    - **Digital Root**\n",
    "\n",
    "            this method depends on the truth:\n",
    "\n",
    "            N=(a[0] * 1 + a[1] * 10 + ...a[n] * 10 ^n),and a[0]...a[n] are all between [0,9]\n",
    "\n",
    "            we set M = a[0] + a[1] + ..a[n]\n",
    "\n",
    "            and another truth is that:\n",
    "\n",
    "            1 % 9 = 1\n",
    "\n",
    "            10 % 9 = 1\n",
    "\n",
    "            100 % 9 = 1\n",
    "\n",
    "            so N % 9 = a[0] + a[1] + ..a[n]\n",
    "\n",
    "            means N % 9 = M\n",
    "\n",
    "            so N = M (% 9)\n",
    "\n",
    "            as 9 % 9 = 0,so we can make (n - 1) % 9 + 1 to help us solve the problem when n is 9.as N is 9, ( 9 - 1) % 9 + 1 = 9"
   ]
  },
  {
   "cell_type": "code",
   "execution_count": null,
   "metadata": {
    "collapsed": true
   },
   "outputs": [],
   "source": [
    "def addDigits(self, num):\n",
    "        \"\"\"\n",
    "        :type num: int\n",
    "        :rtype: int\n",
    "        \"\"\"\n",
    "        while num>9:\n",
    "            s=0\n",
    "            for i in str(num):\n",
    "                s+=int(i)\n",
    "            num=s\n",
    "        return num"
   ]
  },
  {
   "cell_type": "code",
   "execution_count": null,
   "metadata": {},
   "outputs": [],
   "source": [
    "#Time Complexity: O(1)\n",
    "def addDigits(self, num):\n",
    "        \"\"\"\n",
    "        :type num: int\n",
    "        :rtype: int\n",
    "        \"\"\"\n",
    "    if num==0:\n",
    "        return num\n",
    "    else:\n",
    "        num%=9\n",
    "        if num==0:\n",
    "            return 9\n",
    "        else:\n",
    "            return num"
   ]
  }
 ],
 "metadata": {
  "kernelspec": {
   "display_name": "Python 3",
   "language": "python",
   "name": "python3"
  },
  "language_info": {
   "codemirror_mode": {
    "name": "ipython",
    "version": 3
   },
   "file_extension": ".py",
   "mimetype": "text/x-python",
   "name": "python",
   "nbconvert_exporter": "python",
   "pygments_lexer": "ipython3",
   "version": "3.6.3"
  }
 },
 "nbformat": 4,
 "nbformat_minor": 2
}
