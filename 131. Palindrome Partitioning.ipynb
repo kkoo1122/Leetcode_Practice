{
 "cells": [
  {
   "cell_type": "markdown",
   "metadata": {},
   "source": [
    "Given a string s, partition s such that every substring of the partition is a palindrome.\n",
    "\n",
    "Return all possible palindrome partitioning of s.\n",
    "\n",
    "**Example:**\n",
    "\n",
    "    Input: \"aab\"\n",
    "    Output:\n",
    "    [\n",
    "      [\"aa\",\"b\"],\n",
    "      [\"a\",\"a\",\"b\"]\n",
    "    ]"
   ]
  },
  {
   "cell_type": "markdown",
   "metadata": {},
   "source": [
    "### Thought\n",
    "\n",
    "**(I)** the first solution is similar to combination, but the difference is that I have to check if it's palindrome.\n",
    "\n",
    "**(II)** second solution is dynamic programming."
   ]
  },
  {
   "cell_type": "code",
   "execution_count": 31,
   "metadata": {},
   "outputs": [
    {
     "data": {
      "text/plain": [
       "[['a', 'c', 'a', 'b', 'a'], ['a', 'c', 'aba'], ['aca', 'b', 'a']]"
      ]
     },
     "execution_count": 31,
     "metadata": {},
     "output_type": "execute_result"
    }
   ],
   "source": [
    "def partition(s):\n",
    "    \"\"\"\n",
    "    :type s: str\n",
    "    :rtype: List[List[str]]\n",
    "    \"\"\"\n",
    "    def helper(s,res,ans):\n",
    "        if not s:\n",
    "            res.append(ans)\n",
    "            return res\n",
    "        for i in range(len(s)):\n",
    "            if s[0:i+1]==s[0:i+1][::-1]:\n",
    "                helper(s[i+1:],res,ans+[s[0:i+1]])\n",
    "        return res\n",
    "    return helper(s,[],[])\n",
    "\n",
    "partition(\"acaba\")"
   ]
  },
  {
   "cell_type": "code",
   "execution_count": null,
   "metadata": {
    "collapsed": true
   },
   "outputs": [],
   "source": [
    "#dp\n",
    "def partition(self, s):\n",
    "    \"\"\"\n",
    "    :type s: str\n",
    "    :rtype: List[List[str]]\n",
    "    \"\"\"\n",
    "    if not s:\n",
    "        return []\n",
    "    d = [[] for i in range(len(s)+1)]\n",
    "    d[0] = [[]]\n",
    "    d[1] = [[s[0]]]\n",
    "    for i in range(1, len(s)):\n",
    "        for j in range(i, -1, -1):\n",
    "            x = s[j:i+1]\n",
    "            if x == x[::-1]:\n",
    "                for p in d[j]:\n",
    "                    d[i+1].append([] + p + [x])\n",
    "    return d[-1]   "
   ]
  }
 ],
 "metadata": {
  "kernelspec": {
   "display_name": "Python 3",
   "language": "python",
   "name": "python3"
  },
  "language_info": {
   "codemirror_mode": {
    "name": "ipython",
    "version": 3
   },
   "file_extension": ".py",
   "mimetype": "text/x-python",
   "name": "python",
   "nbconvert_exporter": "python",
   "pygments_lexer": "ipython3",
   "version": "3.6.3"
  }
 },
 "nbformat": 4,
 "nbformat_minor": 2
}
