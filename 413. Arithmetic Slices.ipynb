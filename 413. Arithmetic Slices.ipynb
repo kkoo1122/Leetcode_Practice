{
 "cells": [
  {
   "cell_type": "code",
   "execution_count": null,
   "metadata": {
    "collapsed": true
   },
   "outputs": [],
   "source": [
    "def numberOfArithmeticSlices(self, A):\n",
    "        \"\"\"\n",
    "        :type A: List[int]\n",
    "        :rtype: int\n",
    "        \"\"\"\n",
    "        #會超過時間\n",
    "        '''\n",
    "        if len(A)<3:\n",
    "            return 0\n",
    "        cnt=0\n",
    "\n",
    "        window = 3\n",
    "        while window <= len(A):            \n",
    "            for j in range(0,len(A)-window+1):\n",
    "                state=True\n",
    "                for i in range(j+2,j+window):\n",
    "                    if A[i]-A[i-2]!=2*(A[i]-A[i-1]):\n",
    "                        state=False\n",
    "                    continue\n",
    "                if state==True:\n",
    "                    cnt+=1\n",
    "\n",
    "            window += 1\n",
    "        \n",
    "        return cnt\n",
    "        '''\n",
    "        \n",
    "        #先找出前一個和後一個的差\n",
    "        remain=[A[i]-A[i-1] for i in range(1,len(A))]\n",
    "        \n",
    "        out=[]\n",
    "        cnt=1\n",
    "        #求出每個差相等的地方\n",
    "        for j in range(len(remain)-1):            \n",
    "            if remain[j]==remain[j+1]:\n",
    "                cnt += 1\n",
    "            elif remain[j]!=remain[j+1] and cnt != 1:\n",
    "                out.append(cnt+1)\n",
    "                cnt=1\n",
    "        if cnt!=1:\n",
    "            out.append(cnt+1)\n",
    "        \n",
    "        res=0\n",
    "        for i in out:\n",
    "            #for k in range(i-1):\n",
    "            #    res += k\n",
    "            res += sum(range(i-1))\n",
    "        \n",
    "        return res"
   ]
  }
 ],
 "metadata": {
  "kernelspec": {
   "display_name": "Python 3",
   "language": "python",
   "name": "python3"
  },
  "language_info": {
   "codemirror_mode": {
    "name": "ipython",
    "version": 3
   },
   "file_extension": ".py",
   "mimetype": "text/x-python",
   "name": "python",
   "nbconvert_exporter": "python",
   "pygments_lexer": "ipython3",
   "version": "3.6.3"
  }
 },
 "nbformat": 4,
 "nbformat_minor": 2
}
