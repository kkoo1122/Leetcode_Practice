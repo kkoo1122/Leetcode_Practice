{
 "cells": [
  {
   "cell_type": "code",
   "execution_count": 29,
   "metadata": {},
   "outputs": [
    {
     "name": "stdout",
     "output_type": "stream",
     "text": [
      "[[1, 0, 0, 0], [1, 1, 0, 0], [1, 2, 2, 2]]\n"
     ]
    }
   ],
   "source": [
    "obstacleGrid=[[0,1,0,0],[0,0,1,0],[0,0,0,0]]\n",
    "\n",
    "def uniquePathsWithObstacles(self, obstacleGrid):\n",
    "        \"\"\"\n",
    "        :type obstacleGrid: List[List[int]]\n",
    "        :rtype: int\n",
    "        \"\"\"\n",
    "        if obstacleGrid[0][0]==1: return 0\n",
    "        \n",
    "        m = len(obstacleGrid)\n",
    "        n = len(obstacleGrid[0])\n",
    "        paths = [[0 for _ in range(n)] for _ in range(m)] \n",
    "        \n",
    "        for i in range(m):\n",
    "            if obstacleGrid[i][0]==1:\n",
    "                break\n",
    "            else: paths[i][0]=1\n",
    "        for j in range(n):\n",
    "            if obstacleGrid[0][j]==1:\n",
    "                break\n",
    "            else: paths[0][j]=1\n",
    "\n",
    "\n",
    "        for i in range(1,m):\n",
    "            for j in range(1,n):\n",
    "                if obstacleGrid[i][j]==1:\n",
    "                    paths[i][j]=0\n",
    "                else:\n",
    "                    paths[i][j]=paths[i-1][j]+paths[i][j-1]   \n",
    "        \n",
    "        return paths[-1][-1]  "
   ]
  },
  {
   "cell_type": "code",
   "execution_count": null,
   "metadata": {
    "collapsed": true
   },
   "outputs": [],
   "source": []
  }
 ],
 "metadata": {
  "kernelspec": {
   "display_name": "Python 3",
   "language": "python",
   "name": "python3"
  },
  "language_info": {
   "codemirror_mode": {
    "name": "ipython",
    "version": 3
   },
   "file_extension": ".py",
   "mimetype": "text/x-python",
   "name": "python",
   "nbconvert_exporter": "python",
   "pygments_lexer": "ipython3",
   "version": "3.6.3"
  }
 },
 "nbformat": 4,
 "nbformat_minor": 2
}
