{
 "cells": [
  {
   "cell_type": "markdown",
   "metadata": {},
   "source": [
    "Given a **non-empty** integer array, find the minimum number of moves required to make all array elements equal, where a move is incrementing a selected element by 1 or decrementing a selected element by 1.\n",
    "\n",
    "You may assume the array's length is at most 10,000.\n",
    "\n",
    "**Example:**\n",
    "\n",
    "    Input:\n",
    "    [1,2,3]\n",
    "\n",
    "    Output:\n",
    "    2\n",
    "\n",
    "Explanation:\n",
    "Only two moves are needed (remember each move increments or decrements one element):\n",
    "\n",
    "[1,2,3]  =>  [2,2,3]  =>  [2,2,2]"
   ]
  },
  {
   "cell_type": "markdown",
   "metadata": {},
   "source": [
    "### Thought\n",
    "Just find the median of the array. And then substracts it's median with absolute value. Then we can get their difference are the moves we need."
   ]
  },
  {
   "cell_type": "code",
   "execution_count": null,
   "metadata": {
    "collapsed": true
   },
   "outputs": [],
   "source": [
    "def minMoves2(self, nums):\n",
    "        \"\"\"\n",
    "        :type nums: List[int]\n",
    "        :rtype: int\n",
    "        \"\"\"\n",
    "        nums.sort()\n",
    "        mid=nums[len(nums)//2]\n",
    "        \n",
    "        return sum([abs(nums[i]-mid) for i in range(len(nums))])"
   ]
  }
 ],
 "metadata": {
  "kernelspec": {
   "display_name": "Python 3",
   "language": "python",
   "name": "python3"
  },
  "language_info": {
   "codemirror_mode": {
    "name": "ipython",
    "version": 3
   },
   "file_extension": ".py",
   "mimetype": "text/x-python",
   "name": "python",
   "nbconvert_exporter": "python",
   "pygments_lexer": "ipython3",
   "version": "3.6.3"
  }
 },
 "nbformat": 4,
 "nbformat_minor": 2
}
