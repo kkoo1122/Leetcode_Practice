{
 "cells": [
  {
   "cell_type": "markdown",
   "metadata": {},
   "source": [
    "Given n pairs of parentheses, write a function to generate all combinations of well-formed parentheses.\n",
    "\n",
    "For example, given n = 3, a solution set is:\n",
    "\n",
    "    [\n",
    "      \"((()))\",\n",
    "      \"(()())\",\n",
    "      \"(())()\",\n",
    "      \"()(())\",\n",
    "      \"()()()\"\n",
    "    ]"
   ]
  },
  {
   "cell_type": "markdown",
   "metadata": {},
   "source": [
    "### Thought\n",
    "- DFS is the easiest way to do this question for me.\n"
   ]
  },
  {
   "cell_type": "code",
   "execution_count": null,
   "metadata": {},
   "outputs": [],
   "source": [
    "def dfs(left,right,res,string):\n",
    "    if right<left:\n",
    "        return\n",
    "    if not left and not right:\n",
    "        res.append(string)\n",
    "        return\n",
    "    if left:\n",
    "        dfs(left-1,right,res,string+'(')\n",
    "    if right:\n",
    "        dfs(left,right-1,res,string+')')    \n",
    "    return res\n",
    "n=5\n",
    "dfs(n,n,[],'')"
   ]
  }
 ],
 "metadata": {
  "kernelspec": {
   "display_name": "Python 3",
   "language": "python",
   "name": "python3"
  },
  "language_info": {
   "codemirror_mode": {
    "name": "ipython",
    "version": 3
   },
   "file_extension": ".py",
   "mimetype": "text/x-python",
   "name": "python",
   "nbconvert_exporter": "python",
   "pygments_lexer": "ipython3",
   "version": "3.6.3"
  }
 },
 "nbformat": 4,
 "nbformat_minor": 2
}
