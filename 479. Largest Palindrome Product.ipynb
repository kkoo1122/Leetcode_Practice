{
 "cells": [
  {
   "cell_type": "code",
   "execution_count": 49,
   "metadata": {},
   "outputs": [
    {
     "data": {
      "text/plain": [
       "2.0"
      ]
     },
     "execution_count": 49,
     "metadata": {},
     "output_type": "execute_result"
    }
   ],
   "source": [
    "def isPalindrome(x):\n",
    "        if(x%10==0 and x!=0):\n",
    "            return False\n",
    "        temp=0\n",
    "        while(temp<x):\n",
    "            temp=temp*10+x%10\n",
    "            x=int(x/10)\n",
    "        return(x==temp or int(temp/10)==x)\n",
    "\n",
    "def largestPalindrome(n):\n",
    "    low=pow(10,n-1)\n",
    "    high=pow(10,n)\n",
    "    maxi=0\n",
    "    for i in range(high,int(high/2),-1):\n",
    "        for j in range(high,i,-1):\n",
    "            num=i*j\n",
    "            if isPalindrome(num):\n",
    "                if maxi<num:\n",
    "                    maxi=num\n",
    "    return maxi%1337\n",
    "\n",
    "largestPalindrome(1)\n"
   ]
  },
  {
   "cell_type": "code",
   "execution_count": null,
   "metadata": {
    "collapsed": true
   },
   "outputs": [],
   "source": []
  },
  {
   "cell_type": "code",
   "execution_count": null,
   "metadata": {
    "collapsed": true
   },
   "outputs": [],
   "source": []
  }
 ],
 "metadata": {
  "kernelspec": {
   "display_name": "Python 3",
   "language": "python",
   "name": "python3"
  },
  "language_info": {
   "codemirror_mode": {
    "name": "ipython",
    "version": 3
   },
   "file_extension": ".py",
   "mimetype": "text/x-python",
   "name": "python",
   "nbconvert_exporter": "python",
   "pygments_lexer": "ipython3",
   "version": "3.6.3"
  }
 },
 "nbformat": 4,
 "nbformat_minor": 2
}
