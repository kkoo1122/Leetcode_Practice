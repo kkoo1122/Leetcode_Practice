{
 "cells": [
  {
   "cell_type": "markdown",
   "metadata": {},
   "source": [
    "# Medium\n",
    "Given a singly linked list, group all odd nodes together followed by the even nodes. Please note here we are talking about the node number and not the value in the nodes.\n",
    "\n",
    "You should try to do it in place. The program should run in O(1) space complexity and O(nodes) time complexity.\n",
    "\n",
    "Example 1:\n",
    "\n",
    "    Input: 1->2->3->4->5->NULL\n",
    "    Output: 1->3->5->2->4->NULL\n",
    "\n",
    "Example 2:\n",
    "\n",
    "    Input: 2->1->3->5->6->4->7->NULL\n",
    "    Output: 2->3->6->7->1->5->4->NULL\n",
    "\n",
    "\n",
    "Note:\n",
    "- The relative order inside both the even and odd groups should remain as it was in the input.\n",
    "- The first node is considered odd, the second node even and so on ..."
   ]
  },
  {
   "cell_type": "markdown",
   "metadata": {},
   "source": [
    "# Thought\n",
    "\n",
    "the link list would be shown like below:\n",
    "\n",
    "    o = odd\n",
    "    e = even\n",
    "    \n",
    "    o -> e -> o -> e -> o -> e -> o -> ... -> Null\n",
    "    \n",
    "What we are gonna do is just cut off the list and connect to the next.next list node. Just be careful when it comes to the end. \n",
    "\n",
    "    if odd:\n",
    "        odd.next = dummy\n",
    "    else:\n",
    "        prev.next = dummy\n",
    "        \n",
    "the code above is connecting the odd nodes to even nodes."
   ]
  },
  {
   "cell_type": "code",
   "execution_count": null,
   "metadata": {},
   "outputs": [],
   "source": [
    "# Definition for singly-linked list.\n",
    "# class ListNode:\n",
    "#     def __init__(self, x):\n",
    "#         self.val = x\n",
    "#         self.next = None\n",
    "\n",
    "class Solution:\n",
    "    def oddEvenList(self, head: ListNode) -> ListNode:\n",
    "\n",
    "        if not head: return None\n",
    "        \n",
    "        odd = head\n",
    "        dummy = even = head.next\n",
    "        \n",
    "        while odd and odd.next:\n",
    "            odd.next = odd.next.next\n",
    "            prev = odd\n",
    "            odd = odd.next\n",
    "            if not even.next:\n",
    "                break\n",
    "            else:\n",
    "                even.next = even.next.next\n",
    "                even = even.next\n",
    "        \n",
    "        if odd:\n",
    "            odd.next = dummy\n",
    "        else:\n",
    "            prev.next = dummy\n",
    "        \n",
    "        return head\n",
    "                "
   ]
  }
 ],
 "metadata": {
  "kernelspec": {
   "display_name": "Python 3",
   "language": "python",
   "name": "python3"
  },
  "language_info": {
   "codemirror_mode": {
    "name": "ipython",
    "version": 3
   },
   "file_extension": ".py",
   "mimetype": "text/x-python",
   "name": "python",
   "nbconvert_exporter": "python",
   "pygments_lexer": "ipython3",
   "version": "3.6.3"
  }
 },
 "nbformat": 4,
 "nbformat_minor": 2
}
