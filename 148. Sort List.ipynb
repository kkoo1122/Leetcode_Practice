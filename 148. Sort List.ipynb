{
 "cells": [
  {
   "cell_type": "markdown",
   "metadata": {},
   "source": [
    "Sort a linked list in O(n log n) time using constant space complexity.\n",
    "\n",
    "Example 1:\n",
    "\n",
    "    Input: 4->2->1->3\n",
    "    Output: 1->2->3->4\n",
    "\n",
    "Example 2:\n",
    "\n",
    "    Input: -1->5->3->4->0\n",
    "    Output: -1->0->3->4->5"
   ]
  },
  {
   "cell_type": "markdown",
   "metadata": {},
   "source": [
    "### Thought\n",
    "-  Brute Force\n",
    "    - TLE\n",
    "    - Time Complexity: O(N^2)\n",
    "    - Space Complexity: O(1)\n",
    "\n",
    "\n",
    "-  Merge Sort\n",
    "    - Time Complexit: O(NlogN)"
   ]
  },
  {
   "cell_type": "code",
   "execution_count": null,
   "metadata": {
    "collapsed": true
   },
   "outputs": [],
   "source": [
    "#TLE\n",
    "#Brute Force\n",
    "\n",
    "# 14/16 Cases pass\n",
    "# Definition for singly-linked list.\n",
    "# class ListNode:\n",
    "#     def __init__(self, x):\n",
    "#         self.val = x\n",
    "#         self.next = None\n",
    "\n",
    "def sortList(self, head):\n",
    "    \"\"\"\n",
    "    :type head: ListNode\n",
    "    :rtype: ListNode\n",
    "    \"\"\"\n",
    "    p1=head\n",
    "    while p1:\n",
    "        p2=p1\n",
    "        mini=float('inf')\n",
    "        while p2:\n",
    "            if p2.val < mini:\n",
    "                mini,p2.val=p2.val,mini                     \n",
    "            p2=p2.next\n",
    "        p1.val=mini\n",
    "        p1=p1.next            \n",
    "    return head"
   ]
  },
  {
   "cell_type": "code",
   "execution_count": null,
   "metadata": {
    "collapsed": true
   },
   "outputs": [],
   "source": [
    "# Definition for singly-linked list.\n",
    "# class ListNode:\n",
    "#     def __init__(self, x):\n",
    "#         self.val = x\n",
    "#         self.next = None\n",
    "\n",
    "class Solution:\n",
    "    def sortList(self, head):\n",
    "        \"\"\"\n",
    "        :type head: ListNode\n",
    "        :rtype: ListNode\n",
    "        \"\"\"\n",
    "        if not head or not head.next: return head        \n",
    "        slow=fast=pre=head        \n",
    "        while fast and fast.next:\n",
    "            pre=slow\n",
    "            slow=slow.next\n",
    "            fast=fast.next.next        \n",
    "        pre.next=None        \n",
    "        return self.merge(self.sortList(head),self.sortList(slow)) # 使 Link List 各自分開後再做 merge (像書上一樣)\n",
    "    \n",
    "    def merge(self,l1,l2):\n",
    "        dummy=ListNode(-1)\n",
    "        cur=dummy\n",
    "        while l1 and l2:\n",
    "            if l1.val<l2.val:\n",
    "                cur.next=l1\n",
    "                l1=l1.next\n",
    "            else:\n",
    "                cur.next=l2\n",
    "                l2=l2.next\n",
    "            cur=cur.next\n",
    "        \n",
    "        if l1: cur.next=l1\n",
    "        if l2: cur.next=l2\n",
    "        \n",
    "        return dummy.next\n",
    "        \n",
    "        "
   ]
  },
  {
   "cell_type": "code",
   "execution_count": null,
   "metadata": {
    "collapsed": true
   },
   "outputs": [],
   "source": [
    "nums=[4,1,3,2]\n"
   ]
  }
 ],
 "metadata": {
  "kernelspec": {
   "display_name": "Python 3",
   "language": "python",
   "name": "python3"
  },
  "language_info": {
   "codemirror_mode": {
    "name": "ipython",
    "version": 3
   },
   "file_extension": ".py",
   "mimetype": "text/x-python",
   "name": "python",
   "nbconvert_exporter": "python",
   "pygments_lexer": "ipython3",
   "version": "3.6.3"
  }
 },
 "nbformat": 4,
 "nbformat_minor": 2
}
