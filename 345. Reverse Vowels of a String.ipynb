{
 "cells": [
  {
   "cell_type": "markdown",
   "metadata": {},
   "source": [
    "Write a function that takes a string as input and reverse only the vowels of a string.\n",
    "\n",
    "**Example 1:**\n",
    "\n",
    "    Given s = \"hello\", return \"holle\".\n",
    "\n",
    "**Example 2:**\n",
    "\n",
    "    Given s = \"leetcode\", return \"leotcede\".\n",
    "\n",
    "**Note:**\n",
    "\n",
    "The vowels does not include the letter \"y\"."
   ]
  },
  {
   "cell_type": "markdown",
   "metadata": {},
   "source": [
    "### Thought\n",
    "-Two pointer"
   ]
  },
  {
   "cell_type": "code",
   "execution_count": null,
   "metadata": {
    "collapsed": true
   },
   "outputs": [],
   "source": [
    "def reverseVowels(self, s):\n",
    "        \"\"\"\n",
    "        :type s: str\n",
    "        :rtype: str\n",
    "        \"\"\"\n",
    "        vowels={'a','e','i','o','u','A','E','I','O','U'}\n",
    "        \n",
    "        L=list(s)\n",
    "        \n",
    "        left,right=0,len(L)-1\n",
    "        \n",
    "        while left < right:\n",
    "            while left<right and L[left] not in vowels:\n",
    "                left+=1\n",
    "            while right>left and L[right] not in vowels:\n",
    "                right-=1\n",
    "            \n",
    "            L[left],L[right]=L[right],L[left]\n",
    "            left+=1\n",
    "            right-=1\n",
    "        \n",
    "        return ''.join(L)"
   ]
  }
 ],
 "metadata": {
  "kernelspec": {
   "display_name": "Python 3",
   "language": "python",
   "name": "python3"
  },
  "language_info": {
   "codemirror_mode": {
    "name": "ipython",
    "version": 3
   },
   "file_extension": ".py",
   "mimetype": "text/x-python",
   "name": "python",
   "nbconvert_exporter": "python",
   "pygments_lexer": "ipython3",
   "version": "3.6.3"
  }
 },
 "nbformat": 4,
 "nbformat_minor": 2
}
