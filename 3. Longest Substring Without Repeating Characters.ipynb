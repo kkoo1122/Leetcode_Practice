{
 "cells": [
  {
   "cell_type": "markdown",
   "metadata": {},
   "source": [
    "\n",
    "Given a string, find the length of the longest substring without repeating characters.\n",
    "\n",
    "Examples:\n",
    "\n",
    "Given \"abcabcbb\", the answer is \"abc\", which the length is 3.\n",
    "\n",
    "Given \"bbbbb\", the answer is \"b\", with the length of 1.\n",
    "\n",
    "Given \"pwwkew\", the answer is \"wke\", with the length of 3. Note that the answer must be a substring, \"pwke\" is a subsequence and not a substring."
   ]
  },
  {
   "cell_type": "code",
   "execution_count": null,
   "metadata": {
    "collapsed": true
   },
   "outputs": [],
   "source": [
    "def lengthOfLongestSubstring(self, s):\n",
    "        \"\"\"\n",
    "        :type s: str\n",
    "        :rtype: int\n",
    "        \"\"\"\n",
    "        #Trash Code...\n",
    "        '''\n",
    "        if not s: return 0\n",
    "        if len(s)==1:return 1\n",
    "        dic={}\n",
    "        res=0        \n",
    "        pointer=0\n",
    "        move=0\n",
    "        while move < len(s)-1:\n",
    "            temp = 0\n",
    "            for i in range(pointer,len(s)):\n",
    "                move=i\n",
    "                if s[i] not in dic:\n",
    "                    dic[s[i]]=i\n",
    "                    temp+=1\n",
    "                elif s[i] in dic:\n",
    "                    pointer = dic[s[i]]+1\n",
    "                    dic={}\n",
    "                    res = max(res,temp)\n",
    "                    break\n",
    "            res = max(res,temp)        \n",
    "        return res\n",
    "        '''\n",
    "        dic={}\n",
    "        pointer=0\n",
    "        res=0\n",
    "        for i in range(len(s)):\n",
    "            if s[i] in dic and dic[s[i]]>=pointer:                \n",
    "                pointer = dic[s[i]]+1\n",
    "            else:\n",
    "                res=max(res,i-pointer+1)\n",
    "            dic[s[i]]=i\n",
    "        return res"
   ]
  }
 ],
 "metadata": {
  "kernelspec": {
   "display_name": "Python 3",
   "language": "python",
   "name": "python3"
  },
  "language_info": {
   "codemirror_mode": {
    "name": "ipython",
    "version": 3
   },
   "file_extension": ".py",
   "mimetype": "text/x-python",
   "name": "python",
   "nbconvert_exporter": "python",
   "pygments_lexer": "ipython3",
   "version": "3.6.3"
  }
 },
 "nbformat": 4,
 "nbformat_minor": 2
}
