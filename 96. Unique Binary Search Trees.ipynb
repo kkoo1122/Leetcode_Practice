{
 "cells": [
  {
   "cell_type": "markdown",
   "metadata": {},
   "source": [
    "Given n, how many structurally unique BST's (binary search trees) that store values 1 ... n?\n",
    "\n",
    "**Example:**\n",
    "\n",
    "    Input: 3\n",
    "    Output: 5\n",
    "    Explanation:\n",
    "    Given n = 3, there are a total of 5 unique BST's:\n",
    "    \n",
    "       1         3     3      2      1\n",
    "        \\       /     /      / \\      \\\n",
    "         3     2     1      1   3      2\n",
    "        /     /       \\                 \\\n",
    "       2     1         2                 3"
   ]
  },
  {
   "cell_type": "markdown",
   "metadata": {},
   "source": [
    "### Thought\n",
    "#### Catalan Numbers\n",
    "[Catalan numbers-wikipedia](https://en.wikipedia.org/wiki/Catalan_number)\n",
    "\n",
    "[Leetcode Discussion](https://leetcode.com/problems/unique-binary-search-trees/description/)\n",
    "- **G(n)**: the number of unique BST for a sequence of length n.\n",
    "\n",
    "- **F(i, n), 1 <= i <= n**: the number of unique BST, where the number i is the root of BST, and the sequence ranges from 1 to n.\n",
    "\n",
    "As one can see, **G(n)** is the actual function we need to calculate in order to solve the problem. And G(n) can be derived from F(i, n), which at the end, would recursively refer to G(n).\n",
    "\n",
    "\n",
    "    - G(n) = F(1,n) + F(2,n) + ... +F(n,n)\n",
    "    \n",
    "    - F(i,n) = G(i-1) * G(n-i)\n",
    "        e.g. F(3,7) = G(3-1)*G(7-3) = G(2)*G(7)\n",
    "        \n",
    "    \n",
    "Combination of two functions above becomes: \n",
    "\n",
    "    - G(n) = G(0) * G(n-1) + G(1) * G(n-2) + … + G(n-1) * G(0)\n",
    "        \n",
    "    \n",
    "        \n",
    "        "
   ]
  },
  {
   "cell_type": "code",
   "execution_count": 64,
   "metadata": {},
   "outputs": [
    {
     "name": "stdout",
     "output_type": "stream",
     "text": [
      "5\n"
     ]
    }
   ],
   "source": [
    "def numTrees(n):\n",
    "    G=[0 for _ in range(n+1)]\n",
    "    G[0]=G[1]=1\n",
    "    \n",
    "    for j in range(2,n+1):\n",
    "        for i in range(1,j+1):\n",
    "            G[j]+=G[i-1]*G[j-i]\n",
    "            \n",
    "    return G[n]\n",
    "               \n",
    "\n",
    "print(numTrees(3))"
   ]
  }
 ],
 "metadata": {
  "kernelspec": {
   "display_name": "Python 3",
   "language": "python",
   "name": "python3"
  },
  "language_info": {
   "codemirror_mode": {
    "name": "ipython",
    "version": 3
   },
   "file_extension": ".py",
   "mimetype": "text/x-python",
   "name": "python",
   "nbconvert_exporter": "python",
   "pygments_lexer": "ipython3",
   "version": "3.6.3"
  }
 },
 "nbformat": 4,
 "nbformat_minor": 2
}
