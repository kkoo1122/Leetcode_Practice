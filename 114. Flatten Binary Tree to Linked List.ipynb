{
 "cells": [
  {
   "cell_type": "markdown",
   "metadata": {},
   "source": [
    "# Medium\n",
    "Given a binary tree, flatten it to a linked list in-place.\n",
    "\n",
    "For example, given the following tree:\n",
    "\n",
    "        1\n",
    "       / \\\n",
    "      2   5\n",
    "     / \\   \\\n",
    "    3   4   6\n",
    "\n",
    "The flattened tree should look like:\n",
    "\n",
    "    1\n",
    "     \\\n",
    "      2\n",
    "       \\\n",
    "        3\n",
    "         \\\n",
    "          4\n",
    "           \\\n",
    "            5\n",
    "             \\\n",
    "              6"
   ]
  },
  {
   "cell_type": "markdown",
   "metadata": {},
   "source": [
    "# Thought\n",
    "\n",
    "Using stack to stack the highest right node. And make the root to connect to the left node since we wanna make it like preorder traversal. Then disconnect the left pointer between root and left node."
   ]
  },
  {
   "cell_type": "code",
   "execution_count": null,
   "metadata": {},
   "outputs": [],
   "source": [
    "# Definition for a binary tree node.\n",
    "# class TreeNode:\n",
    "#     def __init__(self, x):\n",
    "#         self.val = x\n",
    "#         self.left = None\n",
    "#         self.right = None\n",
    "\n",
    "class Solution:\n",
    "    def flatten(self, root: TreeNode) -> None:\n",
    "        \"\"\"\n",
    "        Do not return anything, modify root in-place instead.\n",
    "        \"\"\"\n",
    "        if not root: return None\n",
    "        if not root.left and not root.right: return\n",
    "\n",
    "        stack = [root]\n",
    "        node = None\n",
    "        \n",
    "        while stack:\n",
    "            if node:\n",
    "                root.right = node\n",
    "                root = root.right\n",
    "            node = stack.pop()\n",
    "            if node.right:\n",
    "                stack.append(node.right)\n",
    "                node.right = None\n",
    "            \n",
    "            if node.left:\n",
    "                node.right = node.left\n",
    "                node.left = None\n",
    "                stack.append(node.right)\n",
    "        \n",
    "        if node:\n",
    "            root.right = node\n",
    "            root = root.right"
   ]
  }
 ],
 "metadata": {
  "kernelspec": {
   "display_name": "Python 3",
   "language": "python",
   "name": "python3"
  },
  "language_info": {
   "codemirror_mode": {
    "name": "ipython",
    "version": 3
   },
   "file_extension": ".py",
   "mimetype": "text/x-python",
   "name": "python",
   "nbconvert_exporter": "python",
   "pygments_lexer": "ipython3",
   "version": "3.6.3"
  }
 },
 "nbformat": 4,
 "nbformat_minor": 2
}
