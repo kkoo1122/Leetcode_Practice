{
 "cells": [
  {
   "cell_type": "code",
   "execution_count": null,
   "metadata": {
    "collapsed": true
   },
   "outputs": [],
   "source": []
  },
  {
   "cell_type": "code",
   "execution_count": null,
   "metadata": {
    "collapsed": true
   },
   "outputs": [],
   "source": [
    "\n",
    "\n",
    "# Definition for a binary tree node.\n",
    "# class TreeNode:\n",
    "#     def __init__(self, x):\n",
    "#         self.val = x\n",
    "#         self.left = None\n",
    "#         self.right = None\n",
    "\n",
    "class Solution:\n",
    "    #Recursive Preorder Traversals\n",
    "    def longestUnivaluePath(self, root):\n",
    "        \"\"\"\n",
    "        :type root: TreeNode\n",
    "        :rtype: int\n",
    "        \"\"\"\n",
    "        ans=[-1]\n",
    "        self.paths(root,ans)\n",
    "        return ans[0]\n",
    "        \n",
    "    def paths(self,root,ans): \n",
    "        if not root:\n",
    "            return 0\n",
    "        p1=self.paths(root.left,ans)\n",
    "        p2=self.paths(root.right,ans)\n",
    "        \n",
    "        left,right = 0,0\n",
    "        if root.left and root.left.val == root.val:\n",
    "            left = p1 + 1\n",
    "        if root.right and root.right.val == root.val:\n",
    "            right = p2 + 1\n",
    "            \n",
    "        ans[0] = max(ans[0],left+right)\n",
    "        \n",
    "        return max(left,right)        "
   ]
  },
  {
   "cell_type": "code",
   "execution_count": 1,
   "metadata": {},
   "outputs": [
    {
     "data": {
      "text/plain": [
       "True"
      ]
     },
     "execution_count": 1,
     "metadata": {},
     "output_type": "execute_result"
    }
   ],
   "source": [
    "class Solution:\n",
    "    def longestUnivaluePath(self, root):\n",
    "        \"\"\"\n",
    "        :type root: TreeNode\n",
    "        :rtype: int\n",
    "        \"\"\"\n",
    "        self.maxpath = 0\n",
    "        if root:\n",
    "            leftpath = self.help(root.left, root.val)\n",
    "            rightpath = self.help(root.right, root.val)\n",
    "            if leftpath + rightpath > self.maxpath:\n",
    "                self.maxpath = leftpath + rightpath\n",
    "        return self.maxpath\n",
    "        \n",
    "    def help(self, node, val):\n",
    "        if node:\n",
    "            leftpath = self.help(node.left, node.val)\n",
    "            rightpath = self.help(node.right, node.val)\n",
    "            if leftpath + rightpath > self.maxpath:\n",
    "                self.maxpath = leftpath + rightpath            \n",
    "            if node.val == val:\n",
    "                basepath = 1\n",
    "                # leftpath = self.help(node.left, node.val)\n",
    "                # rightpath = self.help(node.right, node.val)\n",
    "                # if leftpath + rightpath > self.maxpath:\n",
    "                #     self.maxpath = leftpath + rightpath                \n",
    "                return basepath + max(leftpath, rightpath)\n",
    "            else:\n",
    "                return 0                \n",
    "        return 0"
   ]
  },
  {
   "cell_type": "code",
   "execution_count": null,
   "metadata": {
    "collapsed": true
   },
   "outputs": [],
   "source": [
    "# Iterative Postorder Traversals\n",
    "\n",
    "def longestUnivaluePath(self, root):\n",
    "    \"\"\"\n",
    "    :type root: TreeNode\n",
    "    :rtype: int\n",
    "    \"\"\"\n",
    "    self.POT(root)\n",
    "\n",
    "def POT(self,root):\n",
    "    if not root: return 0\n",
    "    s1 , s2 = [] , []\n",
    "    s1.append(root)\n",
    "    while s1:\n",
    "        root=s1.pop()\n",
    "        s2.append(root.val)\n",
    "        if root.left:\n",
    "            s1.append(root.left)\n",
    "        if root.right:\n",
    "            s1.append(root.right)\n",
    "\n",
    "    print(s2[::-1])\n",
    "     "
   ]
  },
  {
   "cell_type": "markdown",
   "metadata": {},
   "source": [
    "test case:\n",
    "[1,2,1,1,2,1,0,1,3,0,0,0,0,0,0,1,0,20,2,3,2,2,2,2,2,2,2,2,2,2,2,1,1]"
   ]
  }
 ],
 "metadata": {
  "kernelspec": {
   "display_name": "Python 3",
   "language": "python",
   "name": "python3"
  },
  "language_info": {
   "codemirror_mode": {
    "name": "ipython",
    "version": 3
   },
   "file_extension": ".py",
   "mimetype": "text/x-python",
   "name": "python",
   "nbconvert_exporter": "python",
   "pygments_lexer": "ipython3",
   "version": "3.6.3"
  }
 },
 "nbformat": 4,
 "nbformat_minor": 2
}
