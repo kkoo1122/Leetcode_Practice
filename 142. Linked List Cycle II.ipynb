{
 "cells": [
  {
   "cell_type": "markdown",
   "metadata": {},
   "source": [
    "# Medium\n",
    "Given a linked list, return the node where the cycle begins. If there is no cycle, return null.\n",
    "\n",
    "To represent a cycle in the given linked list, we use an integer pos which represents the position (0-indexed) in the linked list where tail connects to. If pos is -1, then there is no cycle in the linked list.\n",
    "\n",
    "**Note: Do not modify the linked list.**\n",
    "\n",
    " \n",
    "\n",
    "Example 1:\n",
    "\n",
    "    Input: head = [3,2,0,-4], pos = 1\n",
    "    Output: tail connects to node index 1\n",
    "    Explanation: There is a cycle in the linked list, where tail connects to the second node.\n",
    "    \n",
    "    \n",
    "Example 2:\n",
    "\n",
    "    Input: head = [1,2], pos = 0\n",
    "    Output: tail connects to node index 0\n",
    "    Explanation: There is a cycle in the linked list, where tail connects to the first node.\n",
    "    \n",
    "Example 3:\n",
    "\n",
    "    Input: head = [1], pos = -1\n",
    "    Output: no cycle\n",
    "    Explanation: There is no cycle in the linked list."
   ]
  },
  {
   "cell_type": "markdown",
   "metadata": {},
   "source": [
    "# Thought 1\n",
    "Using hash table to save the memory location and index that we have traveled. Then return the index while we visited the same memory location again.\n",
    "\n",
    "Space Complexity: O(N)<br>\n",
    "Time Complexity: O(N)"
   ]
  },
  {
   "cell_type": "code",
   "execution_count": null,
   "metadata": {},
   "outputs": [],
   "source": [
    "class Solution:\n",
    "    def detectCycle(self, head: ListNode) -> ListNode:\n",
    "        \n",
    "        H = {}\n",
    "        cnt = 0\n",
    "        while head:\n",
    "            try:\n",
    "                H[head]\n",
    "            except:\n",
    "                H[head] = cnt\n",
    "            else:\n",
    "                return head\n",
    "            cnt += 1\n",
    "            head = head.next             \n",
    "\n",
    "        return None"
   ]
  },
  {
   "cell_type": "markdown",
   "metadata": {},
   "source": [
    "# Thought 2\n",
    "Without using extra space, O(1).\n",
    "\n",
    "Explaination is in the following link:\n",
    "\n",
    "https://leetcode.com/problems/linked-list-cycle-ii/discuss/258948/%2B-python\n"
   ]
  },
  {
   "cell_type": "code",
   "execution_count": null,
   "metadata": {},
   "outputs": [],
   "source": [
    "# Definition for singly-linked list.\n",
    "# class ListNode:\n",
    "#     def __init__(self, x):\n",
    "#         self.val = x\n",
    "#         self.next = None\n",
    "\n",
    "class Solution:\n",
    "    def detectCycle(self, head: ListNode) -> ListNode:\n",
    "\n",
    "        try:\n",
    "            slow = head.next\n",
    "            fast = head.next.next\n",
    "            while fast != slow:\n",
    "                fast = fast.next.next\n",
    "                slow = slow.next\n",
    "        except:\n",
    "            return None\n",
    "        \n",
    "        \n",
    "        slow = head\n",
    "        \n",
    "        while slow != fast:\n",
    "            slow = slow.next\n",
    "            fast = fast.next\n",
    "        \n",
    "        \n",
    "        return slow"
   ]
  }
 ],
 "metadata": {
  "kernelspec": {
   "display_name": "Python 3",
   "language": "python",
   "name": "python3"
  },
  "language_info": {
   "codemirror_mode": {
    "name": "ipython",
    "version": 3
   },
   "file_extension": ".py",
   "mimetype": "text/x-python",
   "name": "python",
   "nbconvert_exporter": "python",
   "pygments_lexer": "ipython3",
   "version": "3.6.3"
  }
 },
 "nbformat": 4,
 "nbformat_minor": 2
}
