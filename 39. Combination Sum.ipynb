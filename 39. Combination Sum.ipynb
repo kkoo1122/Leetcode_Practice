{
 "cells": [
  {
   "cell_type": "markdown",
   "metadata": {},
   "source": [
    "Given a set of candidate numbers (candidates) (without duplicates) and a target number (target), find all unique combinations in candidates where the candidate numbers sums to target.\n",
    "\n",
    "The same repeated number may be chosen from candidates unlimited number of times.\n",
    "\n",
    "**Note:**\n",
    "\n",
    "    All numbers (including target) will be positive integers.\n",
    "    The solution set must not contain duplicate combinations.\n",
    "    \n",
    "**Example 1:**<br>\n",
    "Input: candidates = [2,3,6,7], target = 7,\n",
    "\n",
    "    A solution set is:\n",
    "    [\n",
    "      [7],\n",
    "      [2,2,3]\n",
    "    ]\n",
    "\n",
    "**Example 2:**<br>\n",
    "Input: candidates = [2,3,5], target = 8,\n",
    "\n",
    "    A solution set is:\n",
    "    [\n",
    "      [2,2,2,2],\n",
    "      [2,3,3],\n",
    "      [3,5]\n",
    "    ]"
   ]
  },
  {
   "cell_type": "code",
   "execution_count": null,
   "metadata": {
    "collapsed": true
   },
   "outputs": [],
   "source": [
    "def combinationSum(self, candidates, target):\n",
    "        \"\"\"\n",
    "        :type candidates: List[int]\n",
    "        :type target: int\n",
    "        :rtype: List[List[int]]\n",
    "        \"\"\"\n",
    "        self.L=[]\n",
    "        \n",
    "        def dfs(candidates,remain,temp,index):\n",
    "            if remain<0:\n",
    "                return\n",
    "            if remain==0:\n",
    "                self.L.append(temp[:])\n",
    "                return            \n",
    "            for i in range(index,len(candidates)):\n",
    "                temp.append(candidates[i])                \n",
    "                dfs(candidates,remain-candidates[i],temp, i)\n",
    "                temp.pop()                \n",
    "        \n",
    "        dfs(candidates,target,[],0)\n",
    "        \n",
    "        return self.L"
   ]
  },
  {
   "cell_type": "code",
   "execution_count": null,
   "metadata": {
    "collapsed": true
   },
   "outputs": [],
   "source": [
    "#optimization: beat 98%\n",
    "def combinationSum(self, candidates, target):\n",
    "        \"\"\"\n",
    "        :type candidates: List[int]\n",
    "        :type target: int\n",
    "        :rtype: List[List[int]]\n",
    "        \"\"\"\n",
    "        self.res=[]\n",
    "        candidates.sort()\n",
    "        \n",
    "        def dfs(candidates,remain,index,nums):            \n",
    "            if remain==0: \n",
    "                self.res.append(nums[:])\n",
    "                return\n",
    "            if candidates[index]<=remain:\n",
    "                for i in range(index,len(candidates)):\n",
    "                    nums.append(candidates[i])\n",
    "                    dfs(candidates,remain-candidates[i],i,nums)\n",
    "                    nums.pop()\n",
    "            else:\n",
    "                return\n",
    "        \n",
    "        dfs(candidates,target,0,[])\n",
    "        \n",
    "        return self.res"
   ]
  }
 ],
 "metadata": {
  "kernelspec": {
   "display_name": "Python 3",
   "language": "python",
   "name": "python3"
  },
  "language_info": {
   "codemirror_mode": {
    "name": "ipython",
    "version": 3
   },
   "file_extension": ".py",
   "mimetype": "text/x-python",
   "name": "python",
   "nbconvert_exporter": "python",
   "pygments_lexer": "ipython3",
   "version": "3.6.3"
  }
 },
 "nbformat": 4,
 "nbformat_minor": 2
}
