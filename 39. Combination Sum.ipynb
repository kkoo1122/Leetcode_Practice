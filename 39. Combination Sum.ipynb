{
 "cells": [
  {
   "cell_type": "code",
   "execution_count": null,
   "metadata": {
    "collapsed": true
   },
   "outputs": [],
   "source": [
    "def combinationSum(self, candidates, target):\n",
    "        \"\"\"\n",
    "        :type candidates: List[int]\n",
    "        :type target: int\n",
    "        :rtype: List[List[int]]\n",
    "        \"\"\"\n",
    "        self.L=[]\n",
    "        \n",
    "        def dfs(candidates,remain,temp,index):\n",
    "            if remain==0:\n",
    "                self.L.append(temp[:])\n",
    "                return\n",
    "            if remain<0:\n",
    "                return\n",
    "            for i in range(index,len(candidates)):\n",
    "                temp.append(candidates[i])                \n",
    "                dfs(candidates,remain-candidates[i],temp, i)\n",
    "                temp.pop()                \n",
    "        \n",
    "        dfs(candidates,target,[],0)\n",
    "        \n",
    "        return self.L"
   ]
  }
 ],
 "metadata": {
  "kernelspec": {
   "display_name": "Python 3",
   "language": "python",
   "name": "python3"
  },
  "language_info": {
   "codemirror_mode": {
    "name": "ipython",
    "version": 3
   },
   "file_extension": ".py",
   "mimetype": "text/x-python",
   "name": "python",
   "nbconvert_exporter": "python",
   "pygments_lexer": "ipython3",
   "version": "3.6.3"
  }
 },
 "nbformat": 4,
 "nbformat_minor": 2
}
