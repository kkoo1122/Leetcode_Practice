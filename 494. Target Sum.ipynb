{
 "cells": [
  {
   "cell_type": "markdown",
   "metadata": {},
   "source": [
    "You are given a list of non-negative integers, a1, a2, ..., an, and a target, S. Now you have 2 symbols + and -. For each integer, you should choose one from + and - as its new symbol.\n",
    "\n",
    "Find out how many ways to assign symbols to make sum of integers equal to target S.\n",
    "\n",
    "**Example 1:**\n",
    "\n",
    "    Input: nums is [1, 1, 1, 1, 1], S is 3. \n",
    "    Output: 5\n",
    "**Explanation:** \n",
    "\n",
    "    -1+1+1+1+1 = 3\n",
    "    +1-1+1+1+1 = 3\n",
    "    +1+1-1+1+1 = 3\n",
    "    +1+1+1-1+1 = 3\n",
    "    +1+1+1+1-1 = 3\n",
    "\n",
    "There are 5 ways to assign symbols to make the sum of nums be target 3.\n",
    "\n",
    "**Note:**\n",
    "- The length of the given array is positive and will not exceed 20.\n",
    "- The sum of elements in the given array will not exceed 1000.\n",
    "- Your output answer is guaranteed to be fitted in a 32-bit integer."
   ]
  },
  {
   "cell_type": "markdown",
   "metadata": {},
   "source": [
    "### Thought\n",
    "\n",
    "[Other's thought](https://blog.csdn.net/mine_song/article/details/70216562)\n",
    "\n",
    "- **First Method:**\n",
    "Using Depth First search via binary tree. But in the bigger case, it would cause time limit exceeded problem. So need to seek another method or combine with memoization. \n"
   ]
  },
  {
   "cell_type": "code",
   "execution_count": null,
   "metadata": {
    "collapsed": true
   },
   "outputs": [],
   "source": [
    "#### Time Limit Exceeded ####\n",
    "#Time Complexity: O(2^n)\n",
    "#Space Complexity: O(n)\n",
    "def findTargetSumWays(self, nums, S):\n",
    "        \"\"\"\n",
    "        :type nums: List[int]\n",
    "        :type S: int\n",
    "        :rtype: int\n",
    "        \"\"\"\n",
    "        self.count=0\n",
    "        self.dfs(nums,S,0,0)\n",
    "        return self.count\n",
    "        \n",
    "    def dfs(self,nums,S,Sum,length):\n",
    "        if length == len(nums):\n",
    "            if Sum == S: \n",
    "                self.count+=1\n",
    "                return\n",
    "            else: \n",
    "                return                \n",
    "        left=self.dfs(nums,S,Sum+nums[length],length+1)\n",
    "        right=self.dfs(nums,S,Sum-nums[length],length+1)      \n",
    "        return\n",
    "            "
   ]
  },
  {
   "cell_type": "markdown",
   "metadata": {},
   "source": [
    "[Nice DP in Python](https://leetcode.com/problems/target-sum/discuss/97343/Python-DP)\n",
    "\n",
    "\n",
    "\n",
    "#How to use dict.get()#\n",
    "\n",
    "    dict = {'Name': 'Zabra', 'Age': 7}\n",
    "    print(\"Value : %s\" %  dict.get('Age'))\n",
    "    print(\"Value : %s\" %  dict.get('Education', \"Never\"))\n",
    "    \n",
    "    out: 7\n",
    "    out: Never ####Cause Education is not in dict, so the output would be shown as we assigned, \"Never.\""
   ]
  },
  {
   "cell_type": "code",
   "execution_count": 10,
   "metadata": {},
   "outputs": [
    {
     "name": "stdout",
     "output_type": "stream",
     "text": [
      "{1: 1, -1: 1}\n",
      "{2: 1, 0: 2, -2: 1}\n",
      "{3: 1, 1: 3, -1: 3, -3: 1}\n",
      "{4: 1, 2: 4, 0: 6, -2: 4, -4: 1}\n",
      "{5: 1, 3: 5, 1: 10, -1: 10, -3: 5, -5: 1}\n"
     ]
    },
    {
     "data": {
      "text/plain": [
       "5"
      ]
     },
     "execution_count": 10,
     "metadata": {},
     "output_type": "execute_result"
    }
   ],
   "source": [
    "def findTargetSumWays(nums, S):\n",
    "        if not nums:\n",
    "            return 0\n",
    "        dic = {nums[0]: 1, -nums[0]: 1} if nums[0] != 0 else {0: 2} #either + and - is the one method when nums[0] is 0, so {0:2}\n",
    "        #print(dic)\n",
    "        for i in range(1, len(nums)):\n",
    "            tdic = {}\n",
    "            for d in dic:\n",
    "                tdic[d + nums[i]] = tdic.get(d + nums[i], 0) + dic.get(d, 0)\n",
    "                tdic[d - nums[i]] = tdic.get(d - nums[i], 0) + dic.get(d, 0)\n",
    "            dic = tdic\n",
    "            #print(dic)\n",
    "        return dic.get(S, 0)\n",
    "nums=[1,1,1,1,1]\n",
    "S=3\n",
    "findTargetSumWays(nums,S)"
   ]
  },
  {
   "cell_type": "code",
   "execution_count": null,
   "metadata": {
    "collapsed": true
   },
   "outputs": [],
   "source": [
    "#DP2: 76ms, beat 97.92%\n",
    "\n",
    "def findTargetSumWays(self, nums, S):\n",
    "        \"\"\"\n",
    "        :type nums: List[int]\n",
    "        :type S: int\n",
    "        :rtype: int\n",
    "        \"\"\"\n",
    "        sum_nums = sum(nums)\n",
    "        if S > sum_nums or (sum_nums + S) & 1: \n",
    "            return 0\n",
    "        target = (sum_nums + S) >> 1\n",
    "        dp = [1] + [0] * target\n",
    "        for n in nums:\n",
    "            for i in range(target, n-1, -1):\n",
    "                dp[i] += dp[i - n]\n",
    "        return dp[target]"
   ]
  }
 ],
 "metadata": {
  "kernelspec": {
   "display_name": "Python 3",
   "language": "python",
   "name": "python3"
  },
  "language_info": {
   "codemirror_mode": {
    "name": "ipython",
    "version": 3
   },
   "file_extension": ".py",
   "mimetype": "text/x-python",
   "name": "python",
   "nbconvert_exporter": "python",
   "pygments_lexer": "ipython3",
   "version": "3.6.3"
  }
 },
 "nbformat": 4,
 "nbformat_minor": 2
}
