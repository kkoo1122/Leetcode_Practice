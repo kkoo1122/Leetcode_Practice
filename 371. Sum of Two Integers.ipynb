{
 "cells": [
  {
   "cell_type": "markdown",
   "metadata": {},
   "source": [
    "\n",
    "Calculate the sum of two integers a and b, but you are not allowed to use the operator + and -.\n",
    "\n",
    "Example:\n",
    "\n",
    "    Given a = 1 and b = 2, return 3."
   ]
  },
  {
   "cell_type": "markdown",
   "metadata": {},
   "source": [
    "## Thought\n",
    "Note:Test cases include negative numbers, which means we need to manipulate two's complement.\n",
    "- [Discussion 1](https://leetcode.com/problems/sum-of-two-integers/discuss/84282/Python-solution-with-no-%22+-*%22-completely-bit-manipulation-guaranteed)\n",
    "- [A summary for BitManipulation from Discussion](https://leetcode.com/problems/sum-of-two-integers/discuss/84278/A-summary:-how-to-use-bit-manipulation-to-solve-problems-easily-and-efficiently)"
   ]
  },
  {
   "cell_type": "code",
   "execution_count": 1,
   "metadata": {
    "collapsed": true
   },
   "outputs": [],
   "source": [
    "def getSum(self, a, b):\n",
    "    \"\"\"\n",
    "    :type a: int\n",
    "    :type b: int\n",
    "    :rtype: int\n",
    "    \"\"\"\n",
    "    # 32 bits integer max\n",
    "    MAX = 0x7FFFFFFF\n",
    "    # 32 bits interger min\n",
    "    MIN = 0x80000000\n",
    "    # mask to get last 32 bits\n",
    "    mask = 0xFFFFFFFF\n",
    "\n",
    "    while b:\n",
    "        # \" ^ \" get different bits and \" & \" gets double 1s, << moves carry\n",
    "        a, b = (a ^ b) & mask, ((a & b) << 1) & mask\n",
    "        # if a is negative, get a's 32 bits complement positive first\n",
    "        # then get 32-bit positive's Python complement negative\n",
    "\n",
    "    return a if a <=MAX else ~(a^mask)# for two's complement"
   ]
  }
 ],
 "metadata": {
  "kernelspec": {
   "display_name": "Python 3",
   "language": "python",
   "name": "python3"
  },
  "language_info": {
   "codemirror_mode": {
    "name": "ipython",
    "version": 3
   },
   "file_extension": ".py",
   "mimetype": "text/x-python",
   "name": "python",
   "nbconvert_exporter": "python",
   "pygments_lexer": "ipython3",
   "version": "3.6.3"
  }
 },
 "nbformat": 4,
 "nbformat_minor": 2
}
