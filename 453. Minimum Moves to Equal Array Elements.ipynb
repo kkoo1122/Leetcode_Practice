{
 "cells": [
  {
   "cell_type": "markdown",
   "metadata": {},
   "source": [
    "Given a non-empty integer array of size n, find the minimum number of moves required to make all array elements equal, where a move is incrementing n - 1 elements by 1.\n",
    "\n",
    "**Example:**\n",
    "\n",
    "    Input:\n",
    "    [1,2,3]\n",
    "\n",
    "    Output:\n",
    "    3\n",
    "\n",
    "Explanation:\n",
    "Only three moves are needed (remember each move increments two elements):\n",
    "\n",
    "[1,2,3]  =>  [2,3,3]  =>  [3,4,3]  =>  [4,4,4]"
   ]
  },
  {
   "cell_type": "markdown",
   "metadata": {},
   "source": [
    "### Thought\n",
    "It's a math problem."
   ]
  },
  {
   "cell_type": "code",
   "execution_count": null,
   "metadata": {
    "collapsed": true
   },
   "outputs": [],
   "source": [
    "def minMoves(self, nums):\n",
    "        \"\"\"\n",
    "        :type nums: List[int]\n",
    "        :rtype: int\n",
    "        \"\"\"\n",
    "        return sum(nums)-len(nums)*min(nums)"
   ]
  }
 ],
 "metadata": {
  "kernelspec": {
   "display_name": "Python 3",
   "language": "python",
   "name": "python3"
  },
  "language_info": {
   "codemirror_mode": {
    "name": "ipython",
    "version": 3
   },
   "file_extension": ".py",
   "mimetype": "text/x-python",
   "name": "python",
   "nbconvert_exporter": "python",
   "pygments_lexer": "ipython3",
   "version": "3.6.3"
  }
 },
 "nbformat": 4,
 "nbformat_minor": 2
}
