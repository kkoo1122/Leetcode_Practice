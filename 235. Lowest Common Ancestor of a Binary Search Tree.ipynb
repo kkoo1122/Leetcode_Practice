{
 "cells": [
  {
   "cell_type": "markdown",
   "metadata": {},
   "source": [
    "Given a binary search tree (BST), find the lowest common ancestor (LCA) of two given nodes in the BST.\n",
    "\n",
    "According to the definition of LCA on Wikipedia: “The lowest common ancestor is defined between two nodes p and q as the lowest node in T that has both p and q as descendants (where we allow a node to be a descendant of itself).”\n",
    "\n",
    "Given binary search tree:  root = [6,2,8,0,4,7,9,null,null,3,5]\n",
    "\n",
    "            _______6______\n",
    "           /              \\\n",
    "        ___2__          ___8__\n",
    "       /      \\        /      \\\n",
    "       0      _4       7       9\n",
    "             /  \\\n",
    "             3   5\n",
    "\n",
    "**Example 1:**\n",
    "\n",
    "    Input: root = [6,2,8,0,4,7,9,null,null,3,5], p = 2, q = 8\n",
    "    Output: 6\n",
    "    Explanation: The LCA of nodes 2 and 8 is 6.\n",
    "\n",
    "**Example 2:**\n",
    "\n",
    "    Input: root = [6,2,8,0,4,7,9,null,null,3,5], p = 2, q = 4\n",
    "    Output: 2\n",
    "    Explanation: The LCA of nodes 2 and 4 is 2, since a node can be a descendant of itself \n",
    "                 according to the LCA definition.\n",
    "\n",
    "**Note:**\n",
    "- **All of the nodes' values will be unique.**\n",
    "- **p and q are different and both values will exist in the BST.**"
   ]
  },
  {
   "cell_type": "markdown",
   "metadata": {},
   "source": [
    "### Thought\n",
    "Because it's Binary Search Tree, we just need to check if both numbers are greater or smaller than the current root. If both numbers are greater, root should change into the right root. On the other hand, if both numbers are smaller than the root, then we should change root into the left hand node, which means smaller than the root number."
   ]
  },
  {
   "cell_type": "code",
   "execution_count": null,
   "metadata": {
    "collapsed": true
   },
   "outputs": [],
   "source": [
    "# Definition for a binary tree node.\n",
    "# class TreeNode(object):\n",
    "#     def __init__(self, x):\n",
    "#         self.val = x\n",
    "#         self.left = None\n",
    "#         self.right = None\n",
    "\n",
    "class Solution(object):\n",
    "    def lowestCommonAncestor(self, root, p, q):\n",
    "        \"\"\"\n",
    "        :type root: TreeNode\n",
    "        :type p: TreeNode\n",
    "        :type q: TreeNode\n",
    "        :rtype: TreeNode\n",
    "        \"\"\"\n",
    "        while root:\n",
    "            if p.val < root.val and q.val < root.val:\n",
    "                root= root.left\n",
    "            elif p.val > root.val and q.val > root.val:\n",
    "                root=root.right\n",
    "            else:\n",
    "                return root"
   ]
  }
 ],
 "metadata": {
  "kernelspec": {
   "display_name": "Python 3",
   "language": "python",
   "name": "python3"
  },
  "language_info": {
   "codemirror_mode": {
    "name": "ipython",
    "version": 3
   },
   "file_extension": ".py",
   "mimetype": "text/x-python",
   "name": "python",
   "nbconvert_exporter": "python",
   "pygments_lexer": "ipython3",
   "version": "3.6.3"
  }
 },
 "nbformat": 4,
 "nbformat_minor": 2
}
