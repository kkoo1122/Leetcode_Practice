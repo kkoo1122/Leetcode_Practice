{
 "cells": [
  {
   "cell_type": "markdown",
   "metadata": {},
   "source": [
    "# Medium\n",
    "\n",
    "Given preorder and inorder traversal of a tree, construct the binary tree.\n",
    "\n",
    "Note:\n",
    "You may assume that duplicates do not exist in the tree.\n",
    "\n",
    "For example, given\n",
    "\n",
    "preorder = [3,9,20,15,7]\n",
    "\n",
    "inorder = [9,3,15,20,7]\n",
    "\n",
    "Return the following binary tree:\n",
    "\n",
    "        3\n",
    "       / \\\n",
    "      9  20\n",
    "        /  \\\n",
    "       15   7"
   ]
  },
  {
   "cell_type": "markdown",
   "metadata": {},
   "source": [
    "# Thought\n",
    "\n",
    "Using DFS with stack.\n",
    "\n",
    "Remeber, while the latest node meet the same number as inorder means that we need to change our direction of node.\n",
    "See code\n",
    "\n",
    "    while stack and stack[-1] == inorder[indx]:\n",
    "        tmp = stack.pop()\n",
    "        indx += 1\n",
    "\n",
    "from example, we met number 9 which means we go through the left part of the tree. Then we met 3 again in list of inorder, which means that we need to go back to the root node. So, the temp node (tmp) would point to the node 3, and then, we started to go down the right side of the tree."
   ]
  },
  {
   "cell_type": "code",
   "execution_count": null,
   "metadata": {},
   "outputs": [],
   "source": [
    "# Definition for a binary tree node.\n",
    "# class TreeNode:\n",
    "#     def __init__(self, x):\n",
    "#         self.val = x\n",
    "#         self.left = None\n",
    "#         self.right = None\n",
    "\n",
    "class Solution:\n",
    "    def buildTree(self, preorder: List[int], inorder: List[int]) -> TreeNode:\n",
    "        \n",
    "        \n",
    "        # Preorder = (root, left, right)\n",
    "        # Inorder  = (left, root, right)\n",
    "        if not preorder: return None\n",
    "        \n",
    "        root = TreeNode(preorder[0])\n",
    "        stack = [root]\n",
    "        \n",
    "        pre , ino = 1 , 0 \n",
    "        \n",
    "        while pre < len(preorder):\n",
    "            tmp = None\n",
    "            node = TreeNode(preorder[pre])\n",
    "            while stack and stack[-1].val == inorder[ino]:\n",
    "                tmp = stack.pop()\n",
    "                ino += 1\n",
    "            if tmp:\n",
    "                tmp.right = node\n",
    "            else:\n",
    "                stack[-1].left = node\n",
    "            \n",
    "            stack.append(node)            \n",
    "            pre += 1\n",
    "        \n",
    "        return root"
   ]
  }
 ],
 "metadata": {
  "kernelspec": {
   "display_name": "Python 3",
   "language": "python",
   "name": "python3"
  },
  "language_info": {
   "codemirror_mode": {
    "name": "ipython",
    "version": 3
   },
   "file_extension": ".py",
   "mimetype": "text/x-python",
   "name": "python",
   "nbconvert_exporter": "python",
   "pygments_lexer": "ipython3",
   "version": "3.6.3"
  }
 },
 "nbformat": 4,
 "nbformat_minor": 2
}
