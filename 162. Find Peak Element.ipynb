{
 "cells": [
  {
   "cell_type": "markdown",
   "metadata": {},
   "source": [
    "# Medium\n",
    "A peak element is an element that is greater than its neighbors.\n",
    "\n",
    "Given an input array nums, where nums[i] ≠ nums[i+1], find a peak element and return its index.\n",
    "\n",
    "The array may contain multiple peaks, in that case return the index to any one of the peaks is fine.\n",
    "\n",
    "You may imagine that nums[-1] = nums[n] = -∞.\n",
    "\n",
    "Example 1:\n",
    "\n",
    "    Input: nums = [1,2,3,1]\n",
    "    Output: 2\n",
    "    Explanation: 3 is a peak element and your function should return the index number 2.\n",
    "\n",
    "Example 2:\n",
    "\n",
    "    Input: nums = [1,2,1,3,5,6,4]\n",
    "    Output: 1 or 5 \n",
    "    Explanation: Your function can return either index number 1 where the peak element is 2, \n",
    "                 or index number 5 where the peak element is 6."
   ]
  },
  {
   "cell_type": "markdown",
   "metadata": {},
   "source": [
    "# Thought\n",
    "According to the condition described in problem set, there is always at least one peak in the array."
   ]
  },
  {
   "cell_type": "code",
   "execution_count": 37,
   "metadata": {},
   "outputs": [
    {
     "data": {
      "text/plain": [
       "1"
      ]
     },
     "execution_count": 37,
     "metadata": {},
     "output_type": "execute_result"
    }
   ],
   "source": [
    "def findPeakElement(nums):\n",
    "    if len(nums) < 2: return 0\n",
    "    \n",
    "    left , right = 0 ,len(nums)-1\n",
    "    \n",
    "    while left < right: \n",
    "        #since there are always at least one peak, \n",
    "        #we shoudn't set the condition for \"=\" to avoid infinite loop\n",
    "        mid = (left+right)>>1\n",
    "        \n",
    "        if nums[mid] < nums[mid+1]:\n",
    "            left = mid + 1\n",
    "        else:\n",
    "            right = mid   \n",
    "        \n",
    "        \n",
    "    return left\n",
    "\n",
    "\n",
    "findPeakElement([1,6])\n",
    "    \n"
   ]
  }
 ],
 "metadata": {
  "kernelspec": {
   "display_name": "Python 3",
   "language": "python",
   "name": "python3"
  },
  "language_info": {
   "codemirror_mode": {
    "name": "ipython",
    "version": 3
   },
   "file_extension": ".py",
   "mimetype": "text/x-python",
   "name": "python",
   "nbconvert_exporter": "python",
   "pygments_lexer": "ipython3",
   "version": "3.6.3"
  }
 },
 "nbformat": 4,
 "nbformat_minor": 2
}
