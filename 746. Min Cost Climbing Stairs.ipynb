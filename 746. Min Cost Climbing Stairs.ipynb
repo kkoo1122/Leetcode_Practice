{
 "cells": [
  {
   "cell_type": "markdown",
   "metadata": {},
   "source": [
    "\n",
    "On a staircase, the i-th step has some non-negative cost cost[i] assigned (0 indexed).\n",
    "\n",
    "Once you pay the cost, you can either climb one or two steps. You need to find minimum cost to reach the top of the floor, and you can either start from the step with index 0, or the step with index 1.\n",
    "\n",
    "Example 1:\n",
    "Input: cost = [10, 15, 20]\n",
    "Output: 15\n",
    "Explanation: Cheapest is start on cost[1], pay that cost and go to the top.\n",
    "Example 2:\n",
    "Input: cost = [1, 100, 1, 1, 1, 100, 1, 1, 100, 1]\n",
    "Output: 6\n",
    "Explanation: Cheapest is start on cost[0], and only step on 1s, skipping cost[3]."
   ]
  },
  {
   "cell_type": "code",
   "execution_count": 2,
   "metadata": {},
   "outputs": [
    {
     "name": "stdout",
     "output_type": "stream",
     "text": [
      "6\n",
      "15\n",
      "0\n",
      "0\n",
      "12\n"
     ]
    }
   ],
   "source": [
    "# related 70. Climbing Stairs\n",
    "def minCostClimbingStairs(cost):    \n",
    "    a , b , c = 0 , 0 ,0\n",
    "    for i in range(2,len(cost)+1):\n",
    "        c = min(a+cost[i-2],b+cost[i-1])\n",
    "        a , b = b , c                \n",
    "    return b\n",
    "\n",
    "\n",
    "        \n",
    "\n",
    "    \n",
    "    \n",
    "\n",
    "print(minCostClimbingStairs([1, 100, 1, 1, 1, 100, 1, 1, 100, 1])) #6\n",
    "print(minCostClimbingStairs([10, 15, 20]))#15\n",
    "print(minCostClimbingStairs([0,0,0,0]))#0\n",
    "print(minCostClimbingStairs([0,0,0,1]))#0\n",
    "print(minCostClimbingStairs([1,2,3,4,5,6,7]))#12"
   ]
  },
  {
   "cell_type": "code",
   "execution_count": 40,
   "metadata": {},
   "outputs": [
    {
     "name": "stdout",
     "output_type": "stream",
     "text": [
      "6\n",
      "15\n",
      "0\n",
      "0\n",
      "12\n"
     ]
    }
   ],
   "source": [
    "def minCostClimbingStairs(cost): \n",
    "    \n",
    "    n=len(cost)\n",
    "    if n==0: return 0\n",
    "    if n==1: return 0\n",
    "    if n==2: return min(cost)\n",
    "    \n",
    "    dp=[0]*(n) \n",
    "    \n",
    "    dp[0],dp[1]=cost[0],cost[1]\n",
    "    \n",
    "    for i in range(2,n):\n",
    "        dp[i]=min(dp[i-1],dp[i-2])+cost[i]\n",
    "    return min(dp[n-1],dp[n-2])\n",
    "\n",
    "print(minCostClimbingStairs([1, 100, 1, 1, 1, 100, 1, 1, 100, 1])) #6\n",
    "print(minCostClimbingStairs([10, 15, 20]))#15\n",
    "print(minCostClimbingStairs([0,0,0,0]))#0\n",
    "print(minCostClimbingStairs([0,0,0,1]))#0\n",
    "print(minCostClimbingStairs([1,2,3,4,5,6,7]))#12"
   ]
  }
 ],
 "metadata": {
  "kernelspec": {
   "display_name": "Python 3",
   "language": "python",
   "name": "python3"
  },
  "language_info": {
   "codemirror_mode": {
    "name": "ipython",
    "version": 3
   },
   "file_extension": ".py",
   "mimetype": "text/x-python",
   "name": "python",
   "nbconvert_exporter": "python",
   "pygments_lexer": "ipython3",
   "version": "3.6.3"
  }
 },
 "nbformat": 4,
 "nbformat_minor": 2
}
