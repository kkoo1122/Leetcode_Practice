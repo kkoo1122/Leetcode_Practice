{
 "cells": [
  {
   "cell_type": "markdown",
   "metadata": {},
   "source": [
    "# Medium\n",
    "Given inorder and postorder traversal of a tree, construct the binary tree.\n",
    "\n",
    "Note:\n",
    "\n",
    "You may assume that duplicates do not exist in the tree.\n",
    "\n",
    "For example, given\n",
    "\n",
    "inorder = [9,3,15,20,7]\n",
    "\n",
    "postorder = [9,15,7,20,3]\n",
    "\n",
    "Return the following binary tree:\n",
    "\n",
    "        3\n",
    "       / \\\n",
    "      9  20\n",
    "        /  \\\n",
    "       15   7"
   ]
  },
  {
   "cell_type": "markdown",
   "metadata": {},
   "source": [
    "# Thought\n",
    "\n",
    "Basically, it is just the reverse way of LeetCode 105. Exactly the same method to go through lists but in left and right reversed order."
   ]
  },
  {
   "cell_type": "code",
   "execution_count": null,
   "metadata": {},
   "outputs": [],
   "source": [
    "# Definition for a binary tree node.\n",
    "# class TreeNode:\n",
    "#     def __init__(self, x):\n",
    "#         self.val = x\n",
    "#         self.left = None\n",
    "#         self.right = None\n",
    "\n",
    "class Solution:\n",
    "    def buildTree(self, inorder: List[int], postorder: List[int]) -> TreeNode:\n",
    "        \n",
    "        # Inorder   (Left,Root,Right)\n",
    "        # Postorder (Left,Right,Root)\n",
    "        if not postorder: return None\n",
    "        \n",
    "        root = TreeNode(postorder[-1])\n",
    "        stack = [root]\n",
    "        i = len(postorder) - 2\n",
    "        j = len(inorder) - 1\n",
    "        \n",
    "        while i >= 0 :\n",
    "            node = TreeNode(postorder[i])\n",
    "            tmp = None\n",
    "            \n",
    "            while stack and stack[-1].val == inorder[j]:\n",
    "                tmp = stack.pop()\n",
    "                j -= 1\n",
    "            \n",
    "            if tmp:\n",
    "                tmp.left = node            \n",
    "            else:\n",
    "                stack[-1].right = node\n",
    "            \n",
    "            stack.append(node)          \n",
    "            i -= 1\n",
    "            \n",
    "        return root"
   ]
  }
 ],
 "metadata": {
  "kernelspec": {
   "display_name": "Python 3",
   "language": "python",
   "name": "python3"
  },
  "language_info": {
   "codemirror_mode": {
    "name": "ipython",
    "version": 3
   },
   "file_extension": ".py",
   "mimetype": "text/x-python",
   "name": "python",
   "nbconvert_exporter": "python",
   "pygments_lexer": "ipython3",
   "version": "3.6.3"
  }
 },
 "nbformat": 4,
 "nbformat_minor": 2
}
