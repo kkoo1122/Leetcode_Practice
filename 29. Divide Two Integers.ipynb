{
 "cells": [
  {
   "cell_type": "markdown",
   "metadata": {},
   "source": [
    "Given two integers dividend and divisor, divide two integers without using multiplication, division and mod operator.\n",
    "\n",
    "Return the quotient after dividing dividend by divisor.\n",
    "\n",
    "The integer division should truncate toward zero.\n",
    "\n",
    "**Example 1:**\n",
    "\n",
    "    Input: dividend = 10, divisor = 3\n",
    "    Output: 3\n",
    "\n",
    "**Example 2:**\n",
    "\n",
    "    Input: dividend = 7, divisor = -3\n",
    "    Output: -2\n",
    "\n",
    "**Note:**\n",
    "\n",
    "Both dividend and divisor will be 32-bit signed integers.\n",
    "The divisor will never be 0.\n",
    "Assume we are dealing with an environment which could only store integers within the 32-bit signed integer range: (−2^31,  2^31 − 1). For the purpose of this problem, assume that your function returns 2^31 − 1 when the division result overflows.\n"
   ]
  },
  {
   "cell_type": "markdown",
   "metadata": {},
   "source": [
    "### Thought"
   ]
  },
  {
   "cell_type": "code",
   "execution_count": null,
   "metadata": {},
   "outputs": [],
   "source": [
    "def divide(self, dividend, divisor):\n",
    "    \"\"\"\n",
    "    :type dividend: int\n",
    "    :type divisor: int\n",
    "    :rtype: int\n",
    "    \"\"\"\n",
    "    flag = True\n",
    "    if (dividend>0 and divisor<0) or (dividend<0 and divisor>0):\n",
    "        flag = False\n",
    "\n",
    "    dividend, divisor= abs(dividend) , abs(divisor)\n",
    "\n",
    "    res=0\n",
    "    while dividend >= divisor:\n",
    "        temp , i = divisor , 1\n",
    "        while dividend >= temp:\n",
    "            dividend -= temp\n",
    "            res += i\n",
    "            i<<=1\n",
    "            temp<<=1                        \n",
    "\n",
    "\n",
    "    if flag:\n",
    "        return min(res,2**31-1)\n",
    "    if not flag:\n",
    "        return max(-res,-2**31)"
   ]
  }
 ],
 "metadata": {
  "kernelspec": {
   "display_name": "Python 3",
   "language": "python",
   "name": "python3"
  },
  "language_info": {
   "codemirror_mode": {
    "name": "ipython",
    "version": 3
   },
   "file_extension": ".py",
   "mimetype": "text/x-python",
   "name": "python",
   "nbconvert_exporter": "python",
   "pygments_lexer": "ipython3",
   "version": "3.6.3"
  }
 },
 "nbformat": 4,
 "nbformat_minor": 2
}
