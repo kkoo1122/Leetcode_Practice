{
 "cells": [
  {
   "cell_type": "markdown",
   "metadata": {},
   "source": [
    "Given an input string , reverse the string word by word. \n",
    "\n",
    "**Example:**\n",
    "\n",
    "    Input:  [\"t\",\"h\",\"e\",\" \",\"s\",\"k\",\"y\",\" \",\"i\",\"s\",\" \",\"b\",\"l\",\"u\",\"e\"]\n",
    "    Output: [\"b\",\"l\",\"u\",\"e\",\" \",\"i\",\"s\",\" \",\"s\",\"k\",\"y\",\" \",\"t\",\"h\",\"e\"]\n",
    "\n",
    "Note: \n",
    "- A word is defined as a sequence of non-space characters.\n",
    "- The input string does not contain leading or trailing spaces.\n",
    "- The words are always separated by a single space.\n",
    "\n",
    "**Follow up:** Could you do it in-place without allocating extra space?"
   ]
  },
  {
   "cell_type": "markdown",
   "metadata": {},
   "source": [
    "### Thought\n",
    "\n",
    "Basically, the first solution has the same idea as the second solution. The only difference is that the first solution is from the array's end to the array's start, and the second solution is from the array's start to the array's end\n",
    "\n",
    "We've set condition when we met ' ', which means the end of the single word, the reverse the word itself. "
   ]
  },
  {
   "cell_type": "code",
   "execution_count": null,
   "metadata": {
    "collapsed": true
   },
   "outputs": [],
   "source": [
    "def reverseWords(str):\n",
    "    \"\"\"\n",
    "    :type str: List[str]\n",
    "    :rtype: void Do not return anything, modify str in-place instead.\n",
    "    \"\"\"\n",
    "    left , right = len(str)-1 ,len(str)\n",
    "\n",
    "    str.reverse()\n",
    "    while left > -1:\n",
    "        if str[left-1]==' ' or left == 0:\n",
    "            str[left:right]=str[left:right][::-1]\n",
    "            right=left-1\n",
    "            left-=1\n",
    "        left-=1\n",
    "\n",
    "    "
   ]
  },
  {
   "cell_type": "code",
   "execution_count": null,
   "metadata": {
    "collapsed": true
   },
   "outputs": [],
   "source": [
    "def reverseWords(self, str):\n",
    "    \"\"\"\n",
    "    :type str: List[str]\n",
    "    :rtype: void Do not return anything, modify str in-place instead.\n",
    "    \"\"\"\n",
    "    str.reverse()\n",
    "    left=0\n",
    "    for right in range(len(str)):\n",
    "        if str[right]==' ':\n",
    "            str[left:right]=str[left:right][::-1]\n",
    "            left=right+1\n",
    "\n",
    "    str[left:]=str[left:][::-1]"
   ]
  }
 ],
 "metadata": {
  "kernelspec": {
   "display_name": "Python 3",
   "language": "python",
   "name": "python3"
  },
  "language_info": {
   "codemirror_mode": {
    "name": "ipython",
    "version": 3
   },
   "file_extension": ".py",
   "mimetype": "text/x-python",
   "name": "python",
   "nbconvert_exporter": "python",
   "pygments_lexer": "ipython3",
   "version": "3.6.3"
  }
 },
 "nbformat": 4,
 "nbformat_minor": 2
}
