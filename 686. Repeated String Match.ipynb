{
 "cells": [
  {
   "cell_type": "markdown",
   "metadata": {},
   "source": [
    "\n",
    "Given two strings A and B, find the minimum number of times A has to be repeated such that B is a substring of it. If no such solution, return -1.\n",
    "\n",
    "For example, with A = \"abcd\" and B = \"cdabcdab\".\n",
    "\n",
    "Return 3, because by repeating A three times (“abcdabcdabcd”), B is a substring of it; and B is not a substring of A repeated two times (\"abcdabcd\").\n",
    "\n",
    "**Note:**<br>\n",
    "The length of A and B will be between 1 and 10000."
   ]
  },
  {
   "cell_type": "markdown",
   "metadata": {},
   "source": [
    "### Thought\n",
    "\n",
    "- ** The most important code is below**\n",
    "    \n",
    "\n",
    "    times=-(-len(B)//len(A)) #equals to math.ceil(len(B)/len(A))"
   ]
  },
  {
   "cell_type": "code",
   "execution_count": null,
   "metadata": {},
   "outputs": [],
   "source": [
    "def repeatedStringMatch(self, A, B):\n",
    "    \"\"\"\n",
    "    :type A: str\n",
    "    :type B: str\n",
    "    :rtype: int\n",
    "    \"\"\"\n",
    "    times=-(-len(B)//len(A))# equals to math.ceil(len(B)/len(A))\n",
    "\n",
    "    for i in range(2):\n",
    "        if B in A*(times+i):\n",
    "            return times+i\n",
    "    return -1"
   ]
  }
 ],
 "metadata": {
  "kernelspec": {
   "display_name": "Python 3",
   "language": "python",
   "name": "python3"
  },
  "language_info": {
   "codemirror_mode": {
    "name": "ipython",
    "version": 3
   },
   "file_extension": ".py",
   "mimetype": "text/x-python",
   "name": "python",
   "nbconvert_exporter": "python",
   "pygments_lexer": "ipython3",
   "version": "3.6.3"
  }
 },
 "nbformat": 4,
 "nbformat_minor": 2
}
