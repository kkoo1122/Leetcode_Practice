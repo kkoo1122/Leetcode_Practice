{
 "cells": [
  {
   "attachments": {},
   "cell_type": "markdown",
   "metadata": {},
   "source": [
    "Example:\n",
    "\n",
    "Input:\n",
    "\n",
    "         1---2---3---4---5---6--NULL\n",
    "                 |\n",
    "                 7---8---9---10--NULL\n",
    "                     |\n",
    "                     11--12--NULL\n",
    "\n",
    "Output:\n",
    "\n",
    "        1-2-3-7-8-11-12-9-10-4-5-6-NULL\n",
    " \n",
    "\n",
    "\n",
    "Explanation for the above example:\n",
    "\n",
    "Given the following multilevel doubly linked list:\n",
    "\n",
    "\n",
    "**(image described  in problem set)**\n",
    " \n",
    "\n",
    "We should return the following flattened doubly linked list:\n",
    "\n",
    "\n",
    "**(image described  in problem set)**\n",
    "\n",
    "\n",
    "Link: [https://leetcode.com/problems/flatten-a-multilevel-doubly-linked-list/]"
   ]
  },
  {
   "cell_type": "markdown",
   "metadata": {},
   "source": [
    "# Thought\n",
    "\n",
    "Just follow the picture, then we can get our result. However, we need to attention that some the child node is empty. Therefore, we have to set a condition **if child** to make sure we could connect the **child.prev** back to our node. "
   ]
  },
  {
   "cell_type": "code",
   "execution_count": null,
   "metadata": {},
   "outputs": [],
   "source": [
    "\"\"\"\n",
    "# Definition for a Node.\n",
    "class Node:\n",
    "    def __init__(self, val, prev, next, child):\n",
    "        self.val = val\n",
    "        self.prev = prev\n",
    "        self.next = next\n",
    "        self.child = child\n",
    "\"\"\"\n",
    "class Solution:\n",
    "    def flatten(self, head: 'Node') -> 'Node':\n",
    "        \n",
    "        node = head\n",
    "        stack = []\n",
    "        \n",
    "        while node:\n",
    "            \n",
    "            if node.child:\n",
    "                stack.append(node.next)\n",
    "                node.next = node.child\n",
    "                node.child.prev = node\n",
    "                node.child = None\n",
    "            \n",
    "            if stack and not node.next:\n",
    "                tmp = stack.pop()\n",
    "                if tmp:\n",
    "                    node.next = tmp\n",
    "                    tmp.prev = node             \n",
    "\n",
    "            node = node.next\n",
    "        \n",
    "        \n",
    "        return head"
   ]
  }
 ],
 "metadata": {
  "kernelspec": {
   "display_name": "Python 3",
   "language": "python",
   "name": "python3"
  },
  "language_info": {
   "codemirror_mode": {
    "name": "ipython",
    "version": 3
   },
   "file_extension": ".py",
   "mimetype": "text/x-python",
   "name": "python",
   "nbconvert_exporter": "python",
   "pygments_lexer": "ipython3",
   "version": "3.6.3"
  }
 },
 "nbformat": 4,
 "nbformat_minor": 2
}
