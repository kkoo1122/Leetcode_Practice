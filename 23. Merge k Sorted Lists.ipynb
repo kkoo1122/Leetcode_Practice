{
 "cells": [
  {
   "cell_type": "markdown",
   "metadata": {},
   "source": [
    "Merge k sorted linked lists and return it as one sorted list. Analyze and describe its complexity.\n",
    "\n",
    "**Example:**\n",
    "\n",
    "    Input:\n",
    "    [\n",
    "      1->4->5,\n",
    "      1->3->4,\n",
    "      2->6\n",
    "    ]\n",
    "\n",
    "**Output**: 1->1->2->3->4->4->5->6"
   ]
  },
  {
   "cell_type": "markdown",
   "metadata": {},
   "source": [
    "### Thought\n",
    "\n",
    "- Append every node into an array, and then using quick sort for sorting.\n",
    "    - Time Complexity: O(NlogN)<--quick sort\n",
    "    - Space Complexity: O(N)\n",
    "\n",
    "- \n"
   ]
  },
  {
   "cell_type": "code",
   "execution_count": null,
   "metadata": {
    "collapsed": true
   },
   "outputs": [],
   "source": [
    "def mergeKLists(self, lists):\n",
    "    \"\"\"\n",
    "    :type lists: List[ListNode]\n",
    "    :rtype: ListNode\n",
    "    \"\"\"\n",
    "    res=[]\n",
    "    for i in range(len(lists)):\n",
    "        node = lists[i]\n",
    "        while node:\n",
    "            res.append(node.val)\n",
    "            node=node.next\n",
    "\n",
    "    return sorted(res)"
   ]
  }
 ],
 "metadata": {
  "kernelspec": {
   "display_name": "Python 3",
   "language": "python",
   "name": "python3"
  },
  "language_info": {
   "codemirror_mode": {
    "name": "ipython",
    "version": 3
   },
   "file_extension": ".py",
   "mimetype": "text/x-python",
   "name": "python",
   "nbconvert_exporter": "python",
   "pygments_lexer": "ipython3",
   "version": "3.6.3"
  }
 },
 "nbformat": 4,
 "nbformat_minor": 2
}
