{
 "cells": [
  {
   "cell_type": "markdown",
   "metadata": {},
   "source": [
    "Write an algorithm to determine if a number is \"happy\".\n",
    "\n",
    "A happy number is a number defined by the following process: Starting with any positive integer, replace the number by the sum of the squares of its digits, and repeat the process until the number equals 1 (where it will stay), or it loops endlessly in a cycle which does not include 1. Those numbers for which this process ends in 1 are happy numbers.\n",
    "\n",
    "**Example:**\n",
    "\n",
    "    Input: 19\n",
    "    Output: true\n",
    "\n",
    "**Explanation:**\n",
    "\n",
    "    12 + 92 = 82\n",
    "    82 + 22 = 68\n",
    "    62 + 82 = 100\n",
    "    12 + 02 + 02 = 1"
   ]
  },
  {
   "cell_type": "markdown",
   "metadata": {},
   "source": [
    "### Thought\n",
    "\n",
    "Using has table, if the number has already existed in the has table, then it would be endless calculatin, which means it's not a \"happy number.\""
   ]
  },
  {
   "cell_type": "code",
   "execution_count": null,
   "metadata": {
    "collapsed": true
   },
   "outputs": [],
   "source": [
    "def isHappy(self, n):\n",
    "    \"\"\"\n",
    "    :type n: int\n",
    "    :rtype: bool\n",
    "    \"\"\"\n",
    "    cache=set()        \n",
    "    while n not in cache:\n",
    "        if n==1:\n",
    "            return True\n",
    "        cache.add(n)\n",
    "        n=self.sumofsquare(n)\n",
    "    return False  \n",
    "\n",
    "def sumofsquare(self,n): #calculating sum of the number's square.\n",
    "    s=0\n",
    "    while n>=10:\n",
    "        s+=(n%10)**2\n",
    "        n//=10\n",
    "    s+=n**2\n",
    "    return s"
   ]
  }
 ],
 "metadata": {
  "kernelspec": {
   "display_name": "Python 3",
   "language": "python",
   "name": "python3"
  },
  "language_info": {
   "codemirror_mode": {
    "name": "ipython",
    "version": 3
   },
   "file_extension": ".py",
   "mimetype": "text/x-python",
   "name": "python",
   "nbconvert_exporter": "python",
   "pygments_lexer": "ipython3",
   "version": "3.6.3"
  }
 },
 "nbformat": 4,
 "nbformat_minor": 2
}
