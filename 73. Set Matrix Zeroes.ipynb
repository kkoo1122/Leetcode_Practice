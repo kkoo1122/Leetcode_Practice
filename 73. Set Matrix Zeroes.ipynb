{
 "cells": [
  {
   "cell_type": "markdown",
   "metadata": {},
   "source": [
    "Given a m x n matrix, if an element is 0, set its entire row and column to 0. Do it in-place.\n",
    "\n",
    "Example 1:\n",
    "\n",
    "        Input: \n",
    "        [\n",
    "          [1,1,1],\n",
    "          [1,0,1],\n",
    "          [1,1,1]\n",
    "        ]\n",
    "        Output: \n",
    "        [\n",
    "          [1,0,1],\n",
    "          [0,0,0],\n",
    "          [1,0,1]\n",
    "        ]\n",
    "Example 2:\n",
    "\n",
    "    Input: \n",
    "    [\n",
    "      [0,1,2,0],\n",
    "      [3,4,5,2],\n",
    "      [1,3,1,5]\n",
    "    ]\n",
    "    Output: \n",
    "    [\n",
    "      [0,0,0,0],\n",
    "      [0,4,5,0],\n",
    "      [0,3,1,0]\n",
    "    ]\n",
    "    \n",
    "Follow up:\n",
    "\n",
    "- A straight forward solution using O(mn) space is probably a bad idea.\n",
    "- A simple improvement uses O(m + n) space, but still not the best solution.\n",
    "- Could you devise a constant space solution?"
   ]
  },
  {
   "cell_type": "markdown",
   "metadata": {},
   "source": [
    "## Thought\n",
    "Save the point 0's columns and rows. To prevent do the same row or column again, therefore we use set to make sure every column or row would only do one time."
   ]
  },
  {
   "cell_type": "code",
   "execution_count": null,
   "metadata": {},
   "outputs": [],
   "source": [
    "def setZeroes(self, matrix):\n",
    "    \"\"\"\n",
    "    :type matrix: List[List[int]]\n",
    "    :rtype: void Do not return anything, modify matrix in-place instead.\n",
    "    \"\"\"\n",
    "    row,col=[],[]\n",
    "    \n",
    "    for i in range(len(matrix)):\n",
    "        for j in  range(len(matrix[0])):\n",
    "            if matrix[i][j]==0:\n",
    "                col.append(i)\n",
    "                row.append(j)\n",
    "    row=set(row)\n",
    "    col=set(col)\n",
    "\n",
    "    for a in col:\n",
    "        for k in range(len(matrix[a])):\n",
    "            matrix[a][k]=0\n",
    "\n",
    "    for b in row:\n",
    "        for l in range(len(matrix)):\n",
    "            matrix[l][b]=0"
   ]
  }
 ],
 "metadata": {
  "kernelspec": {
   "display_name": "Python 3",
   "language": "python",
   "name": "python3"
  },
  "language_info": {
   "codemirror_mode": {
    "name": "ipython",
    "version": 3
   },
   "file_extension": ".py",
   "mimetype": "text/x-python",
   "name": "python",
   "nbconvert_exporter": "python",
   "pygments_lexer": "ipython3",
   "version": "3.6.3"
  }
 },
 "nbformat": 4,
 "nbformat_minor": 2
}
