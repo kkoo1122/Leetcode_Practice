{
 "cells": [
  {
   "cell_type": "markdown",
   "metadata": {},
   "source": [
    "# Medium\n",
    "\n",
    "Given a binary tree, return the zigzag level order traversal of its nodes' values. (ie, from left to right, then right to left for the next level and alternate between).\n",
    "\n",
    "For example:\n",
    "\n",
    "Given binary tree [3,9,20,null,null,15,7],\n",
    "\n",
    "        3\n",
    "       / \\\n",
    "      9  20\n",
    "        /  \\\n",
    "       15   7\n",
    "       \n",
    "return its zigzag level order traversal as:\n",
    "\n",
    "    [\n",
    "      [3],\n",
    "      [20,9],\n",
    "      [15,7]\n",
    "    ]"
   ]
  },
  {
   "cell_type": "markdown",
   "metadata": {},
   "source": [
    "# Thought\n",
    "\n",
    "Just using basic BFS. But while saving numbers to our result, we have to see the level of the node. If the level of the node, level, can devide 2 without remainder, then the direction of saving number would be going right, which means using **append(val)**. On the other hand, while the level of the node will remain 1 as remainder, then the method to save the number in the result will be **insert(0,val)**."
   ]
  },
  {
   "cell_type": "code",
   "execution_count": null,
   "metadata": {},
   "outputs": [],
   "source": [
    "# Definition for a binary tree node.\n",
    "# class TreeNode:\n",
    "#     def __init__(self, x):\n",
    "#         self.val = x\n",
    "#         self.left = None\n",
    "#         self.right = None\n",
    "\n",
    "class Solution:\n",
    "    def zigzagLevelOrder(self, root: TreeNode) -> List[List[int]]:\n",
    "        \n",
    "        queue = [(root,0)]     \n",
    "        res = []\n",
    "        \n",
    "        while queue:\n",
    "            node , level = queue.pop(0)\n",
    "            if node:\n",
    "                if len(res)-1 < level:\n",
    "                    res.append([node.val])\n",
    "                else:\n",
    "                    if level%2 == 0:\n",
    "                        res[level].append(node.val)\n",
    "                    else:\n",
    "                        res[level].insert(0,node.val)\n",
    "\n",
    "                if not node.left and not node.right:\n",
    "                    continue\n",
    "                else:\n",
    "                    queue.append((node.left,level+1))\n",
    "                    queue.append((node.right,level+1))\n",
    "                        \n",
    "        return res\n",
    "                "
   ]
  }
 ],
 "metadata": {
  "kernelspec": {
   "display_name": "Python 3",
   "language": "python",
   "name": "python3"
  },
  "language_info": {
   "codemirror_mode": {
    "name": "ipython",
    "version": 3
   },
   "file_extension": ".py",
   "mimetype": "text/x-python",
   "name": "python",
   "nbconvert_exporter": "python",
   "pygments_lexer": "ipython3",
   "version": "3.6.3"
  }
 },
 "nbformat": 4,
 "nbformat_minor": 2
}
