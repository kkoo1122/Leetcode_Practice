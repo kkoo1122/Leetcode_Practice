{
 "cells": [
  {
   "cell_type": "code",
   "execution_count": 18,
   "metadata": {},
   "outputs": [
    {
     "data": {
      "text/plain": [
       "[1, 7, 21, 35, 35, 21, 7, 1]"
      ]
     },
     "execution_count": 18,
     "metadata": {},
     "output_type": "execute_result"
    }
   ],
   "source": [
    "#recursive\n",
    "def getRow(rowIndex):\n",
    "        \"\"\"\n",
    "        :type rowIndex: int\n",
    "        :rtype: List[int]\n",
    "        \"\"\"\n",
    "        if rowIndex==0: return [1]          \n",
    "        pascal=getRow(rowIndex-1)  \n",
    "        for i in range(len(pascal)-1,0,-1):\n",
    "            pascal[i] += pascal[i-1]\n",
    "        pascal.append(1)\n",
    "        return pascal\n",
    "\n",
    "getRow(7)"
   ]
  },
  {
   "cell_type": "code",
   "execution_count": 20,
   "metadata": {},
   "outputs": [
    {
     "data": {
      "text/plain": [
       "[1, 7, 21, 35, 35, 21, 7, 1]"
      ]
     },
     "execution_count": 20,
     "metadata": {},
     "output_type": "execute_result"
    }
   ],
   "source": [
    "def getRow(rowIndex):\n",
    "        \"\"\"\n",
    "        :type rowIndex: int\n",
    "        :rtype: List[int]\n",
    "        \"\"\"\n",
    "        pascal=[]\n",
    "        for i in range(rowIndex+1):\n",
    "            pascal.append(1)\n",
    "            for j in range(len(pascal)-2,0,-1):\n",
    "                pascal[j] += pascal[j-1]\n",
    "        return pascal\n",
    "\n",
    "getRow(7)"
   ]
  },
  {
   "cell_type": "code",
   "execution_count": null,
   "metadata": {
    "collapsed": true
   },
   "outputs": [],
   "source": []
  }
 ],
 "metadata": {
  "kernelspec": {
   "display_name": "Python 3",
   "language": "python",
   "name": "python3"
  },
  "language_info": {
   "codemirror_mode": {
    "name": "ipython",
    "version": 3
   },
   "file_extension": ".py",
   "mimetype": "text/x-python",
   "name": "python",
   "nbconvert_exporter": "python",
   "pygments_lexer": "ipython3",
   "version": "3.6.3"
  }
 },
 "nbformat": 4,
 "nbformat_minor": 2
}
