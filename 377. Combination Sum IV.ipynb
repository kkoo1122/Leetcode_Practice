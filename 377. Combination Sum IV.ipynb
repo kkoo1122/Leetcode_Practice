{
 "cells": [
  {
   "cell_type": "markdown",
   "metadata": {},
   "source": [
    "Given an integer array with all positive numbers and no duplicates, find the number of possible combinations that add up to a positive integer target.\n",
    "\n",
    "**Example:**\n",
    "\n",
    "    nums = [1, 2, 3]\n",
    "    target = 4\n",
    "    \n",
    "The possible combination ways are:\n",
    "    \n",
    "    (1, 1, 1, 1)\n",
    "    (1, 1, 2)\n",
    "    (1, 2, 1)\n",
    "    (1, 3)\n",
    "    (2, 1, 1)\n",
    "    (2, 2)\n",
    "    (3, 1)\n",
    "\n",
    "**Note that different sequences are counted as different combinations. Therefore the output is 7.**\n",
    "\n",
    "**Follow up:**\n",
    "- What if negative numbers are allowed in the given array?\n",
    "- How does it change the problem?\n",
    "- What limitation we need to add to the question to allow negative numbers?"
   ]
  },
  {
   "cell_type": "markdown",
   "metadata": {},
   "source": [
    "### Thought\n",
    "[huahua](https://www.youtube.com/watch?v=niZlmOtG4jM)\n",
    "\n",
    "[Blog](http://www.cnblogs.com/grandyang/p/5705750.html)"
   ]
  },
  {
   "cell_type": "code",
   "execution_count": null,
   "metadata": {
    "collapsed": true
   },
   "outputs": [],
   "source": [
    "#Brute Force TLE\n",
    "def combinationSum4(self, nums, target):\n",
    "        \"\"\"\n",
    "        :type nums: List[int]\n",
    "        :type target: int\n",
    "        :rtype: int\n",
    "        \"\"\"\n",
    "        if target==0: return 1\n",
    "        if target<0: return 0\n",
    "        \n",
    "        res=0\n",
    "        for i in range(len(nums)):\n",
    "            \n",
    "            res+=self.combinationSum4(nums,target-nums[i])\n",
    "        \n",
    "        return res"
   ]
  },
  {
   "cell_type": "code",
   "execution_count": null,
   "metadata": {
    "collapsed": true
   },
   "outputs": [],
   "source": [
    "#Recursive + Memoization\n",
    "#Time Complexiy: O(sum{target/nums[i]})\n",
    "#Space Complexity: O(target)\n",
    "def combinationSum4(self, nums, target):\n",
    "        \"\"\"\n",
    "        :type nums: List[int]\n",
    "        :type target: int\n",
    "        :rtype: int\n",
    "        \"\"\"\n",
    "        dp=[1]+[-1]*(target)\n",
    "        \n",
    "        def helper(nums,target):\n",
    "            if dp[target]!=-1:\n",
    "                return dp[target]\n",
    "            \n",
    "            res=0\n",
    "            for i in range(len(nums)):\n",
    "                if target >= nums[i]:\n",
    "                    res+=helper(nums,target-nums[i])\n",
    "            dp[target]=res\n",
    "            return res \n",
    "        return helper(nums,target)"
   ]
  },
  {
   "cell_type": "code",
   "execution_count": null,
   "metadata": {
    "collapsed": true
   },
   "outputs": [],
   "source": [
    "#Dynamic Programming\n",
    "def combinationSum4(self, nums, target):\n",
    "        \"\"\"\n",
    "        :type nums: List[int]\n",
    "        :type target: int\n",
    "        :rtype: int\n",
    "        \"\"\"\n",
    "        if not nums:\n",
    "            return 0\n",
    "        \n",
    "        nums.sort()\n",
    "        \n",
    "        dp=[1]+[0]*target\n",
    "        \n",
    "        for i in range(1,len(dp)): \n",
    "            for num in nums:\n",
    "                if i<num:break\n",
    "                dp[i]+=dp[i-num]\n",
    "        \n",
    "        \n",
    "        return dp[target]"
   ]
  }
 ],
 "metadata": {
  "kernelspec": {
   "display_name": "Python 3",
   "language": "python",
   "name": "python3"
  },
  "language_info": {
   "codemirror_mode": {
    "name": "ipython",
    "version": 3
   },
   "file_extension": ".py",
   "mimetype": "text/x-python",
   "name": "python",
   "nbconvert_exporter": "python",
   "pygments_lexer": "ipython3",
   "version": "3.6.3"
  }
 },
 "nbformat": 4,
 "nbformat_minor": 2
}
