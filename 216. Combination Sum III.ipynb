{
 "cells": [
  {
   "cell_type": "markdown",
   "metadata": {},
   "source": [
    "Find all possible combinations of k numbers that add up to a number n, given that only numbers from 1 to 9 can be used and each combination should be a unique set of numbers.\n",
    "\n",
    "**Note:**\n",
    "\n",
    "- All numbers will be positive integers.\n",
    "- The solution set must not contain duplicate combinations.\n",
    "\n",
    "**Example 1:**\n",
    "\n",
    "    Input: k = 3, n = 7\n",
    "    Output: [[1,2,4]]\n",
    "    \n",
    "**Example 2:**\n",
    "\n",
    "    Input: k = 3, n = 9\n",
    "    Output: [[1,2,6], [1,3,5], [2,3,4]]"
   ]
  },
  {
   "cell_type": "markdown",
   "metadata": {},
   "source": [
    "### Thought\n",
    "Using back tracking dfs method. By utilizing \"start\" parameter to avoid the same number in one solution. eg. target=6, [2,2,2] isn't not one of the solutions."
   ]
  },
  {
   "cell_type": "code",
   "execution_count": 6,
   "metadata": {},
   "outputs": [],
   "source": [
    "#DFS\n",
    "#beat 97%\n",
    "#36ms\n",
    "def combinationSum3(k, n):\n",
    "        \"\"\"\n",
    "        :type k: int\n",
    "        :type n: int\n",
    "        :rtype: List[List[int]]\n",
    "        \"\"\"\n",
    "        def dfs(k,n,ans,res,start):\n",
    "            if k==1:\n",
    "                if n>ans[-1] and n<10:\n",
    "                    ans+=[n]\n",
    "                    res.append(ans)\n",
    "                    return\n",
    "            for i in range(start,9):\n",
    "                if n<start:break\n",
    "                dfs(k-1,n-i,ans+[i],res,i+1)            \n",
    "            return res        \n",
    "        return dfs(k,n,[],[],1)"
   ]
  }
 ],
 "metadata": {
  "kernelspec": {
   "display_name": "Python 3",
   "language": "python",
   "name": "python3"
  },
  "language_info": {
   "codemirror_mode": {
    "name": "ipython",
    "version": 3
   },
   "file_extension": ".py",
   "mimetype": "text/x-python",
   "name": "python",
   "nbconvert_exporter": "python",
   "pygments_lexer": "ipython3",
   "version": "3.6.3"
  }
 },
 "nbformat": 4,
 "nbformat_minor": 2
}
