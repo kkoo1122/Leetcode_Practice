{
 "cells": [
  {
   "cell_type": "markdown",
   "metadata": {},
   "source": [
    "Given a m x n grid filled with non-negative numbers, find a path from top left to bottom right which minimizes the sum of all numbers along its path.\n",
    "\n",
    "Note: You can only move either down or right at any point in time.\n",
    "\n",
    "Example:<br>\n",
    "Input:<br>\n",
    "[<br>\n",
    "    [1,3,1],<br>\n",
    "    [1,5,1],<br>\n",
    "    [4,2,1]<br>\n",
    "]<br>\n",
    "Output: 7<br>\n",
    "Explanation: Because the path 1→3→1→1→1 minimizes the sum."
   ]
  },
  {
   "cell_type": "markdown",
   "metadata": {},
   "source": [
    "### Recursive (TLE) QQ"
   ]
  },
  {
   "cell_type": "code",
   "execution_count": null,
   "metadata": {
    "collapsed": true
   },
   "outputs": [],
   "source": [
    "def minPathSum(self, grid):\n",
    "        \"\"\"\n",
    "        :type grid: List[List[int]]\n",
    "        :rtype: int\n",
    "        \"\"\"\n",
    "        m=len(grid)-1\n",
    "        n=len(grid[0])-1\n",
    "        start=grid[m][n]\n",
    "        return self.minpath(start,m,n,grid)\n",
    "        \n",
    "def minpath(self,path,m,n,grid):\n",
    "        if m==0 and n==0:\n",
    "            return path\n",
    "        elif m==0:\n",
    "            path = path + self.minpath(grid[0][n-1],0,n-1,grid)\n",
    "        elif n==0:\n",
    "            path = path + self.minpath(grid[m-1][0],m-1,0,grid)\n",
    "        else:            \n",
    "            path = path + min(self.minpath(grid[m-1][n],m-1,n,grid),self.minpath(grid[m][n-1],m,n-1,grid))\n",
    "        return path"
   ]
  },
  {
   "cell_type": "markdown",
   "metadata": {},
   "source": [
    "### Dynamic Programming"
   ]
  },
  {
   "cell_type": "code",
   "execution_count": 1,
   "metadata": {
    "collapsed": true
   },
   "outputs": [],
   "source": [
    "def minPathSum(self, grid):\n",
    "        \"\"\"\n",
    "        :type grid: List[List[int]]\n",
    "        :rtype: int\n",
    "        \"\"\"\n",
    "        #DP\n",
    "        m=len(grid)\n",
    "        n=len(grid[0])\n",
    "        for i in range(m):\n",
    "            for j in range(n):\n",
    "                if i==0 and j== 0: continue\n",
    "                elif i==0:\n",
    "                    grid[i][j] += grid[i][j-1]\n",
    "                elif j==0:\n",
    "                    grid[i][j] += grid[i-1][j]\n",
    "                else:\n",
    "                    grid[i][j] += min(grid[i-1][j],grid[i][j-1])\n",
    "    \n",
    "    \n",
    "        return grid[m-1][n-1]\n",
    "\n"
   ]
  }
 ],
 "metadata": {
  "kernelspec": {
   "display_name": "Python 3",
   "language": "python",
   "name": "python3"
  },
  "language_info": {
   "codemirror_mode": {
    "name": "ipython",
    "version": 3
   },
   "file_extension": ".py",
   "mimetype": "text/x-python",
   "name": "python",
   "nbconvert_exporter": "python",
   "pygments_lexer": "ipython3",
   "version": "3.6.3"
  }
 },
 "nbformat": 4,
 "nbformat_minor": 2
}
