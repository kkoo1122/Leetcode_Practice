{
 "cells": [
  {
   "cell_type": "markdown",
   "metadata": {},
   "source": [
    "## Idea\n",
    "像01背包那样理解即：\n",
    "s1[0:i] s2[0:j] 中一共有i + j个字符，从s1中从左至右选取若干字符，s2中从左至右选取若干相同字符。那么，那些未被选中的就是要删除的。再换个角度思考即：选取要删除的字符。\n",
    "\n",
    "DP[i][j] 表示从s1 0-i, s2 0-j 中删除若干字符后，两个字符串相等时，删除的字符串的ASCII值的和的最小值。\n",
    "\n",
    "那么一个O(mn)的循环扫描中，假设我们已知了DP[i-1][j-1] = a; DP[i-1][j] = b; DP[i][j-1] = c：\n",
    "\n",
    "当s1[i] == s2[j]时：\n",
    "DP[i][j] = DP[i-1][j-1] 因为不需要再删除字符，保留s1[i],s2[j]即可。\n",
    "当s1[i] != s2[j]时：\n",
    "此时，需要删除字符才能满足相等。\n",
    "1）删除s1[i]\n",
    "DP[i][j] = DP[i-1][j] + s1[i]\n",
    "2）删除s2[j]\n",
    "DP[i][j] = DP[i][j-1] + s2[j]\n",
    "3）删除s1[i]和s2[j]\n",
    "DP[i][j] = DP[i-1][j-1] + s1[i] + s2[j] 实际上如果两个都要删除，说明s1[0:i] s2[0:j]这些字符中都找不到s1[i],s2[j]，那么DP[i-1][j]中一定选中了s2[j]进行删除，DP[i][j-1]中一定选中了s1[i]删除。那么，这种情况就和1）2）重合了，可以不必重复考虑。\n",
    "因此DP[i][j] = min{DP[i-1][j] + s1[i], DP[i][j-1] + s2[j]}\n",
    "Initialization\n",
    "在上述算法中，假设的已知条件作为起点才能驱动整个循环。\n",
    "首先DP[0][0] =s1[0] == s2[0] ? 0: s1[0] + s2[0];\n",
    "\n",
    "初始化DP[0][0-n]\n",
    "即看做s1只有一个字符，s2[0-n)。假设s2中第i个字符与s1[0] 第一次相等（如不存在i = n），那么对于0 < j < n and j != i 都有DP[0][j] = DP[0][j-1] + s2[j] 当j == i时DP[0][j] = DP[0][j-1] -s1[0]（s1[0]不需要再删除）\n",
    "初始化DP[0-n][0]\n",
    "同上\n",
    "Example\n",
    "s1 = se, s2 = ea, 求DP[1][1] = ?\n",
    "\n",
    "//i = 0, j = 0\n",
    "DP[0][0] = s + e; //216\n",
    "\n",
    "//i = 0, j = 1\n",
    "DP[0][1] = DP[0][0] + a  //s1[0] = s  s2中没有s字符DP[0][j] = DP[0][j-1] + s2[j] \n",
    "313\n",
    "\n",
    "//i = 1, j = 0\n",
    "DP[1][0] = DP[0][0] - s2[0]//s2[0] = e, s1中第一个为e的字符index = 1 DP[i][0] = DP[i-1][j] - s2[0]\n",
    "115\n",
    "\n",
    "//i = 1, j = 1\n",
    "DP[1][1] = min{DP[0][1] + e,  DP[1][0] + a} //s1[i] != s2[j] , min{删除e, 删除a}\n",
    "min{414, 212} = 212"
   ]
  },
  {
   "cell_type": "code",
   "execution_count": 44,
   "metadata": {},
   "outputs": [
    {
     "name": "stdout",
     "output_type": "stream",
     "text": [
      "[[0, 108, 209, 310, 426], [100, 208, 309, 410, 526], [201, 309, 208, 309, 425], [309, 201, 302, 403, 519], [410, 302, 201, 302, 418], [526, 418, 317, 418, 302], [627, 519, 418, 317, 403]]\n"
     ]
    }
   ],
   "source": [
    "s1 = 'delete'\n",
    "s2 = 'leet'\n",
    "\n",
    "l1 , l2 = len(s1), len(s2)\n",
    "\n",
    "DP = [[0]*(l2+1) for _ in range(l1+1)]\n",
    "\n",
    "#initiate\n",
    "for i in range(1,l1+1):\n",
    "    DP[i][0] = DP[i-1][0] + ord(s1[i-1])\n",
    "for j in range(1,l2+1):\n",
    "    DP[0][j] = DP[0][j-1] + ord(s2[j-1])\n",
    "    \n",
    "for i in range(1,l1+1):\n",
    "    for j in range(1,l2+1):\n",
    "        if s1[i-1]==s2[j-1]:\n",
    "            DP[i][j] = DP[i-1][j-1]\n",
    "        if s1[i-1] != s2[j-1]:\n",
    "            DP[i][j] = min(DP[i-1][j]+ord(s1[i-1]),DP[i][j-1]+ord(s2[j-1]))\n",
    "\n",
    "print(DP)"
   ]
  },
  {
   "cell_type": "code",
   "execution_count": null,
   "metadata": {
    "collapsed": true
   },
   "outputs": [],
   "source": []
  }
 ],
 "metadata": {
  "kernelspec": {
   "display_name": "Python 3",
   "language": "python",
   "name": "python3"
  },
  "language_info": {
   "codemirror_mode": {
    "name": "ipython",
    "version": 3
   },
   "file_extension": ".py",
   "mimetype": "text/x-python",
   "name": "python",
   "nbconvert_exporter": "python",
   "pygments_lexer": "ipython3",
   "version": "3.6.3"
  }
 },
 "nbformat": 4,
 "nbformat_minor": 2
}
