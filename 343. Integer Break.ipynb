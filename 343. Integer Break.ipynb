{
 "cells": [
  {
   "cell_type": "markdown",
   "metadata": {},
   "source": [
    "Given a positive integer n, break it into the sum of at least two positive integers and maximize the product of those integers. Return the maximum product you can get.\n",
    "\n",
    "For example, given n = 2, return 1 (2 = 1 + 1); given n = 10, return 36 (10 = 3 + 3 + 4).\n",
    "\n",
    "Note: You may assume that n is not less than 2 and not larger than 58."
   ]
  },
  {
   "cell_type": "code",
   "execution_count": null,
   "metadata": {
    "collapsed": true
   },
   "outputs": [],
   "source": [
    "def integerBreak(self, n):\n",
    "        \"\"\"\n",
    "        :type n: int\n",
    "        :rtype: int\n",
    "        \"\"\"\n",
    "        \n",
    "        dp=[0,1,1,2,4,6,9]\n",
    "        \n",
    "        if n<7: return dp[n]\n",
    "        \n",
    "        for i in range(7,n+1):\n",
    "            \n",
    "            dp.append(3*dp[i-3])\n",
    "            \n",
    "        return dp[n]"
   ]
  },
  {
   "cell_type": "code",
   "execution_count": null,
   "metadata": {
    "collapsed": true
   },
   "outputs": [],
   "source": [
    "def integerBreak(self, n):\n",
    "        \"\"\"\n",
    "        :type n: int\n",
    "        :rtype: int\n",
    "        \"\"\"\n",
    "        ans = [1] * (n+1)\n",
    "        for i in range(2, n+1):\n",
    "            ans[i] = ans[i-1]\n",
    "            for j in range(1, 10):\n",
    "                if i-j > 0 and ans[i-j] * j > ans[i]:\n",
    "                    ans[i] = ans[i-j] * j\n",
    "                if i < n:\n",
    "                    ans[i] = max(ans[i], i)\n",
    "        return ans[n]"
   ]
  }
 ],
 "metadata": {
  "kernelspec": {
   "display_name": "Python 3",
   "language": "python",
   "name": "python3"
  },
  "language_info": {
   "codemirror_mode": {
    "name": "ipython",
    "version": 3
   },
   "file_extension": ".py",
   "mimetype": "text/x-python",
   "name": "python",
   "nbconvert_exporter": "python",
   "pygments_lexer": "ipython3",
   "version": "3.6.3"
  }
 },
 "nbformat": 4,
 "nbformat_minor": 2
}
