{
 "cells": [
  {
   "cell_type": "code",
   "execution_count": 74,
   "metadata": {},
   "outputs": [
    {
     "name": "stdout",
     "output_type": "stream",
     "text": [
      "[1, 0]\n"
     ]
    }
   ],
   "source": [
    "digits=[9]\n",
    "num=0\n",
    "for i in range(len(digits)):\n",
    "    num += digits[i]*pow(10,(len(digits)-1-i))\n",
    "\n",
    "a=[int(j) for j in str(num+1)]\n",
    "print(a)\n"
   ]
  },
  {
   "cell_type": "code",
   "execution_count": 113,
   "metadata": {},
   "outputs": [
    {
     "name": "stdout",
     "output_type": "stream",
     "text": [
      "[1, 0, 0, 0]\n"
     ]
    }
   ],
   "source": [
    "d=[9,9,9]\n",
    "j=0  \n",
    "while j<len(d):\n",
    "    j+=1\n",
    "    if d[-j]+1>9:\n",
    "        d[-j]=0 \n",
    "        if d[0]==0:\n",
    "            d=[1]+d\n",
    "            break\n",
    "    else:\n",
    "        d[-j]+=1        \n",
    "        break\n",
    "print(d)"
   ]
  },
  {
   "cell_type": "code",
   "execution_count": 104,
   "metadata": {},
   "outputs": [
    {
     "name": "stdout",
     "output_type": "stream",
     "text": [
      "[1, 1, 2, 3, 4]\n"
     ]
    }
   ],
   "source": [
    "d=[1,2,3,4]\n",
    "b=[1]+d\n",
    "print(b)"
   ]
  },
  {
   "cell_type": "code",
   "execution_count": null,
   "metadata": {
    "collapsed": true
   },
   "outputs": [],
   "source": [
    "def plusOne(self, digits):\n",
    "        \"\"\"\n",
    "        :type digits: List[int]\n",
    "        :rtype: List[int]\n",
    "        \"\"\"\n",
    "        '''Sol 1:\n",
    "        num=0\n",
    "        for i in range(len(digits)):\n",
    "            num += digits[i]*pow(10,(len(digits)-1-i))\n",
    "        \n",
    "        return [int(j) for j in str(num+1)]\n",
    "        '''\n",
    "        '''Sol 2:\n",
    "        j=0  \n",
    "        while j<len(digits):\n",
    "            j+=1\n",
    "            if digits[-j]+1>9:\n",
    "                digits[-j]=0 \n",
    "                if digits[0]==0:\n",
    "                    digits=[1]+digits\n",
    "                    return digits\n",
    "            else:\n",
    "                digits[-j]+=1        \n",
    "                return digits\n",
    "        '''\n",
    "        for i in range(len(digits)-1, -1, -1):\n",
    "            if digits[i] != 9:\n",
    "                digits[i] += 1\n",
    "                break\n",
    "            digits[i] = 0\n",
    "        if digits[0] == 0:\n",
    "            digits.insert(0, 1)\n",
    "        return digits"
   ]
  }
 ],
 "metadata": {
  "kernelspec": {
   "display_name": "Python 3",
   "language": "python",
   "name": "python3"
  },
  "language_info": {
   "codemirror_mode": {
    "name": "ipython",
    "version": 3
   },
   "file_extension": ".py",
   "mimetype": "text/x-python",
   "name": "python",
   "nbconvert_exporter": "python",
   "pygments_lexer": "ipython3",
   "version": "3.6.3"
  }
 },
 "nbformat": 4,
 "nbformat_minor": 2
}
