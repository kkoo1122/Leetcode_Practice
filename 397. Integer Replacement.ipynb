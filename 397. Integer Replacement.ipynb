{
 "cells": [
  {
   "cell_type": "markdown",
   "metadata": {},
   "source": [
    "Given a positive integer n and you can do operations as follow:\n",
    "\n",
    "If n is even, replace n with n/2.\n",
    "If n is odd, you can replace n with either n + 1 or n - 1.\n",
    "What is the minimum number of replacements needed for n to become 1?\n",
    "\n",
    "**Example 1:**\n",
    "\n",
    "    Input:\n",
    "    8\n",
    "\n",
    "    Output:\n",
    "    3\n",
    "\n",
    "Explanation:<br>\n",
    "    8 -> 4 -> 2 -> 1\n",
    "\n",
    "**Example 2:**\n",
    "\n",
    "    Input:\n",
    "    7\n",
    "\n",
    "    Output:\n",
    "    4\n",
    "\n",
    "Explanation:<br>\n",
    "    7 -> 8 -> 4 -> 2 -> 1 <br>\n",
    "    or<br>\n",
    "    7 -> 6 -> 3 -> 2 -> 1"
   ]
  },
  {
   "cell_type": "markdown",
   "metadata": {},
   "source": [
    "### Thought\n",
    "[Discussion 1](https://leetcode.com/problems/integer-replacement/discuss/87948/Python-O(log-n)-time-O(1)-space-with-explanation-and-proof)\n"
   ]
  },
  {
   "cell_type": "code",
   "execution_count": null,
   "metadata": {
    "collapsed": true
   },
   "outputs": [],
   "source": [
    "def integerReplacement(self, n, cnt=0):\n",
    "    \"\"\"\n",
    "    :type n: int\n",
    "    :rtype: int\n",
    "    \"\"\"\n",
    "    cnt = 0\n",
    "    while n > 1:\n",
    "        cnt += 1\n",
    "        if n % 2 == 0:\n",
    "            n //= 2\n",
    "        elif n % 4 == 1 or n == 3:\n",
    "            n -= 1\n",
    "        else:\n",
    "            n += 1\n",
    "    return cnt"
   ]
  },
  {
   "cell_type": "code",
   "execution_count": null,
   "metadata": {
    "collapsed": true
   },
   "outputs": [],
   "source": [
    "def integerReplacement(self, n, cnt=0):\n",
    "    \"\"\"\n",
    "    :type n: int\n",
    "    :rtype: int\n",
    "    \"\"\"\n",
    "    #recursive    \n",
    "    if n==1:\n",
    "            return cnt\n",
    "        if n%2==0:\n",
    "            return self.integerReplacement(n//2,cnt+1)\n",
    "        else:\n",
    "            return min(self.integerReplacement((n+1),cnt+1),self.integerReplacement((n-1),cnt+1))"
   ]
  }
 ],
 "metadata": {
  "kernelspec": {
   "display_name": "Python 3",
   "language": "python",
   "name": "python3"
  },
  "language_info": {
   "codemirror_mode": {
    "name": "ipython",
    "version": 3
   },
   "file_extension": ".py",
   "mimetype": "text/x-python",
   "name": "python",
   "nbconvert_exporter": "python",
   "pygments_lexer": "ipython3",
   "version": "3.6.3"
  }
 },
 "nbformat": 4,
 "nbformat_minor": 2
}
