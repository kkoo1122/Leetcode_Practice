{
 "cells": [
  {
   "cell_type": "markdown",
   "metadata": {},
   "source": [
    "##### Approach #1: Using built in sort.\n",
    "There are a few similar approaches we can take here, each with its own subtle differences. All are of an O(n-log-n) time complexity due to using the inbuilt sort, although they differ in their space complexity.\n",
    "\n",
    "a) Overwriting input:\n",
    "\n",
    "    def sortedSquares(self, A: List[int]) -> List[int]:\n",
    "        for i in range(len(A)):\n",
    "            A[i] *= A[i]\n",
    "        A.sort()\n",
    "        return A\n",
    "        \n",
    "This approach uses O(1) memory beyond the input array, and is truely in-place. However, it is not always a good idea to overwrite inputs. Remember that because we passed it by reference, the original is actually lost. Often functions like this are a part of an API, and in a lot of cases, nobody wants an API that clobbers their input.\n",
    "\n",
    "I think it's best to ask your interviewer if they want something done in-place or not. It is a common misconception that we should always be trying to do things in-place, overwriting the inputs.\n",
    "\n",
    "\n",
    "b) Making a new array, not in place, O(n) auxillary space.\n",
    "\n",
    "    def sortedSquares(self, A: List[int]) -> List[int]:\n",
    "        return sorted([v**2 for v in A])\n",
    "        \n",
    "Ahhhh, our good 'ol clever Python one-liner. There is a suble space inefficiency in it though. For a brief moment, we're using 3n memory, not 2n. The one line has 2 not-in-place operations in it; the list comprehension creates a new list, and so does sorted. The list comprehension list is promptly garbage collected upon function return, but because it was briefly there, the max memory usage was ultimately 3n. With lots of memory, this is totally fine, and the pythonic nature of it makes it a great solution. But we do need to be aware of it.\n",
    "\n",
    "c) Making a new array, not in place, O(1) auxillary space.\n",
    "Making a new array, in place.\n",
    "\n",
    "    def sortedSquares(self, A: List[int]) -> List[int]:\n",
    "        return_array = [v**2 for v in A]\n",
    "\t\treturn_array.sort() # This is in place!\n",
    "\t\treturn return_array\n",
    "        \n",
    "So, is this O(1) space or O(n) space? Arguments can be made either way, sometimes people say to count the output data stucture in the calculation, and sometimes they don't. If we're talking about auxillary space, we generally don't count the output data structure, which would make it O(1). I think this is a more accurate way of putting it -- we are trying to measure what the algorithm itself is using, not just what the inevitable size of the output is. But it's important to be clear in interviews what you are and aren't counting.\n",
    "\n",
    "Overall thoughts on these approaches\n",
    "You won't be coding any of these approaches in an interview (in my own very, very limited experience though!). By all means your interviewer will want to hear that you could do it this way, but there is 3 big problems if they are the only approaches you can come up with.\n",
    "\n",
    "We shouldn't need to use an O(n-log-n) sort operation on data that for the most part is already sorted. There's something not right with that. If this is the approach the interviewer wanted, they wouldn't have given you the numbers in a sorted list in the first place.\n",
    "Following on from that, there are O(n) solutions.\n",
    "Why would they be asking you to code something so trivial? Let's be honest. They want to see you writing some meaty code.\n",
    "The remaining approaches exploit the existing sorting. If we were to go down the list squaring each number, we'd have a \"v\" sorted list, in that the squares of the negatives decrease, and then the squares of the positives increase, i.e.\n",
    "[-4, -2, -1, 0, 1, 2, 3, 5] -> [16, 4, 1, 0, 1, 4, 9, 25]\n",
    "\n",
    "We can get this into a sorted list in O(n) time.\n",
    "\n",
    "\n",
    "\n",
    "https://leetcode.com/problems/squares-of-a-sorted-array/discuss/310865/Python%3A-A-comparison-of-lots-of-approaches!-Sorting-two-pointers-deque-iterator-generator"
   ]
  },
  {
   "cell_type": "code",
   "execution_count": null,
   "metadata": {},
   "outputs": [],
   "source": [
    "def sortedSquares(self, A: List[int]) -> List[int]: \n",
    "        cnt = len(A) - 1\n",
    "        right = len(A)-1\n",
    "        left = 0\n",
    "        res = [0]*len(A)\n",
    "        numr = A[right]**2\n",
    "        numl = A[left]**2\n",
    "        while cnt >= 0:            \n",
    "            if numl > numr:\n",
    "                res[cnt] = numl\n",
    "                left += 1\n",
    "                numl = A[left]**2 \n",
    "            else:                \n",
    "                res[cnt] = numr\n",
    "                right -= 1\n",
    "                numr = A[right]**2\n",
    "            cnt -= 1 \n",
    "        return res"
   ]
  }
 ],
 "metadata": {
  "kernelspec": {
   "display_name": "Python 3",
   "language": "python",
   "name": "python3"
  },
  "language_info": {
   "codemirror_mode": {
    "name": "ipython",
    "version": 3
   },
   "file_extension": ".py",
   "mimetype": "text/x-python",
   "name": "python",
   "nbconvert_exporter": "python",
   "pygments_lexer": "ipython3",
   "version": "3.6.3"
  }
 },
 "nbformat": 4,
 "nbformat_minor": 2
}
