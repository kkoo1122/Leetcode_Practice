{
 "cells": [
  {
   "cell_type": "markdown",
   "metadata": {},
   "source": [
    "Given a sorted integer array without duplicates, return the summary of its ranges.\n",
    "\n",
    "Example 1:\n",
    "\n",
    "    Input:  [0,1,2,4,5,7]\n",
    "    Output: [\"0->2\",\"4->5\",\"7\"]\n",
    "\n",
    "Explanation: 0,1,2 form a continuous range; 4,5 form a continuous range.\n",
    "\n",
    "Example 2:\n",
    "\n",
    "    Input:  [0,2,3,4,6,8,9]\n",
    "    Output: [\"0\",\"2->4\",\"6\",\"8->9\"]\n",
    "\n",
    "Explanation: 2,3,4 form a continuous range; 8,9 form a continuous range."
   ]
  },
  {
   "cell_type": "markdown",
   "metadata": {},
   "source": [
    "## Thought\n",
    "\n",
    "Using two pointers to solve this question."
   ]
  },
  {
   "cell_type": "code",
   "execution_count": null,
   "metadata": {},
   "outputs": [],
   "source": [
    "def summaryRanges(self, nums):\n",
    "        \"\"\"\n",
    "        :type nums: List[int]\n",
    "        :rtype: List[str]\n",
    "        \"\"\"\n",
    "        if not nums: return []\n",
    "        if len(nums)==1: return [str(nums[0])]\n",
    "        \n",
    "        head=nums[0]\n",
    "        tail=nums[0]\n",
    "        res=[]\n",
    "        for i in range(1,len(nums)):\n",
    "            if nums[i]-nums[i-1]>1:\n",
    "                if head!=tail:\n",
    "                    res.append(\"%d->%d\"%(head,tail))\n",
    "                    head,tail=nums[i],nums[i]\n",
    "                else:\n",
    "                    res.append(str(head))\n",
    "                    head,tail=nums[i],nums[i]\n",
    "            else:\n",
    "                tail=nums[i]\n",
    "                \n",
    "        if head==tail:\n",
    "            res.append(str(head))\n",
    "        else:\n",
    "            res.append(\"%d->%d\"%(head,tail))\n",
    "            \n",
    "            \n",
    "        return res"
   ]
  }
 ],
 "metadata": {
  "kernelspec": {
   "display_name": "Python 3",
   "language": "python",
   "name": "python3"
  },
  "language_info": {
   "codemirror_mode": {
    "name": "ipython",
    "version": 3
   },
   "file_extension": ".py",
   "mimetype": "text/x-python",
   "name": "python",
   "nbconvert_exporter": "python",
   "pygments_lexer": "ipython3",
   "version": "3.6.3"
  }
 },
 "nbformat": 4,
 "nbformat_minor": 2
}
