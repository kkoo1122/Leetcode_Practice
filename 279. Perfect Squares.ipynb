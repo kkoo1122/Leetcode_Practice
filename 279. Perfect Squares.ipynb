{
 "cells": [
  {
   "cell_type": "markdown",
   "metadata": {},
   "source": [
    "dp[n] indicates that the perfect squares count of the given n, and we have:\n",
    "\n",
    "    dp[0] = 0\n",
    "    dp[1] = dp[0]+1 = 1\n",
    "    dp[2] = dp[1]+1 = 2\n",
    "    dp[3] = dp[2]+1 = 3\n",
    "    dp[4] = Min{ dp[4-1*1]+1, dp[4-2*2]+1 } \n",
    "          = Min{ dp[3]+1, dp[0]+1 } \n",
    "          = 1\t\t\t\t\n",
    "    dp[5] = Min{ dp[5-1*1]+1, dp[5-2*2]+1 } \n",
    "          = Min{ dp[4]+1, dp[1]+1 } \n",
    "          = 2\n",
    "                            .\n",
    "                            .\n",
    "                            .\n",
    "    dp[13] = Min{ dp[13-1*1]+1, dp[13-2*2]+1, dp[13-3*3]+1 } \n",
    "           = Min{ dp[12]+1, dp[9]+1, dp[4]+1 } \n",
    "           = 2\n",
    "                            .\n",
    "                            .\n",
    "                            .\n",
    "    dp[n] = Min{ dp[n - i*i] + 1 },  n - i*i >=0 && i >= 1\n",
    "\n",
    "\n",
    "https://www.youtube.com/watch?v=jVnZxPxzyDA\n",
    "\n",
    "https://blog.csdn.net/happyaaaaaaaaaaa/article/details/51584790\n",
    "\n",
    "https://leetcode.com/problems/perfect-squares/discuss/71512/Static-DP-C++-12-ms-Python-172-ms-Ruby-384-ms"
   ]
  },
  {
   "cell_type": "code",
   "execution_count": 6,
   "metadata": {},
   "outputs": [
    {
     "data": {
      "text/plain": [
       "2"
      ]
     },
     "execution_count": 6,
     "metadata": {},
     "output_type": "execute_result"
    }
   ],
   "source": [
    "n=13\n",
    "\n",
    "dp = [n]*(n+1)\n",
    "\n",
    "for i in range(n):\n",
    "    if i*i <= n:\n",
    "        dp[i*i]=1\n",
    "\n",
    "for i in range(1,n+1):\n",
    "    for j in range(i):\n",
    "        if i+j*j <= n:\n",
    "            dp[i+j*j]=min(dp[i]+1,dp[i+j*j])\n",
    "            \n",
    "dp[n]"
   ]
  }
 ],
 "metadata": {
  "kernelspec": {
   "display_name": "Python 3",
   "language": "python",
   "name": "python3"
  },
  "language_info": {
   "codemirror_mode": {
    "name": "ipython",
    "version": 3
   },
   "file_extension": ".py",
   "mimetype": "text/x-python",
   "name": "python",
   "nbconvert_exporter": "python",
   "pygments_lexer": "ipython3",
   "version": "3.6.3"
  }
 },
 "nbformat": 4,
 "nbformat_minor": 2
}
