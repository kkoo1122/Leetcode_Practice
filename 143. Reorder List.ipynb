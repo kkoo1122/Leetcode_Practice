{
 "cells": [
  {
   "cell_type": "markdown",
   "metadata": {},
   "source": [
    "# Medium\n",
    "Given a singly linked list L: L0→L1→…→Ln-1→Ln,<br>\n",
    "reorder it to: L0→Ln→L1→Ln-1→L2→Ln-2→…\n",
    "\n",
    "You may not modify the values in the list's nodes, only nodes itself may be changed.\n",
    "\n",
    "Example 1:\n",
    "\n",
    "    Given 1->2->3->4, reorder it to 1->4->2->3.\n",
    "\n",
    "Example 2:\n",
    "\n",
    "    Given 1->2->3->4->5, reorder it to 1->5->2->4->3."
   ]
  },
  {
   "cell_type": "markdown",
   "metadata": {},
   "source": [
    "# Thought\n",
    "1. Our first straight forward thought were using stack to stack every node and the pop them out forward and backward each time. However, the time complexity is O(2N) = O(N) with space complexity is O(N) as well. And the performance on leetcode didn't seem to be very well. There is a different approach for this.\n",
    "<br>\n",
    "<br>\n",
    "2. Second method is \n",
    "    - cut the link list into two half and reverse second half. \n",
    "    - After reversing the second half of the list, we could connect these nodes one by one.<br>\n",
    "    Then, we can finally get out result. The time complexity is O(N) since we only used two times of half length of the list. Space complexity would be constant O(1)."
   ]
  },
  {
   "cell_type": "code",
   "execution_count": null,
   "metadata": {},
   "outputs": [],
   "source": [
    "# Definition for singly-linked list.\n",
    "# class ListNode:\n",
    "#     def __init__(self, x):\n",
    "#         self.val = x\n",
    "#         self.next = None\n",
    "\n",
    "class Solution:\n",
    "    def reorderList(self, head: ListNode) -> None:\n",
    "        \"\"\"\n",
    "        Do not return anything, modify head in-place instead.\n",
    "        \"\"\"\n",
    "        dummy = ListNode(0)\n",
    "        dummy.next = head\n",
    "        stack = []\n",
    "        while head:\n",
    "            tmp = head\n",
    "            head = head.next\n",
    "            tmp.next = None\n",
    "            stack.append(tmp)\n",
    "            \n",
    "        \n",
    "        flag = 0\n",
    "        node = dummy\n",
    "        while stack:\n",
    "            if flag == 0:\n",
    "                node.next = stack.pop(0)\n",
    "                node = node.next\n",
    "                flag = 1\n",
    "            elif flag == 1:\n",
    "                node.next = stack.pop()\n",
    "                node = node.next\n",
    "                flag = 0"
   ]
  },
  {
   "cell_type": "code",
   "execution_count": null,
   "metadata": {},
   "outputs": [],
   "source": [
    "# Definition for singly-linked list.\n",
    "# class ListNode:\n",
    "#     def __init__(self, x):\n",
    "#         self.val = x\n",
    "#         self.next = None\n",
    "\n",
    "class Solution:\n",
    "    def reorderList(self, head: ListNode) -> None:\n",
    "        \"\"\"\n",
    "        Do not return anything, modify head in-place instead.\n",
    "        \"\"\"\n",
    "        \n",
    "        if not head: return None\n",
    "        \n",
    "        fast = slow = head\n",
    "        \n",
    "        while fast and fast.next:\n",
    "            fast = fast.next.next\n",
    "            slow = slow.next\n",
    "\n",
    "        \n",
    "        #cut link list into two half\n",
    "        '''\n",
    "        cur = slow.next\n",
    "        slow.next = None\n",
    "        head2 = None # create a new head\n",
    "        '''\n",
    "        \n",
    "        cur,slow.next , head2 = slow.next, None , None\n",
    "        #####  vvv Reverse Linke List Direction vvv\n",
    "        ## e.g. 4->5->6->null ==> 6->5->4->null\n",
    "        while cur: \n",
    "            cur , head2 , head2.next = cur.next , cur , head2\n",
    "        \n",
    "        ##### vvv Linke two list vvv\n",
    "        head1 = head\n",
    "        while head2:\n",
    "            head1.next , head1 = head2 , head1.next\n",
    "            head2.next , head2 = head1 , head2.next\n",
    "            "
   ]
  }
 ],
 "metadata": {
  "kernelspec": {
   "display_name": "Python 3",
   "language": "python",
   "name": "python3"
  },
  "language_info": {
   "codemirror_mode": {
    "name": "ipython",
    "version": 3
   },
   "file_extension": ".py",
   "mimetype": "text/x-python",
   "name": "python",
   "nbconvert_exporter": "python",
   "pygments_lexer": "ipython3",
   "version": "3.6.3"
  }
 },
 "nbformat": 4,
 "nbformat_minor": 2
}
