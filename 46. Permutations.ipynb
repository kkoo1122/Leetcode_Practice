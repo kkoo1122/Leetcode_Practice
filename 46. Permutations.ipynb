{
 "cells": [
  {
   "cell_type": "markdown",
   "metadata": {},
   "source": [
    "Given a collection of distinct integers, return all possible permutations.\n",
    "\n",
    "**Example:**\n",
    "\n",
    "    Input: [1,2,3]\n",
    "    Output:\n",
    "    [\n",
    "      [1,2,3],\n",
    "      [1,3,2],\n",
    "      [2,1,3],\n",
    "      [2,3,1],\n",
    "      [3,1,2],\n",
    "      [3,2,1]\n",
    "    ]"
   ]
  },
  {
   "cell_type": "markdown",
   "metadata": {},
   "source": [
    "### Thought\n",
    "    for i in range(len(numlis)):            \n",
    "        helper(numlis[:i]+numlis[i+1:],ans+[numlis[i]],res)\n",
    "\n",
    "means each time jump over nums[i] for further appending. \n",
    "\n",
    "**For example:**\n",
    "\n",
    "    nums=[1,2,3,4]\n",
    "    nums[:1]+nums[2:]=[1,3,4]"
   ]
  },
  {
   "cell_type": "code",
   "execution_count": 37,
   "metadata": {},
   "outputs": [
    {
     "data": {
      "text/plain": [
       "[[1, 2, 3], [1, 3, 2], [2, 1, 3], [2, 3, 1], [3, 1, 2], [3, 2, 1]]"
      ]
     },
     "execution_count": 37,
     "metadata": {},
     "output_type": "execute_result"
    }
   ],
   "source": [
    "def permute(self,nums):\n",
    "    \"\"\"\n",
    "    :type nums: List[int]\n",
    "    :rtype: List[List[int]]\n",
    "    \"\"\"\n",
    "\n",
    "    def helper(numlis,ans,res):\n",
    "        if not numlis:\n",
    "            res.append(ans[:])\n",
    "        for i in range(len(numlis)):            \n",
    "            helper(numlis[:i]+numlis[i+1:],ans+[numlis[i]],res) #numlis[:i]+numlis[i+1:] 一次跳過一個數字      \n",
    "        return res\n",
    "\n",
    "    return helper(nums,[],[])   \n",
    "        \n",
    "\n",
    "\n",
    "permute(0,[1,2,3])\n",
    "            \n",
    "                    "
   ]
  }
 ],
 "metadata": {
  "kernelspec": {
   "display_name": "Python 3",
   "language": "python",
   "name": "python3"
  },
  "language_info": {
   "codemirror_mode": {
    "name": "ipython",
    "version": 3
   },
   "file_extension": ".py",
   "mimetype": "text/x-python",
   "name": "python",
   "nbconvert_exporter": "python",
   "pygments_lexer": "ipython3",
   "version": "3.6.3"
  }
 },
 "nbformat": 4,
 "nbformat_minor": 2
}
