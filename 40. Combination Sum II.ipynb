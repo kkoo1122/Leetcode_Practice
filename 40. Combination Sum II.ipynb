{
 "cells": [
  {
   "cell_type": "code",
   "execution_count": null,
   "metadata": {
    "collapsed": true
   },
   "outputs": [],
   "source": [
    "def combinationSum2(self, candidates, target):\n",
    "        \"\"\"\n",
    "        :type candidates: List[int]\n",
    "        :type target: int\n",
    "        :rtype: List[List[int]]\n",
    "        \"\"\"\n",
    "        candidates.sort()\n",
    "        return self.dfs(candidates, target, 0, [], [])\n",
    "    def dfs(self, candidates, target, start, ans, res):\n",
    "        if target == 0:\n",
    "            res.append(ans)\n",
    "            return\n",
    "        for i in range(start, len(candidates)):\n",
    "            if candidates[i] > target:\n",
    "                break\n",
    "            if i != start and candidates[i] == candidates[i - 1]:\n",
    "                continue\n",
    "            self.dfs(candidates, target - candidates[i], i + 1, ans + [candidates[i]], res)\n",
    "        return res"
   ]
  }
 ],
 "metadata": {
  "kernelspec": {
   "display_name": "Python 3",
   "language": "python",
   "name": "python3"
  },
  "language_info": {
   "codemirror_mode": {
    "name": "ipython",
    "version": 3
   },
   "file_extension": ".py",
   "mimetype": "text/x-python",
   "name": "python",
   "nbconvert_exporter": "python",
   "pygments_lexer": "ipython3",
   "version": "3.6.3"
  }
 },
 "nbformat": 4,
 "nbformat_minor": 2
}
