{
 "cells": [
  {
   "cell_type": "code",
   "execution_count": 6,
   "metadata": {},
   "outputs": [
    {
     "name": "stdout",
     "output_type": "stream",
     "text": [
      "8\n",
      "run: 2\n",
      "4.0\n",
      "run: 2\n",
      "2.0\n",
      "run: 2\n",
      "1.0\n",
      "fianl run\n"
     ]
    },
    {
     "data": {
      "text/plain": [
       "True"
      ]
     },
     "execution_count": 6,
     "metadata": {},
     "output_type": "execute_result"
    }
   ],
   "source": [
    "def isUgly(num):\n",
    "    print(num)\n",
    "    if num==1:\n",
    "        print('fianl run')\n",
    "        return True\n",
    "    if num<=0: return False        \n",
    "    if num%2 == 0:\n",
    "        print('run:',2)\n",
    "        return isUgly(num/2)            \n",
    "    elif num%3 == 0:\n",
    "        print('run:',3)\n",
    "        return isUgly(num/3)            \n",
    "    elif num%5 ==0:\n",
    "        print('run:',5)\n",
    "        return isUgly(num/5)        \n",
    "    else: return False\n",
    "    \n",
    "isUgly(8)"
   ]
  }
 ],
 "metadata": {
  "kernelspec": {
   "display_name": "Python 3",
   "language": "python",
   "name": "python3"
  },
  "language_info": {
   "codemirror_mode": {
    "name": "ipython",
    "version": 3
   },
   "file_extension": ".py",
   "mimetype": "text/x-python",
   "name": "python",
   "nbconvert_exporter": "python",
   "pygments_lexer": "ipython3",
   "version": "3.6.3"
  }
 },
 "nbformat": 4,
 "nbformat_minor": 2
}
