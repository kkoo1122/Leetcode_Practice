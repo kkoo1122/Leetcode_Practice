{
 "cells": [
  {
   "cell_type": "markdown",
   "metadata": {},
   "source": [
    "## 3 Sum\n",
    "\n",
    "Given an array nums of n integers, are there elements a, b, c in nums such that a + b + c = 0? Find all unique triplets in the array which gives the sum of zero.\n",
    "\n",
    "Note:\n",
    "\n",
    "The solution set must not contain duplicate triplets.\n",
    "\n",
    "Example:\n",
    "\n",
    "Given array nums = [-1, 0, 1, 2, -1, -4],\n",
    "\n",
    "A solution set is:\n",
    "[\n",
    "  [-1, 0, 1],\n",
    "  [-1, -1, 2]\n",
    "]"
   ]
  },
  {
   "cell_type": "code",
   "execution_count": 1,
   "metadata": {
    "tags": [
     "important",
     "basic",
     "medium",
     "array"
    ]
   },
   "outputs": [
    {
     "data": {
      "text/plain": [
       "[[-1, -1, 2], [-1, 0, 1]]"
      ]
     },
     "execution_count": 1,
     "metadata": {},
     "output_type": "execute_result"
    }
   ],
   "source": [
    "nums=[-1,0,1,2,-1,-4]\n",
    "#nums=[-1,-1,-1,0,1,2,2]\n",
    "\n",
    "def threeSum(self, nums):\n",
    "        \"\"\"\n",
    "        :type nums: List[int]\n",
    "        :rtype: List[List[int]]\n",
    "        \"\"\"\n",
    "        res=[]\n",
    "        \n",
    "        if len(nums)<3:\n",
    "            return res\n",
    "        \n",
    "        nums.sort()\n",
    "        \n",
    "        for i in range(len(nums)-2):\n",
    "            if i >=1 and nums[i-1]==nums[i]: #prevent picked the same index \"i\" in cases like [0,0,0,0] and [-1,-1,-1,0,1,2,2]\n",
    "                continue\n",
    "            l=i+1 #left pointer has been picked\n",
    "            r=len(nums)-1 # right pointer has been picked\n",
    "            while l < r: #find every case for the same index \"i\"\n",
    "                sums=nums[i]+nums[l]+nums[r]\n",
    "                if sums < 0:\n",
    "                    l+=1\n",
    "                elif sums > 0:\n",
    "                    r-=1\n",
    "                else:\n",
    "                    tri=[nums[i],nums[l],nums[r]]\n",
    "                    res.append(tri)\n",
    "                    while l < r and nums[l]==nums[l+1]: #prevent same case to be append again in the same index \"i\"\n",
    "                        l+=1\n",
    "                    while l < r and nums[r]==nums[r-1]:\n",
    "                        r-=1\n",
    "                    l+=1\n",
    "                    r-=1\n",
    "        return res\n",
    "\n",
    "threeSum(0,nums)"
   ]
  }
 ],
 "metadata": {
  "celltoolbar": "Tags",
  "kernelspec": {
   "display_name": "Python 3",
   "language": "python",
   "name": "python3"
  },
  "language_info": {
   "codemirror_mode": {
    "name": "ipython",
    "version": 3
   },
   "file_extension": ".py",
   "mimetype": "text/x-python",
   "name": "python",
   "nbconvert_exporter": "python",
   "pygments_lexer": "ipython3",
   "version": "3.6.3"
  }
 },
 "nbformat": 4,
 "nbformat_minor": 2
}
