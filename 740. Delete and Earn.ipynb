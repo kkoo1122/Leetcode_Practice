{
 "cells": [
  {
   "cell_type": "markdown",
   "metadata": {},
   "source": [
    "Given an array nums of integers, you can perform operations on the array.\n",
    "\n",
    "In each operation, you pick any nums[i] and delete it to earn nums[i] points. After, you must delete every element equal to nums[i] - 1 or nums[i] + 1.\n",
    "\n",
    "You start with 0 points. Return the maximum number of points you can earn by applying such operations.\n",
    "\n",
    "**Example 1:**\n",
    "\n",
    "    Input: nums = [3, 4, 2]\n",
    "    Output: 6\n",
    "    Explanation: \n",
    "    Delete 4 to earn 4 points, consequently 3 is also deleted.\n",
    "    Then, delete 2 to earn 2 points. 6 total points are earned.\n",
    "\n",
    "**Example 2:**\n",
    "\n",
    "    Input: nums = [2, 2, 3, 3, 3, 4]\n",
    "    Output: 9\n",
    "    Explanation: \n",
    "    Delete 3 to earn 3 points, deleting both 2's and the 4.\n",
    "    Then, delete 3 again to earn 3 points, and 3 again to earn 3 points.\n",
    "    9 total points are earned.\n",
    "    \n",
    "Note:\n",
    "\n",
    ">- The length of nums is at most 20000.\n",
    "- Each element nums[i] is an integer in the range [1, 10000]."
   ]
  },
  {
   "cell_type": "markdown",
   "metadata": {},
   "source": [
    "### Thought\n",
    "\n",
    "Combine with \"House Rob\"\n",
    "     \n",
    "     Change the case [2,2,3,3,3,4]->[0, 2*2, 3*3, 4*1]=[0,4,9,4]\n",
    "     Ans then, utilize the house rob algorithm to find out how to get the most points."
   ]
  },
  {
   "cell_type": "code",
   "execution_count": null,
   "metadata": {
    "collapsed": true
   },
   "outputs": [],
   "source": [
    "def deleteAndEarn(self, nums):\n",
    "        \"\"\"\n",
    "        :type nums: List[int]\n",
    "        :rtype: int\n",
    "        \"\"\"\n",
    "        if not nums: return 0\n",
    "        if len(nums)==1: return nums[0]\n",
    "        \n",
    "        dp=[0]*max(nums)\n",
    "        \n",
    "        for num in nums:\n",
    "            dp[num-1]+=num\n",
    "        \n",
    "        \n",
    "        a,b=0,0\n",
    "        for i in dp:\n",
    "            tmp,a=a,b+i\n",
    "            #a=b+i\n",
    "            b=max(tmp,b)\n",
    "        \n",
    "        return max(a,b)"
   ]
  }
 ],
 "metadata": {
  "kernelspec": {
   "display_name": "Python 3",
   "language": "python",
   "name": "python3"
  },
  "language_info": {
   "codemirror_mode": {
    "name": "ipython",
    "version": 3
   },
   "file_extension": ".py",
   "mimetype": "text/x-python",
   "name": "python",
   "nbconvert_exporter": "python",
   "pygments_lexer": "ipython3",
   "version": "3.6.3"
  }
 },
 "nbformat": 4,
 "nbformat_minor": 2
}
