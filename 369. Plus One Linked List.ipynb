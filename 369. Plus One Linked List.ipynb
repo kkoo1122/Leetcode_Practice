{
 "cells": [
  {
   "cell_type": "markdown",
   "metadata": {},
   "source": [
    "# Medium\n",
    "\n",
    "Given a non-negative integer represented as non-empty a singly linked list of digits, plus one to the integer.\n",
    "\n",
    "You may assume the integer do not contain any leading zero, except the number 0 itself.\n",
    "\n",
    "The digits are stored such that the most significant digit is at the head of the list.\n",
    "\n",
    "Example :\n",
    "\n",
    "    Input: [1,2,3]\n",
    "    Output: [1,2,4]"
   ]
  },
  {
   "cell_type": "markdown",
   "metadata": {},
   "source": [
    "# Thuoght\n",
    "\n",
    "Using stack to save the every node of the link list, and pop from the last one. Add one to check if it's equal to 10 or not. If yes, then carrier = 1. The previous node need to add one as well.\n",
    "To be careful about the cases like 999. Need to creat a new ListNode as our new head."
   ]
  },
  {
   "cell_type": "code",
   "execution_count": null,
   "metadata": {},
   "outputs": [],
   "source": [
    "# Definition for singly-linked list.\n",
    "# class ListNode:\n",
    "#     def __init__(self, x):\n",
    "#         self.val = x\n",
    "#         self.next = None\n",
    "\n",
    "class Solution:\n",
    "    def plusOne(self, head: ListNode) -> ListNode:        \n",
    "        if not head: return \n",
    "        if head.val == 0 : \n",
    "            head.val=1    \n",
    "            return head\n",
    "\n",
    "        \n",
    "        stack = []\n",
    "        \n",
    "        pt = head\n",
    "        \n",
    "        while pt:\n",
    "            stack.append(pt)\n",
    "            pt = pt.next\n",
    "        \n",
    "        carrier = 1\n",
    "        while stack:\n",
    "            node = stack.pop()\n",
    "            \n",
    "            if node.val+carrier > 9:\n",
    "                carrier = 1\n",
    "                node.val = 0\n",
    "            else:\n",
    "                node.val = node.val+1\n",
    "                carrier = 0\n",
    "                return head\n",
    "        \n",
    "        if carrier == 1:\n",
    "            dummy = ListNode(1)\n",
    "            dummy.next = head\n",
    "            head = dummy\n",
    "            \n",
    "        return head"
   ]
  }
 ],
 "metadata": {
  "kernelspec": {
   "display_name": "Python 3",
   "language": "python",
   "name": "python3"
  },
  "language_info": {
   "codemirror_mode": {
    "name": "ipython",
    "version": 3
   },
   "file_extension": ".py",
   "mimetype": "text/x-python",
   "name": "python",
   "nbconvert_exporter": "python",
   "pygments_lexer": "ipython3",
   "version": "3.6.3"
  }
 },
 "nbformat": 4,
 "nbformat_minor": 2
}
