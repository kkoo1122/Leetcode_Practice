{
 "cells": [
  {
   "cell_type": "code",
   "execution_count": null,
   "metadata": {
    "collapsed": true
   },
   "outputs": [],
   "source": [
    "# Definition for singly-linked list.\n",
    "# class ListNode:\n",
    "#     def __init__(self, x):\n",
    "#         self.val = x\n",
    "#         self.next = None\n",
    "\n",
    "class Solution:\n",
    "    def reverseList(self, head):\n",
    "        \n",
    "        if not head: return head\n",
    "        \n",
    "        rev=None\n",
    "        fast=head   \n",
    "        \n",
    "        while fast and fast.next:\n",
    "            rev, rev.next, fast = fast, rev, fast.next\n",
    "        \n",
    "        rev, rev.next =fast, rev       \n",
    "            \n",
    "        return rev"
   ]
  },
  {
   "cell_type": "code",
   "execution_count": 9,
   "metadata": {},
   "outputs": [
    {
     "ename": "SyntaxError",
     "evalue": "Missing parentheses in call to 'print'. Did you mean print(nt temp.data, end=\" \")? (<ipython-input-9-2010be8d2462>, line 56)",
     "output_type": "error",
     "traceback": [
      "\u001b[1;36m  File \u001b[1;32m\"<ipython-input-9-2010be8d2462>\"\u001b[1;36m, line \u001b[1;32m56\u001b[0m\n\u001b[1;33m    print temp.data,\u001b[0m\n\u001b[1;37m             ^\u001b[0m\n\u001b[1;31mSyntaxError\u001b[0m\u001b[1;31m:\u001b[0m Missing parentheses in call to 'print'. Did you mean print(nt temp.data, end=\" \")?\n"
     ]
    }
   ],
   "source": [
    "# Simple and tail recursive Python program to \n",
    "# reverse a linked list\n",
    "\n",
    "# Node class \n",
    "class Node:\n",
    "\n",
    "\t# Constructor to initialize the node object\n",
    "\tdef __init__(self, data):\n",
    "\t\tself.data = data\n",
    "\t\tself.next = None\n",
    "\n",
    "class LinkedList:\n",
    "\n",
    "\t# Function to initialize head\n",
    "\tdef __init__(self):\n",
    "\t\tself.head = None\n",
    "\n",
    "\n",
    "\tdef reverseUtil(self, curr, prev):\n",
    "\t\t\n",
    "\t\t# If last node mark it head\n",
    "\t\tif curr.next is None :\n",
    "            self.head = curr \n",
    "\t\t\t\n",
    "\t\t\t# Update next to prev node\n",
    "\t\t\tcurr.next = prev\n",
    "\t\t\treturn\n",
    "\t\t\n",
    "\t\t# Save curr.next node for recursive call\n",
    "\t\tnext = curr.next\n",
    "\n",
    "\t\t# And update next \n",
    "\t\tcurr.next = prev\n",
    "\t\n",
    "\t\tself.reverseUtil(next, curr) \n",
    "\n",
    "\n",
    "\t# This function mainly calls reverseUtil()\n",
    "\t# with previous as None\n",
    "\tdef reverse(self):\n",
    "\t\tif self.head is None:\n",
    "\t\t\treturn\n",
    "\t\tself.reverseUtil(self.head, None)\n",
    "\n",
    "\n",
    "\t# Function to insert a new node at the beginning\n",
    "\tdef push(self, new_data):\n",
    "\t\tnew_node = Node(new_data)\n",
    "\t\tnew_node.next = self.head\n",
    "\t\tself.head = new_node\n",
    "\n",
    "\t# Utility function to print the linked LinkedList\n",
    "\tdef printList(self):\n",
    "\t\ttemp = self.head\n",
    "\t\twhile(temp):\n",
    "\t\t\tprint temp.data,\n",
    "\t\t\ttemp = temp.next\n",
    "\n",
    "\n",
    "# Driver program\n",
    "llist = LinkedList()\n",
    "llist.push(8)\n",
    "llist.push(7)\n",
    "llist.push(6)\n",
    "llist.push(5)\n",
    "llist.push(4)\n",
    "llist.push(3)\n",
    "llist.push(2)\n",
    "llist.push(1)\n",
    "\n",
    "print \"Given linked list\"\n",
    "llist.printList()\n",
    "\n",
    "llist.reverse()\n",
    "\n",
    "print \"\\nReverse linked list\"\n",
    "llist.printList()\n",
    "\n",
    "# This code is contributed by Nikhil Kumar Singh(nickzuck_007)\n"
   ]
  },
  {
   "cell_type": "code",
   "execution_count": null,
   "metadata": {
    "collapsed": true
   },
   "outputs": [],
   "source": [
    "def removeElements(self, head, val):\n",
    "    if not head: return head\n",
    "    if head.val==val: return self.removeElements(head.next,val)\n",
    "    head.next = self.removeElements(head.next, val)\n",
    "\n",
    "    return head"
   ]
  }
 ],
 "metadata": {
  "kernelspec": {
   "display_name": "Python 3",
   "language": "python",
   "name": "python3"
  },
  "language_info": {
   "codemirror_mode": {
    "name": "ipython",
    "version": 3
   },
   "file_extension": ".py",
   "mimetype": "text/x-python",
   "name": "python",
   "nbconvert_exporter": "python",
   "pygments_lexer": "ipython3",
   "version": "3.6.3"
  }
 },
 "nbformat": 4,
 "nbformat_minor": 2
}
