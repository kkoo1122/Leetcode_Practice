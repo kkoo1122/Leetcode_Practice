{
 "cells": [
  {
   "cell_type": "markdown",
   "metadata": {},
   "source": [
    "Given a string s and a string t, check if s is subsequence of t.\n",
    "\n",
    "You may assume that there is only lower case English letters in both s and t. t is potentially a very long (length ~= 500,000) string, and s is a short string (<=100).\n",
    "\n",
    "A subsequence of a string is a new string which is formed from the original string by deleting some (can be none) of the characters without disturbing the relative positions of the remaining characters. (ie, \"ace\" is a subsequence of \"abcde\" while \"aec\" is not).\n",
    "\n",
    "**Example 1:**\n",
    "\n",
    "    s = \"abc\", t = \"ahbgdc\"\n",
    "    Return true.\n",
    "\n",
    "**Example 2:**\n",
    "    \n",
    "    s = \"axc\", t = \"ahbgdc\"\n",
    "    Return false.\n",
    "\n",
    "**Follow up:**<br>\n",
    "If there are lots of incoming S, say S1, S2, ... , Sk where k >= 1B, and you want to check one by one to see if T has its subsequence. In this scenario, how would you change your code?"
   ]
  },
  {
   "cell_type": "markdown",
   "metadata": {},
   "source": [
    "Should Try Binary Search Later."
   ]
  },
  {
   "cell_type": "code",
   "execution_count": 23,
   "metadata": {},
   "outputs": [],
   "source": [
    "#Time Limit Exceeded\n",
    "\n",
    "def isSubsequence(s, t):\n",
    "        \"\"\"\n",
    "        :type s: str\n",
    "        :type t: str\n",
    "        :rtype: bool\n",
    "        \"\"\"\n",
    "        cnt=0\n",
    "        k=0\n",
    "        for i in range(len(s)):\n",
    "            for j in range(k,len(t)):\n",
    "                if t[j]==s[i]:\n",
    "                    k=j+1\n",
    "                    cnt+=1\n",
    "                    break\n",
    "        \n",
    "        return cnt==len(s)\n",
    "        \n"
   ]
  },
  {
   "cell_type": "code",
   "execution_count": 27,
   "metadata": {},
   "outputs": [
    {
     "data": {
      "text/plain": [
       "True"
      ]
     },
     "execution_count": 27,
     "metadata": {},
     "output_type": "execute_result"
    }
   ],
   "source": [
    "def isSubsequence(s, t):\n",
    "        \"\"\"\n",
    "        :type s: str\n",
    "        :type t: str\n",
    "        :rtype: bool\n",
    "        \"\"\"\n",
    "        i,j,cnt=0,0,0\n",
    "        while i < len(s) and j <len(t):\n",
    "            if s[i]==t[j]:\n",
    "                cnt+=1\n",
    "                i+=1\n",
    "            j+=1\n",
    "        \n",
    "        return cnt==len(s)\n",
    "\n",
    "s = \"abc\"\n",
    "t = \"ahbgdc\"\n",
    "\n",
    "isSubsequence(s, t)"
   ]
  },
  {
   "cell_type": "code",
   "execution_count": null,
   "metadata": {
    "collapsed": true
   },
   "outputs": [],
   "source": [
    "def isSubsequence(s, t):\n",
    "        \"\"\"\n",
    "        :type s: str\n",
    "        :type t: str\n",
    "        :rtype: bool\n",
    "        \"\"\"\n",
    "        start=0\n",
    "        for c in s:\n",
    "            if c in t[start:]:\n",
    "                start+=t[start:].find(c)+1\n",
    "            else:\n",
    "                return False\n",
    "        \n",
    "        return True "
   ]
  }
 ],
 "metadata": {
  "kernelspec": {
   "display_name": "Python 3",
   "language": "python",
   "name": "python3"
  },
  "language_info": {
   "codemirror_mode": {
    "name": "ipython",
    "version": 3
   },
   "file_extension": ".py",
   "mimetype": "text/x-python",
   "name": "python",
   "nbconvert_exporter": "python",
   "pygments_lexer": "ipython3",
   "version": "3.6.3"
  }
 },
 "nbformat": 4,
 "nbformat_minor": 2
}
