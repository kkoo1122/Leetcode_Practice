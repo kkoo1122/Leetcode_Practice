{
 "cells": [
  {
   "cell_type": "markdown",
   "metadata": {},
   "source": [
    "# Medium\n",
    "\n",
    "Given a linked list and a value x, partition it such that all nodes less than x come before nodes greater than or equal to x.\n",
    "\n",
    "You should preserve the original relative order of the nodes in each of the two partitions.\n",
    "\n",
    "Example:\n",
    "\n",
    "    Input: head = 1->4->3->2->5->2, x = 3\n",
    "    Output: 1->2->2->4->3->5"
   ]
  },
  {
   "cell_type": "markdown",
   "metadata": {},
   "source": [
    "# Thought\n",
    "\n",
    "Just go throught the code, and would get the idea."
   ]
  },
  {
   "cell_type": "code",
   "execution_count": null,
   "metadata": {},
   "outputs": [],
   "source": [
    "# Definition for singly-linked list.\n",
    "# class ListNode:\n",
    "#     def __init__(self, x):\n",
    "#         self.val = x\n",
    "#         self.next = None\n",
    "\n",
    "class Solution:\n",
    "    def partition(self, head: ListNode, x: int) -> ListNode:\n",
    "        if not head: return head\n",
    "        \n",
    "        node =  head\n",
    "        last_small = None\n",
    "        \n",
    "        while node:\n",
    "            \n",
    "            if node.val < x:\n",
    "                last_small = node\n",
    "                node = node.next\n",
    "                continue\n",
    "            \n",
    "            while node and node.val >= x:\n",
    "                prev = node\n",
    "                node = node.next\n",
    "            \n",
    "            if not node:\n",
    "                break\n",
    "            \n",
    "            prev.next = node.next\n",
    "            \n",
    "            if not last_small:\n",
    "                node.next = head\n",
    "                head = node\n",
    "            else:\n",
    "                node.next = last_small.next\n",
    "                last_small.next = node\n",
    "            \n",
    "            \n",
    "    \n",
    "        return head"
   ]
  }
 ],
 "metadata": {
  "kernelspec": {
   "display_name": "Python 3",
   "language": "python",
   "name": "python3"
  },
  "language_info": {
   "codemirror_mode": {
    "name": "ipython",
    "version": 3
   },
   "file_extension": ".py",
   "mimetype": "text/x-python",
   "name": "python",
   "nbconvert_exporter": "python",
   "pygments_lexer": "ipython3",
   "version": "3.6.3"
  }
 },
 "nbformat": 4,
 "nbformat_minor": 2
}
