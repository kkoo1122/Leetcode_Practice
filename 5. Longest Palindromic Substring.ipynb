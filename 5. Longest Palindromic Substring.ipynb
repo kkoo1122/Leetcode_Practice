{
 "cells": [
  {
   "cell_type": "code",
   "execution_count": null,
   "metadata": {
    "collapsed": true
   },
   "outputs": [],
   "source": []
  },
  {
   "cell_type": "code",
   "execution_count": 6,
   "metadata": {},
   "outputs": [
    {
     "name": "stdout",
     "output_type": "stream",
     "text": [
      "ana\n",
      "aa\n",
      "aa\n",
      "aa\n",
      "naaaan\n",
      "ana\n",
      "aa\n",
      "aa\n",
      "aa\n",
      "naaaan\n"
     ]
    },
    {
     "data": {
      "text/plain": [
       "'naaaan'"
      ]
     },
     "execution_count": 6,
     "metadata": {},
     "output_type": "execute_result"
    }
   ],
   "source": [
    "def longestPalindrome(s):\n",
    "        \"\"\"\n",
    "        :type s: str\n",
    "        :rtype: str\n",
    "        \"\"\"\n",
    "        if len(s)==1: return s\n",
    "        dic={}\n",
    "        pointer=0\n",
    "        res=''\n",
    "        for i in range(len(s)):\n",
    "            if s[i] in dic:# and dic[s[i]]>pointer:\n",
    "                head = dic[s[i]]\n",
    "                print(s[head:(i+1)])\n",
    "                if isPalindrome(s[head:(i+1)]) and (i-head+1) > len(res):\n",
    "                    res = s[head:(i+1)]\n",
    "                pointer = dic[s[i]]+1\n",
    "            dic[s[i]]=i\n",
    "        return res        \n",
    "        \n",
    "def isPalindrome(s):\n",
    "        return s==s[::-1]\n",
    "    \n",
    "s=\"anaaaanaaaan\"\n",
    "#s=\"anbcdenedcbn\"\n",
    "#s=\"anvvvddnaaaan\"\n",
    "longestPalindrome(s)"
   ]
  },
  {
   "cell_type": "code",
   "execution_count": 7,
   "metadata": {},
   "outputs": [
    {
     "data": {
      "text/plain": [
       "'naaaan'"
      ]
     },
     "execution_count": 7,
     "metadata": {},
     "output_type": "execute_result"
    }
   ],
   "source": [
    "def longestPalindrome(s):\n",
    "        N=len(s)\n",
    "        max_str=''\n",
    "        for i in range(N):\n",
    "            j=1\n",
    "            while i-j>=0 and i+j<N and s[i-j]==s[i+j]:\n",
    "                j+=1\n",
    "            mstr=s[i-j+1:i+j]\n",
    "            if len(mstr)>len(max_str):\n",
    "                max_str=mstr\n",
    "\n",
    "            j=0\n",
    "            while i-j-1>=0 and i+j<N and s[i-j-1]==s[i+j]:\n",
    "                j+=1\n",
    "            mstr=s[i-j:i+j]\n",
    "            if len(mstr)>len(max_str):\n",
    "                max_str=mstr\n",
    "                    \n",
    "        return max_str\n",
    "\n",
    "s=\"anvvvddnaaaan\"\n",
    "longestPalindrome(s)"
   ]
  }
 ],
 "metadata": {
  "kernelspec": {
   "display_name": "Python 3",
   "language": "python",
   "name": "python3"
  },
  "language_info": {
   "codemirror_mode": {
    "name": "ipython",
    "version": 3
   },
   "file_extension": ".py",
   "mimetype": "text/x-python",
   "name": "python",
   "nbconvert_exporter": "python",
   "pygments_lexer": "ipython3",
   "version": "3.6.3"
  }
 },
 "nbformat": 4,
 "nbformat_minor": 2
}
