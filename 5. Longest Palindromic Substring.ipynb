{
 "cells": [
  {
   "cell_type": "markdown",
   "metadata": {
    "collapsed": true
   },
   "source": [
    "Given a string s, find the longest palindromic substring in s. You may assume that the maximum length of s is 1000.\n",
    "\n",
    "**Example 1:**\n",
    ">Input: \"babad\"<br>\n",
    ">Output: \"bab\"<br>\n",
    "Note: \"aba\" is also a valid answer.\n",
    "\n",
    "**Example 2:**\n",
    ">Input: \"cbbd\"<br>\n",
    "Output: \"bb\""
   ]
  },
  {
   "cell_type": "markdown",
   "metadata": {},
   "source": [
    "### ==Thought==\n",
    "**I. Brute Force:**<br>\n",
    ">Of course *Time Limit Exceeded*.\n",
    "\n",
    "**II. Dynaimc Programming**\n",
    "\n",
    "[Youtube](https://www.youtube.com/watch?v=m2Mk9JN5T4A)<br>\n",
    "[Blog](http://bangbingsyb.blogspot.com/2014/11/leetcode-longest-palindromic-substring.html)\n",
    "\n",
    "\n",
    "(i+1>j-1) -> in border condition, this might cause the result going backward. For example, i=2, j=2, the code would search (i+1,j-1)=(4,2). Then the output might become s[4:2], which might not be the case we expect to. Therefore, we must give this border condition to make sure our search is always going forward.\n",
    "\n",
    "    for j in range(len(s)):\n",
    "        for i in range(j+1):\n",
    "            if i == j:\n",
    "                P[i][j]=True\n",
    "            else:\n",
    "                P[i][j]=(s[i]==s[j]) & ((i+1>j-1)|P[i+1][j-1]==True)\n",
    "            \n",
    "            if P[i][j] and j-i+1>maxlength:\n",
    "                maxlength = j-i+1\n",
    "                res=s[i:j+1]\n",
    "                \n",
    "\n",
    "**III. My acceptfup thought**\n",
    "\n",
    "We seperate two different type of string to check if palindrome.<br>\n",
    "Odd number of the string:<br>\n",
    ">oL , oR = self.checkPalindromeIndex(s, i-1, i+1) <br>\n",
    "\n",
    "The code above would create an odd number string since we started to check if its palindrome from the left and right side of the given string, i.\n",
    "\n",
    "Even number of the string:<br>\n",
    ">eL , eR  = self.checkPalindromeIndex(s, i-1, i)\n",
    "\n",
    "The code above would create an even number string since we started the check if its palindrome the left side and the given sting, i, itself.\n",
    "\n",
    "The heart of this thought is the code below: if the left pointer equals to the right pointer, then the string is still a palindrome. On the other hand, it would end our palindrome if the left string is not equal to right string. the demonstration is below:\n",
    "\n",
    "        def checkPalindromeIndex(self,s,left,right):\n",
    "            while left>=0 and right < len(s):\n",
    "                if s[left] != s[right]: #if they aren't equal which means palindrome stopped.\n",
    "                    break\n",
    "                left -= 1\n",
    "                right += 1\n",
    "            return left+1,right"
   ]
  },
  {
   "cell_type": "code",
   "execution_count": 55,
   "metadata": {},
   "outputs": [
    {
     "data": {
      "text/plain": [
       "'naaaan'"
      ]
     },
     "execution_count": 55,
     "metadata": {},
     "output_type": "execute_result"
    }
   ],
   "source": [
    "#Brute Force: Time Limit Exceeded\n",
    "#Time Complexity: O(n^3)\n",
    "#Space Complexity: O(1)\n",
    "def longestPalindrome(s):\n",
    "    \"\"\"\n",
    "    :type s: str\n",
    "    :rtype: str\n",
    "    \"\"\"        \n",
    "    if len(s)==1: return s\n",
    "    if isPalindrome(s):\n",
    "        return s\n",
    "\n",
    "    dic={}\n",
    "    for i in range(len(s)):\n",
    "        for j in range(len(s)-1,-1,-1):\n",
    "            #print(s[i:j+1])\n",
    "            if isPalindrome(s[i:j+1]):\n",
    "                dic[len(s[i:j+1])]=s[i:j+1]\n",
    "\n",
    "    return dic[max(dic)]\n",
    "        \n",
    "def isPalindrome(s):\n",
    "    return s==s[::-1]\n",
    "\n",
    "s=\"anaaaanaaaan\"\n",
    "#s=\"anbcdenedcbn\"\n",
    "s=\"anvvvddnaaaan\"\n",
    "longestPalindrome(s)"
   ]
  },
  {
   "cell_type": "code",
   "execution_count": 58,
   "metadata": {},
   "outputs": [
    {
     "data": {
      "text/plain": [
       "'naaaan'"
      ]
     },
     "execution_count": 58,
     "metadata": {},
     "output_type": "execute_result"
    }
   ],
   "source": [
    "#Dynamic Programming\n",
    "#Time Complexity: O(n^2)\n",
    "#Space Complexity: O(n^2)\n",
    "def longestPalindrome(s):\n",
    "    if len(s)==1: return s\n",
    "    P=[[False for _ in range(len(s))] for _ in range(len(s))]\n",
    "    maxlength=0\n",
    "    res=''\n",
    "    for j in range(len(s)):\n",
    "        for i in range(j+1):\n",
    "            if i == j:\n",
    "                P[i][j]=True\n",
    "            else:\n",
    "                P[i][j]=(s[i]==s[j]) & ((i+1>j-1)|P[i+1][j-1]==True)\n",
    "            \n",
    "            if P[i][j] and j-i+1>maxlength:\n",
    "                maxlength = j-i+1\n",
    "                res=s[i:j+1]\n",
    "    \n",
    "    return res\n",
    "    \n",
    "    #print(P)\n",
    "\n",
    "#s=\"abba\"\n",
    "s=\"anbcdenedcbn\"\n",
    "s=\"anvvvddnaaaan\"\n",
    "longestPalindrome(s)"
   ]
  },
  {
   "cell_type": "code",
   "execution_count": 59,
   "metadata": {},
   "outputs": [
    {
     "data": {
      "text/plain": [
       "'naaaan'"
      ]
     },
     "execution_count": 59,
     "metadata": {},
     "output_type": "execute_result"
    }
   ],
   "source": [
    "def longestPalindrome(s):\n",
    "        \"\"\"\n",
    "        :type s: str\n",
    "        :rtype: str\n",
    "        \"\"\"\n",
    "        if len(s)<2:\n",
    "            return s\n",
    "        curLength = 1\n",
    "        start = 0\n",
    "        for i in range(1, len(s)):\n",
    "            if i-curLength>=1 and s[i-curLength-1:i+1] == s[i-curLength-1:i+1][::-1]:\n",
    "                start = i-curLength-1\n",
    "                curLength += 2\n",
    "                continue\n",
    "            if i-curLength>=0 and s[i-curLength:i+1] == s[i-curLength:i+1][::-1]:\n",
    "                start = i-curLength\n",
    "                curLength += 1\n",
    "        return s[start:start+curLength]\n",
    "\n",
    "s=\"anvvvddnaaaan\"\n",
    "longestPalindrome(s)"
   ]
  },
  {
   "cell_type": "code",
   "execution_count": 1,
   "metadata": {},
   "outputs": [],
   "source": [
    "#Two pointer check\n",
    "#Time Complexity: O(N)\n",
    "#Space Complexity: O(1)\n",
    "\n",
    "def longestPalindrome(self, s: str) -> str:\n",
    "\n",
    "    IndexLongest=[0,1]\n",
    "    LengthLongest = 1\n",
    "\n",
    "    for i in range(1,len(s)):\n",
    "\n",
    "        oL , oR = self.checkPalindromeIndex(s, i-1, i+1)\n",
    "        eL , eR  = self.checkPalindromeIndex(s, i-1, i)\n",
    "\n",
    "        if oR-oL >= eR-eL:\n",
    "            tmp = [oL,oR]\n",
    "        else:\n",
    "            tmp = [eL,eR]\n",
    "\n",
    "\n",
    "        if tmp[1]-tmp[0] >= LengthLongest:\n",
    "            LengthLongest = tmp[1]-tmp[0]\n",
    "            IndexLongest = [tmp[0],tmp[1]]      \n",
    "\n",
    "    return s[IndexLongest[0]:IndexLongest[1]]\n",
    "\n",
    "\n",
    "\n",
    "def checkPalindromeIndex(self,s,left,right):\n",
    "    while left>=0 and right < len(s):\n",
    "        if s[left] != s[right]:\n",
    "            break\n",
    "        left -= 1\n",
    "        right += 1\n",
    "    return left+1,right"
   ]
  }
 ],
 "metadata": {
  "kernelspec": {
   "display_name": "Python 3",
   "language": "python",
   "name": "python3"
  },
  "language_info": {
   "codemirror_mode": {
    "name": "ipython",
    "version": 3
   },
   "file_extension": ".py",
   "mimetype": "text/x-python",
   "name": "python",
   "nbconvert_exporter": "python",
   "pygments_lexer": "ipython3",
   "version": "3.6.3"
  }
 },
 "nbformat": 4,
 "nbformat_minor": 2
}
