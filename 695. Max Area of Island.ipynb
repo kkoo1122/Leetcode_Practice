{
 "cells": [
  {
   "cell_type": "markdown",
   "metadata": {},
   "source": [
    "\n",
    "Given a non-empty 2D array grid of 0's and 1's, an island is a group of 1's (representing land) connected 4-directionally (horizontal or vertical.) You may assume all four edges of the grid are surrounded by water.\n",
    "\n",
    "Find the maximum area of an island in the given 2D array. (If there is no island, the maximum area is 0.)\n",
    "\n",
    "**Example 1:**\n",
    "\n",
    "\n",
    "    [[0,0,1,0,0,0,0,1,0,0,0,0,0],\n",
    "     [0,0,0,0,0,0,0,1,1,1,0,0,0],\n",
    "     [0,1,1,0,1,0,0,0,0,0,0,0,0],\n",
    "     [0,1,0,0,1,1,0,0,1,0,1,0,0],\n",
    "     [0,1,0,0,1,1,0,0,1,1,1,0,0],\n",
    "     [0,0,0,0,0,0,0,0,0,0,1,0,0],\n",
    "     [0,0,0,0,0,0,0,1,1,1,0,0,0],\n",
    "     [0,0,0,0,0,0,0,1,1,0,0,0,0]]\n",
    "\n",
    "Given the above grid, return 6. Note the answer is not 11, because the island must be connected 4-directionally.\n",
    "\n",
    "**Example 2:**\n",
    "\n",
    "    [[0,0,0,0,0,0,0,0]]\n",
    "\n",
    "Given the above grid, return 0.\n",
    "\n",
    "**Note:** The length of each dimension in the given grid does not exceed 50."
   ]
  },
  {
   "cell_type": "markdown",
   "metadata": {},
   "source": [
    "### Thought\n",
    "\n",
    "search the grid first. If it's 1 and then starts searching the nearby area."
   ]
  },
  {
   "cell_type": "code",
   "execution_count": null,
   "metadata": {
    "collapsed": true
   },
   "outputs": [],
   "source": [
    "def maxAreaOfIsland(grid):\n",
    "    \"\"\"\n",
    "    :type grid: List[List[int]]\n",
    "    :rtype: int\n",
    "    \"\"\"\n",
    "\n",
    "    def dfs(i,j):\n",
    "        if 0<=i<len(grid) and 0<=j<len(grid[0]) and grid[i][j]:\n",
    "            grid[i][j]=0            \n",
    "            return 1+dfs(i+1,j)+dfs(i-1,j)+dfs(i,j+1)+dfs(i,j-1)\n",
    "        return 0\n",
    "\n",
    "\n",
    "    res=0\n",
    "    for i in range(len(grid)):\n",
    "        for j in range(len(grid[0])):\n",
    "            if grid[i][j]:\n",
    "                res=max(res,dfs(i,j))   \n",
    "\n",
    "    return res"
   ]
  }
 ],
 "metadata": {
  "kernelspec": {
   "display_name": "Python 3",
   "language": "python",
   "name": "python3"
  },
  "language_info": {
   "codemirror_mode": {
    "name": "ipython",
    "version": 3
   },
   "file_extension": ".py",
   "mimetype": "text/x-python",
   "name": "python",
   "nbconvert_exporter": "python",
   "pygments_lexer": "ipython3",
   "version": "3.6.3"
  }
 },
 "nbformat": 4,
 "nbformat_minor": 2
}
