{
 "cells": [
  {
   "cell_type": "markdown",
   "metadata": {},
   "source": [
    "Given two integers n and k, return all possible combinations of k numbers out of 1 ... n.\n",
    "\n",
    "**Example:**\n",
    "\n",
    "    Input: n = 4, k = 2\n",
    "    Output:\n",
    "    [\n",
    "      [2,4],\n",
    "      [3,4],\n",
    "      [2,3],\n",
    "      [1,2],\n",
    "      [1,3],\n",
    "      [1,4],\n",
    "    ]"
   ]
  },
  {
   "cell_type": "markdown",
   "metadata": {},
   "source": [
    "### Thought\n",
    "My own code\n",
    "\n",
    "poor performance. 58%"
   ]
  },
  {
   "cell_type": "code",
   "execution_count": 2,
   "metadata": {},
   "outputs": [
    {
     "data": {
      "text/plain": [
       "[[1, 2, 3],\n",
       " [1, 2, 4],\n",
       " [1, 2, 5],\n",
       " [1, 3, 4],\n",
       " [1, 3, 5],\n",
       " [1, 4, 5],\n",
       " [2, 3, 4],\n",
       " [2, 3, 5],\n",
       " [2, 4, 5],\n",
       " [3, 4, 5]]"
      ]
     },
     "execution_count": 2,
     "metadata": {},
     "output_type": "execute_result"
    }
   ],
   "source": [
    "def combine(self, n, k):\n",
    "        \"\"\"\n",
    "        :type n: int\n",
    "        :type k: int\n",
    "        :rtype: List[List[int]]\n",
    "        \"\"\"\n",
    "        #recursive\n",
    "        def helper(n,k,ans,res,start):\n",
    "            if k == 0:\n",
    "                res.append(ans)\n",
    "                return\n",
    "            for i in range(start,n+1):\n",
    "                helper(n,k-1,ans+[i],res,i+1)\n",
    "            return res\n",
    "        return helper(n,k,[],[],1)\n",
    "combine(0,5,3)"
   ]
  },
  {
   "cell_type": "markdown",
   "metadata": {},
   "source": [
    "[From discussion](https://leetcode.com/problems/combinations/discuss/27029/AC-Python-backtracking-iterative-solution-60-ms?page=1)\n",
    "\n",
    "I think n-x+1 < k-l is easier to understand.\n",
    "\n",
    "One combination has **k** numbers, and currently we already have **l** numbers, so we need to find another **k-l** numbers. Since we insert the numbers into stack in the ascending order, we want to make sure that there are **enough larger numbers** to be inserted. From **x to n, there are n-x+1 numbers that are larger than the numbers in the current stack.** So if **n-x+1 < k-l**, it means that not enough larger numbers to be inserted, so we track back.\n",
    "\n",
    "    if l == k or n-x+1 < k-l:\n",
    "        if not stack:\n",
    "            return res\n",
    "        x = stack.pop() + 1\n",
    "        l -= 1"
   ]
  },
  {
   "cell_type": "code",
   "execution_count": null,
   "metadata": {
    "collapsed": true
   },
   "outputs": [],
   "source": [
    "def combine(self, n, k):\n",
    "        \"\"\"\n",
    "        :type n: int\n",
    "        :type k: int\n",
    "        :rtype: List[List[int]]\n",
    "        \"\"\"\n",
    "        stack = []\n",
    "        res = []\n",
    "        l, x = 0, 1\n",
    "        while True:\n",
    "            #print(stack)\n",
    "            if l == k:\n",
    "                res.append(stack[:])\n",
    "            if l == k or n-x+1 < k-l:\n",
    "                #print(n-x+1,k-l)\n",
    "                if not stack:\n",
    "                    return res\n",
    "                x = stack.pop() + 1\n",
    "                l -= 1\n",
    "            else:\n",
    "                stack.append(x)\n",
    "                x += 1\n",
    "                l += 1"
   ]
  }
 ],
 "metadata": {
  "kernelspec": {
   "display_name": "Python 3",
   "language": "python",
   "name": "python3"
  },
  "language_info": {
   "codemirror_mode": {
    "name": "ipython",
    "version": 3
   },
   "file_extension": ".py",
   "mimetype": "text/x-python",
   "name": "python",
   "nbconvert_exporter": "python",
   "pygments_lexer": "ipython3",
   "version": "3.6.3"
  }
 },
 "nbformat": 4,
 "nbformat_minor": 2
}
