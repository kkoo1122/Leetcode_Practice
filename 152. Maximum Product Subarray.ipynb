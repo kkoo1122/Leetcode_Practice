{
 "cells": [
  {
   "cell_type": "markdown",
   "metadata": {},
   "source": [
    "Given an integer array nums, find the contiguous subarray within an array (containing at least one number) which has the largest product.\n",
    "\n",
    "**Example 1:**\n",
    "\n",
    "    Input: [2,3,-2,4]\n",
    "    Output: 6\n",
    "\n",
    "*Explanation*: [2,3] has the largest product 6.\n",
    "\n",
    "**Example 2:**\n",
    "\n",
    "    Input: [-2,0,-1]\n",
    "    Output: 0\n",
    "\n",
    "*Explanation*: The result cannot be 2, because [-2,-1] is not a subarray."
   ]
  },
  {
   "cell_type": "markdown",
   "metadata": {},
   "source": [
    "### Thought\n",
    "\n",
    "If it includes negative number, we need to find out the minimum number. Because two negative multiply might become the maximum positive result."
   ]
  },
  {
   "cell_type": "code",
   "execution_count": null,
   "metadata": {
    "collapsed": true
   },
   "outputs": [],
   "source": [
    "def maxProduct(self, nums):\n",
    "    \"\"\"\n",
    "    :type nums: List[int]\n",
    "    :rtype: int\n",
    "    \"\"\"\n",
    "    cur_mini, cur_maxi, MAX = nums[0], nums[0], nums[0]\n",
    "\n",
    "    for i in nums[1:]:\n",
    "        if i < 0:\n",
    "            cur_mini, cur_maxi = cur_maxi, cur_mini\n",
    "\n",
    "        cur_mini=min(i,cur_mini*i)\n",
    "        cur_maxi=max(i,cur_maxi*i)\n",
    "\n",
    "        if cur_maxi>MAX:\n",
    "            MAX=cur_maxi\n",
    "\n",
    "    return MAX"
   ]
  }
 ],
 "metadata": {
  "kernelspec": {
   "display_name": "Python 3",
   "language": "python",
   "name": "python3"
  },
  "language_info": {
   "codemirror_mode": {
    "name": "ipython",
    "version": 3
   },
   "file_extension": ".py",
   "mimetype": "text/x-python",
   "name": "python",
   "nbconvert_exporter": "python",
   "pygments_lexer": "ipython3",
   "version": "3.6.3"
  }
 },
 "nbformat": 4,
 "nbformat_minor": 2
}
